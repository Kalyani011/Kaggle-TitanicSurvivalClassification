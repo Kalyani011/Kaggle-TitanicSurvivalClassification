{
 "cells": [
  {
   "cell_type": "code",
   "execution_count": 1,
   "id": "7eea795e",
   "metadata": {
    "_cell_guid": "b1076dfc-b9ad-4769-8c92-a6c4dae69d19",
    "_uuid": "8f2839f25d086af736a60e9eeb907d3b93b6e0e5",
    "execution": {
     "iopub.execute_input": "2022-11-13T06:18:00.151027Z",
     "iopub.status.busy": "2022-11-13T06:18:00.149880Z",
     "iopub.status.idle": "2022-11-13T06:18:00.164437Z",
     "shell.execute_reply": "2022-11-13T06:18:00.162813Z"
    },
    "papermill": {
     "duration": 0.026235,
     "end_time": "2022-11-13T06:18:00.167616",
     "exception": false,
     "start_time": "2022-11-13T06:18:00.141381",
     "status": "completed"
    },
    "tags": []
   },
   "outputs": [],
   "source": [
    "# Python Library Imports\n",
    "import numpy as np # linear algebra\n",
    "import pandas as pd # data processing, CSV file I/O (e.g. pd.read_csv)"
   ]
  },
  {
   "cell_type": "markdown",
   "id": "3ac59265",
   "metadata": {
    "papermill": {
     "duration": 0.004018,
     "end_time": "2022-11-13T06:18:00.176370",
     "exception": false,
     "start_time": "2022-11-13T06:18:00.172352",
     "status": "completed"
    },
    "tags": []
   },
   "source": [
    "# Reading Labelled Data:"
   ]
  },
  {
   "cell_type": "code",
   "execution_count": 2,
   "id": "9e89000c",
   "metadata": {
    "execution": {
     "iopub.execute_input": "2022-11-13T06:18:00.187336Z",
     "iopub.status.busy": "2022-11-13T06:18:00.186875Z",
     "iopub.status.idle": "2022-11-13T06:18:00.215678Z",
     "shell.execute_reply": "2022-11-13T06:18:00.214366Z"
    },
    "papermill": {
     "duration": 0.037897,
     "end_time": "2022-11-13T06:18:00.218580",
     "exception": false,
     "start_time": "2022-11-13T06:18:00.180683",
     "status": "completed"
    },
    "tags": []
   },
   "outputs": [],
   "source": [
    "data = pd.read_csv('/kaggle/input/titanic/train.csv')"
   ]
  },
  {
   "cell_type": "markdown",
   "id": "13744d94",
   "metadata": {
    "papermill": {
     "duration": 0.00421,
     "end_time": "2022-11-13T06:18:00.227420",
     "exception": false,
     "start_time": "2022-11-13T06:18:00.223210",
     "status": "completed"
    },
    "tags": []
   },
   "source": [
    "# Examining Data:"
   ]
  },
  {
   "cell_type": "code",
   "execution_count": 3,
   "id": "6d5f7a59",
   "metadata": {
    "execution": {
     "iopub.execute_input": "2022-11-13T06:18:00.238978Z",
     "iopub.status.busy": "2022-11-13T06:18:00.238172Z",
     "iopub.status.idle": "2022-11-13T06:18:00.271303Z",
     "shell.execute_reply": "2022-11-13T06:18:00.269970Z"
    },
    "papermill": {
     "duration": 0.042546,
     "end_time": "2022-11-13T06:18:00.274492",
     "exception": false,
     "start_time": "2022-11-13T06:18:00.231946",
     "status": "completed"
    },
    "tags": []
   },
   "outputs": [
    {
     "data": {
      "text/html": [
       "<div>\n",
       "<style scoped>\n",
       "    .dataframe tbody tr th:only-of-type {\n",
       "        vertical-align: middle;\n",
       "    }\n",
       "\n",
       "    .dataframe tbody tr th {\n",
       "        vertical-align: top;\n",
       "    }\n",
       "\n",
       "    .dataframe thead th {\n",
       "        text-align: right;\n",
       "    }\n",
       "</style>\n",
       "<table border=\"1\" class=\"dataframe\">\n",
       "  <thead>\n",
       "    <tr style=\"text-align: right;\">\n",
       "      <th></th>\n",
       "      <th>PassengerId</th>\n",
       "      <th>Survived</th>\n",
       "      <th>Pclass</th>\n",
       "      <th>Name</th>\n",
       "      <th>Sex</th>\n",
       "      <th>Age</th>\n",
       "      <th>SibSp</th>\n",
       "      <th>Parch</th>\n",
       "      <th>Ticket</th>\n",
       "      <th>Fare</th>\n",
       "      <th>Cabin</th>\n",
       "      <th>Embarked</th>\n",
       "    </tr>\n",
       "  </thead>\n",
       "  <tbody>\n",
       "    <tr>\n",
       "      <th>0</th>\n",
       "      <td>1</td>\n",
       "      <td>0</td>\n",
       "      <td>3</td>\n",
       "      <td>Braund, Mr. Owen Harris</td>\n",
       "      <td>male</td>\n",
       "      <td>22.0</td>\n",
       "      <td>1</td>\n",
       "      <td>0</td>\n",
       "      <td>A/5 21171</td>\n",
       "      <td>7.2500</td>\n",
       "      <td>NaN</td>\n",
       "      <td>S</td>\n",
       "    </tr>\n",
       "    <tr>\n",
       "      <th>1</th>\n",
       "      <td>2</td>\n",
       "      <td>1</td>\n",
       "      <td>1</td>\n",
       "      <td>Cumings, Mrs. John Bradley (Florence Briggs Th...</td>\n",
       "      <td>female</td>\n",
       "      <td>38.0</td>\n",
       "      <td>1</td>\n",
       "      <td>0</td>\n",
       "      <td>PC 17599</td>\n",
       "      <td>71.2833</td>\n",
       "      <td>C85</td>\n",
       "      <td>C</td>\n",
       "    </tr>\n",
       "    <tr>\n",
       "      <th>2</th>\n",
       "      <td>3</td>\n",
       "      <td>1</td>\n",
       "      <td>3</td>\n",
       "      <td>Heikkinen, Miss. Laina</td>\n",
       "      <td>female</td>\n",
       "      <td>26.0</td>\n",
       "      <td>0</td>\n",
       "      <td>0</td>\n",
       "      <td>STON/O2. 3101282</td>\n",
       "      <td>7.9250</td>\n",
       "      <td>NaN</td>\n",
       "      <td>S</td>\n",
       "    </tr>\n",
       "    <tr>\n",
       "      <th>3</th>\n",
       "      <td>4</td>\n",
       "      <td>1</td>\n",
       "      <td>1</td>\n",
       "      <td>Futrelle, Mrs. Jacques Heath (Lily May Peel)</td>\n",
       "      <td>female</td>\n",
       "      <td>35.0</td>\n",
       "      <td>1</td>\n",
       "      <td>0</td>\n",
       "      <td>113803</td>\n",
       "      <td>53.1000</td>\n",
       "      <td>C123</td>\n",
       "      <td>S</td>\n",
       "    </tr>\n",
       "    <tr>\n",
       "      <th>4</th>\n",
       "      <td>5</td>\n",
       "      <td>0</td>\n",
       "      <td>3</td>\n",
       "      <td>Allen, Mr. William Henry</td>\n",
       "      <td>male</td>\n",
       "      <td>35.0</td>\n",
       "      <td>0</td>\n",
       "      <td>0</td>\n",
       "      <td>373450</td>\n",
       "      <td>8.0500</td>\n",
       "      <td>NaN</td>\n",
       "      <td>S</td>\n",
       "    </tr>\n",
       "  </tbody>\n",
       "</table>\n",
       "</div>"
      ],
      "text/plain": [
       "   PassengerId  Survived  Pclass  \\\n",
       "0            1         0       3   \n",
       "1            2         1       1   \n",
       "2            3         1       3   \n",
       "3            4         1       1   \n",
       "4            5         0       3   \n",
       "\n",
       "                                                Name     Sex   Age  SibSp  \\\n",
       "0                            Braund, Mr. Owen Harris    male  22.0      1   \n",
       "1  Cumings, Mrs. John Bradley (Florence Briggs Th...  female  38.0      1   \n",
       "2                             Heikkinen, Miss. Laina  female  26.0      0   \n",
       "3       Futrelle, Mrs. Jacques Heath (Lily May Peel)  female  35.0      1   \n",
       "4                           Allen, Mr. William Henry    male  35.0      0   \n",
       "\n",
       "   Parch            Ticket     Fare Cabin Embarked  \n",
       "0      0         A/5 21171   7.2500   NaN        S  \n",
       "1      0          PC 17599  71.2833   C85        C  \n",
       "2      0  STON/O2. 3101282   7.9250   NaN        S  \n",
       "3      0            113803  53.1000  C123        S  \n",
       "4      0            373450   8.0500   NaN        S  "
      ]
     },
     "execution_count": 3,
     "metadata": {},
     "output_type": "execute_result"
    }
   ],
   "source": [
    "data.head()"
   ]
  },
  {
   "cell_type": "code",
   "execution_count": 4,
   "id": "57a32881",
   "metadata": {
    "execution": {
     "iopub.execute_input": "2022-11-13T06:18:00.286943Z",
     "iopub.status.busy": "2022-11-13T06:18:00.285731Z",
     "iopub.status.idle": "2022-11-13T06:18:00.305313Z",
     "shell.execute_reply": "2022-11-13T06:18:00.303811Z"
    },
    "papermill": {
     "duration": 0.02905,
     "end_time": "2022-11-13T06:18:00.308366",
     "exception": false,
     "start_time": "2022-11-13T06:18:00.279316",
     "status": "completed"
    },
    "tags": []
   },
   "outputs": [
    {
     "data": {
      "text/html": [
       "<div>\n",
       "<style scoped>\n",
       "    .dataframe tbody tr th:only-of-type {\n",
       "        vertical-align: middle;\n",
       "    }\n",
       "\n",
       "    .dataframe tbody tr th {\n",
       "        vertical-align: top;\n",
       "    }\n",
       "\n",
       "    .dataframe thead th {\n",
       "        text-align: right;\n",
       "    }\n",
       "</style>\n",
       "<table border=\"1\" class=\"dataframe\">\n",
       "  <thead>\n",
       "    <tr style=\"text-align: right;\">\n",
       "      <th></th>\n",
       "      <th>PassengerId</th>\n",
       "      <th>Survived</th>\n",
       "      <th>Pclass</th>\n",
       "      <th>Name</th>\n",
       "      <th>Sex</th>\n",
       "      <th>Age</th>\n",
       "      <th>SibSp</th>\n",
       "      <th>Parch</th>\n",
       "      <th>Ticket</th>\n",
       "      <th>Fare</th>\n",
       "      <th>Cabin</th>\n",
       "      <th>Embarked</th>\n",
       "    </tr>\n",
       "  </thead>\n",
       "  <tbody>\n",
       "    <tr>\n",
       "      <th>886</th>\n",
       "      <td>887</td>\n",
       "      <td>0</td>\n",
       "      <td>2</td>\n",
       "      <td>Montvila, Rev. Juozas</td>\n",
       "      <td>male</td>\n",
       "      <td>27.0</td>\n",
       "      <td>0</td>\n",
       "      <td>0</td>\n",
       "      <td>211536</td>\n",
       "      <td>13.00</td>\n",
       "      <td>NaN</td>\n",
       "      <td>S</td>\n",
       "    </tr>\n",
       "    <tr>\n",
       "      <th>887</th>\n",
       "      <td>888</td>\n",
       "      <td>1</td>\n",
       "      <td>1</td>\n",
       "      <td>Graham, Miss. Margaret Edith</td>\n",
       "      <td>female</td>\n",
       "      <td>19.0</td>\n",
       "      <td>0</td>\n",
       "      <td>0</td>\n",
       "      <td>112053</td>\n",
       "      <td>30.00</td>\n",
       "      <td>B42</td>\n",
       "      <td>S</td>\n",
       "    </tr>\n",
       "    <tr>\n",
       "      <th>888</th>\n",
       "      <td>889</td>\n",
       "      <td>0</td>\n",
       "      <td>3</td>\n",
       "      <td>Johnston, Miss. Catherine Helen \"Carrie\"</td>\n",
       "      <td>female</td>\n",
       "      <td>NaN</td>\n",
       "      <td>1</td>\n",
       "      <td>2</td>\n",
       "      <td>W./C. 6607</td>\n",
       "      <td>23.45</td>\n",
       "      <td>NaN</td>\n",
       "      <td>S</td>\n",
       "    </tr>\n",
       "    <tr>\n",
       "      <th>889</th>\n",
       "      <td>890</td>\n",
       "      <td>1</td>\n",
       "      <td>1</td>\n",
       "      <td>Behr, Mr. Karl Howell</td>\n",
       "      <td>male</td>\n",
       "      <td>26.0</td>\n",
       "      <td>0</td>\n",
       "      <td>0</td>\n",
       "      <td>111369</td>\n",
       "      <td>30.00</td>\n",
       "      <td>C148</td>\n",
       "      <td>C</td>\n",
       "    </tr>\n",
       "    <tr>\n",
       "      <th>890</th>\n",
       "      <td>891</td>\n",
       "      <td>0</td>\n",
       "      <td>3</td>\n",
       "      <td>Dooley, Mr. Patrick</td>\n",
       "      <td>male</td>\n",
       "      <td>32.0</td>\n",
       "      <td>0</td>\n",
       "      <td>0</td>\n",
       "      <td>370376</td>\n",
       "      <td>7.75</td>\n",
       "      <td>NaN</td>\n",
       "      <td>Q</td>\n",
       "    </tr>\n",
       "  </tbody>\n",
       "</table>\n",
       "</div>"
      ],
      "text/plain": [
       "     PassengerId  Survived  Pclass                                      Name  \\\n",
       "886          887         0       2                     Montvila, Rev. Juozas   \n",
       "887          888         1       1              Graham, Miss. Margaret Edith   \n",
       "888          889         0       3  Johnston, Miss. Catherine Helen \"Carrie\"   \n",
       "889          890         1       1                     Behr, Mr. Karl Howell   \n",
       "890          891         0       3                       Dooley, Mr. Patrick   \n",
       "\n",
       "        Sex   Age  SibSp  Parch      Ticket   Fare Cabin Embarked  \n",
       "886    male  27.0      0      0      211536  13.00   NaN        S  \n",
       "887  female  19.0      0      0      112053  30.00   B42        S  \n",
       "888  female   NaN      1      2  W./C. 6607  23.45   NaN        S  \n",
       "889    male  26.0      0      0      111369  30.00  C148        C  \n",
       "890    male  32.0      0      0      370376   7.75   NaN        Q  "
      ]
     },
     "execution_count": 4,
     "metadata": {},
     "output_type": "execute_result"
    }
   ],
   "source": [
    "data.tail()"
   ]
  },
  {
   "cell_type": "code",
   "execution_count": 5,
   "id": "3b06ea9b",
   "metadata": {
    "execution": {
     "iopub.execute_input": "2022-11-13T06:18:00.320534Z",
     "iopub.status.busy": "2022-11-13T06:18:00.320107Z",
     "iopub.status.idle": "2022-11-13T06:18:00.344876Z",
     "shell.execute_reply": "2022-11-13T06:18:00.343920Z"
    },
    "papermill": {
     "duration": 0.03419,
     "end_time": "2022-11-13T06:18:00.347746",
     "exception": false,
     "start_time": "2022-11-13T06:18:00.313556",
     "status": "completed"
    },
    "tags": []
   },
   "outputs": [
    {
     "name": "stdout",
     "output_type": "stream",
     "text": [
      "(891, 12)\n",
      "False\n"
     ]
    }
   ],
   "source": [
    "# Checking the number of rows (observations) and columns (attributes) in the data\n",
    "print(data.shape)\n",
    "\n",
    "# Checking if the data has any repeated or duplicate rows or observation samples\n",
    "print(data.duplicated().any())"
   ]
  },
  {
   "cell_type": "markdown",
   "id": "07989a8f",
   "metadata": {
    "papermill": {
     "duration": 0.004667,
     "end_time": "2022-11-13T06:18:00.357633",
     "exception": false,
     "start_time": "2022-11-13T06:18:00.352966",
     "status": "completed"
    },
    "tags": []
   },
   "source": [
    "**The data contains 891 observations or unique samples. The 12 columns correspond to the 12 attributes of the data. The Survived column represents the target variable, the variable whose value is to be predicted. The model needs to be trained to learn from the data to predict value of Survival for any new observation.**"
   ]
  },
  {
   "cell_type": "code",
   "execution_count": 6,
   "id": "6a1f7e31",
   "metadata": {
    "execution": {
     "iopub.execute_input": "2022-11-13T06:18:00.369323Z",
     "iopub.status.busy": "2022-11-13T06:18:00.368820Z",
     "iopub.status.idle": "2022-11-13T06:18:00.379206Z",
     "shell.execute_reply": "2022-11-13T06:18:00.377798Z"
    },
    "papermill": {
     "duration": 0.019155,
     "end_time": "2022-11-13T06:18:00.381599",
     "exception": false,
     "start_time": "2022-11-13T06:18:00.362444",
     "status": "completed"
    },
    "tags": []
   },
   "outputs": [
    {
     "data": {
      "text/plain": [
       "PassengerId      int64\n",
       "Survived         int64\n",
       "Pclass           int64\n",
       "Name            object\n",
       "Sex             object\n",
       "Age            float64\n",
       "SibSp            int64\n",
       "Parch            int64\n",
       "Ticket          object\n",
       "Fare           float64\n",
       "Cabin           object\n",
       "Embarked        object\n",
       "dtype: object"
      ]
     },
     "execution_count": 6,
     "metadata": {},
     "output_type": "execute_result"
    }
   ],
   "source": [
    "data.dtypes"
   ]
  },
  {
   "cell_type": "markdown",
   "id": "6cac4a46",
   "metadata": {
    "papermill": {
     "duration": 0.005181,
     "end_time": "2022-11-13T06:18:00.391875",
     "exception": false,
     "start_time": "2022-11-13T06:18:00.386694",
     "status": "completed"
    },
    "tags": []
   },
   "source": [
    "**The data contains 11 fields, excluding the target variable \"Survived\". The data has 5 categorical features and 6 numerical features.**\n",
    "\n",
    "**The Categorical Features are:**\n",
    "1. Name\n",
    "2. Sex\n",
    "3. Ticket\n",
    "4. Cabin\n",
    "5. Embarked\n",
    "\n",
    "**The Numerical Features are:**\n",
    "1. PassengerId\n",
    "2. Pclass\n",
    "3. Age\n",
    "4. SibSp\n",
    "5. Parch\n",
    "6. Fare"
   ]
  },
  {
   "cell_type": "code",
   "execution_count": 7,
   "id": "d29e37cb",
   "metadata": {
    "execution": {
     "iopub.execute_input": "2022-11-13T06:18:00.404452Z",
     "iopub.status.busy": "2022-11-13T06:18:00.403894Z",
     "iopub.status.idle": "2022-11-13T06:18:00.412427Z",
     "shell.execute_reply": "2022-11-13T06:18:00.411106Z"
    },
    "papermill": {
     "duration": 0.018307,
     "end_time": "2022-11-13T06:18:00.415547",
     "exception": false,
     "start_time": "2022-11-13T06:18:00.397240",
     "status": "completed"
    },
    "tags": []
   },
   "outputs": [
    {
     "name": "stdout",
     "output_type": "stream",
     "text": [
      "PassengerId attribute unique values and their counts in the data. 891\n",
      "Name attribute unique values and their counts in the data. 891\n"
     ]
    }
   ],
   "source": [
    "# Checking the unique values in PassengerId and Name, \n",
    "# as these would be usually be expected to have different values for each observation.\n",
    "print(f\"PassengerId attribute unique values and their counts in the data. {data['PassengerId'].nunique()}\")\n",
    "print(f\"Name attribute unique values and their counts in the data. {data['Name'].nunique()}\")"
   ]
  },
  {
   "cell_type": "markdown",
   "id": "9896f1fe",
   "metadata": {
    "papermill": {
     "duration": 0.005365,
     "end_time": "2022-11-13T06:18:00.426191",
     "exception": false,
     "start_time": "2022-11-13T06:18:00.420826",
     "status": "completed"
    },
    "tags": []
   },
   "source": [
    "**As can be seen from above output both PassengerId and Name have no duplicates, each entry for these attributes is unique. Thus, these fields can be removed from the data as they would not add any value to the model learning.**"
   ]
  },
  {
   "cell_type": "code",
   "execution_count": 8,
   "id": "45d62bae",
   "metadata": {
    "execution": {
     "iopub.execute_input": "2022-11-13T06:18:00.438900Z",
     "iopub.status.busy": "2022-11-13T06:18:00.438402Z",
     "iopub.status.idle": "2022-11-13T06:18:00.467541Z",
     "shell.execute_reply": "2022-11-13T06:18:00.465626Z"
    },
    "papermill": {
     "duration": 0.038739,
     "end_time": "2022-11-13T06:18:00.470224",
     "exception": false,
     "start_time": "2022-11-13T06:18:00.431485",
     "status": "completed"
    },
    "tags": []
   },
   "outputs": [
    {
     "name": "stdout",
     "output_type": "stream",
     "text": [
      "\n",
      " SibSp\n",
      "   0         1\n",
      "0  0  0.345395\n",
      "1  1  0.535885\n",
      "2  2  0.464286\n",
      "3  3  0.250000\n",
      "4  4  0.166667\n",
      "5  5  0.000000\n",
      "6  8  0.000000\n",
      "\n",
      " Parch\n",
      "   0         1\n",
      "0  0  0.343658\n",
      "1  1  0.550847\n",
      "2  2  0.500000\n",
      "3  3  0.600000\n",
      "4  4  0.000000\n",
      "5  5  0.200000\n",
      "6  6  0.000000\n"
     ]
    }
   ],
   "source": [
    "# SibSp represents the Number of accompanying sibling or spouses of the passenger.\n",
    "# print(\"SibSp Values and Counts:\\n\",data['SibSp'].value_counts())\n",
    "\n",
    "# Parch represents the Number of accompanying children or parents of the passenger.\n",
    "# print(\"Parch Values and Counts:\\n\",data['Parch'].value_counts())\n",
    "\n",
    "for index, feature in enumerate(['SibSp', 'Parch']):\n",
    "    print(\"\\n\", feature)\n",
    "    feature_stat = dict(data[feature].value_counts())\n",
    "    values = []\n",
    "    rates = []\n",
    "    for feature_val in feature_stat:\n",
    "        values.append(feature_val)\n",
    "        value = data.loc[data[feature] == feature_val][\"Survived\"]\n",
    "        rates.append(sum(value) / len(value))\n",
    "    \n",
    "    print(pd.DataFrame(sorted(zip(values, rates))))"
   ]
  },
  {
   "cell_type": "markdown",
   "id": "b8517599",
   "metadata": {
    "papermill": {
     "duration": 0.005037,
     "end_time": "2022-11-13T06:18:00.480716",
     "exception": false,
     "start_time": "2022-11-13T06:18:00.475679",
     "status": "completed"
    },
    "tags": []
   },
   "source": [
    "Both SibSP and Parch features essentially represent the number of people accompanying the passenger. As it would be expected for groups of people to stay together on the titanic or leaving on the life boats based on their familial ties, the two fields can be combined into one. The survival rate also suggest similar hypothesis, the percentage of survival of passengers with 1 or 2 companions is higher compared to those who had no companions or had way too many companions."
   ]
  },
  {
   "cell_type": "code",
   "execution_count": 9,
   "id": "109161a0",
   "metadata": {
    "execution": {
     "iopub.execute_input": "2022-11-13T06:18:00.493366Z",
     "iopub.status.busy": "2022-11-13T06:18:00.492905Z",
     "iopub.status.idle": "2022-11-13T06:18:00.502760Z",
     "shell.execute_reply": "2022-11-13T06:18:00.501046Z"
    },
    "papermill": {
     "duration": 0.019724,
     "end_time": "2022-11-13T06:18:00.505653",
     "exception": false,
     "start_time": "2022-11-13T06:18:00.485929",
     "status": "completed"
    },
    "tags": []
   },
   "outputs": [],
   "source": [
    "# Combining number of accompanying sibling, spouses, children and parents of passenger into one column.\n",
    "data['Companions'] = data['SibSp'] + data['Parch']\n",
    "# Removing the redundant columns\n",
    "_data = data.drop(['SibSp', 'Parch'], axis = 1)"
   ]
  },
  {
   "cell_type": "markdown",
   "id": "ac287d20",
   "metadata": {
    "papermill": {
     "duration": 0.004827,
     "end_time": "2022-11-13T06:18:00.517367",
     "exception": false,
     "start_time": "2022-11-13T06:18:00.512540",
     "status": "completed"
    },
    "tags": []
   },
   "source": [
    "# Next: Discretize Fare"
   ]
  },
  {
   "cell_type": "code",
   "execution_count": null,
   "id": "593a71bb",
   "metadata": {
    "papermill": {
     "duration": 0.004823,
     "end_time": "2022-11-13T06:18:00.527312",
     "exception": false,
     "start_time": "2022-11-13T06:18:00.522489",
     "status": "completed"
    },
    "tags": []
   },
   "outputs": [],
   "source": []
  }
 ],
 "metadata": {
  "kernelspec": {
   "display_name": "Python 3",
   "language": "python",
   "name": "python3"
  },
  "language_info": {
   "codemirror_mode": {
    "name": "ipython",
    "version": 3
   },
   "file_extension": ".py",
   "mimetype": "text/x-python",
   "name": "python",
   "nbconvert_exporter": "python",
   "pygments_lexer": "ipython3",
   "version": "3.7.12"
  },
  "papermill": {
   "default_parameters": {},
   "duration": 10.612418,
   "end_time": "2022-11-13T06:18:01.458045",
   "environment_variables": {},
   "exception": null,
   "input_path": "__notebook__.ipynb",
   "output_path": "__notebook__.ipynb",
   "parameters": {},
   "start_time": "2022-11-13T06:17:50.845627",
   "version": "2.3.4"
  }
 },
 "nbformat": 4,
 "nbformat_minor": 5
}
