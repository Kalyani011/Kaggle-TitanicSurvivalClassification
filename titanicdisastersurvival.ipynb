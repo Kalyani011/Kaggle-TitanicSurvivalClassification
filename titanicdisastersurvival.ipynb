{
 "cells": [
  {
   "cell_type": "code",
   "execution_count": 1,
   "id": "caa3a78f",
   "metadata": {
    "_cell_guid": "b1076dfc-b9ad-4769-8c92-a6c4dae69d19",
    "_uuid": "8f2839f25d086af736a60e9eeb907d3b93b6e0e5",
    "execution": {
     "iopub.execute_input": "2022-11-11T11:40:43.824843Z",
     "iopub.status.busy": "2022-11-11T11:40:43.824256Z",
     "iopub.status.idle": "2022-11-11T11:40:43.837746Z",
     "shell.execute_reply": "2022-11-11T11:40:43.836447Z"
    },
    "papermill": {
     "duration": 0.031015,
     "end_time": "2022-11-11T11:40:43.841124",
     "exception": false,
     "start_time": "2022-11-11T11:40:43.810109",
     "status": "completed"
    },
    "tags": []
   },
   "outputs": [],
   "source": [
    "import numpy as np # linear algebra\n",
    "import pandas as pd # data processing, CSV file I/O (e.g. pd.read_csv)"
   ]
  },
  {
   "cell_type": "code",
   "execution_count": 2,
   "id": "437aa02c",
   "metadata": {
    "execution": {
     "iopub.execute_input": "2022-11-11T11:40:43.862897Z",
     "iopub.status.busy": "2022-11-11T11:40:43.862408Z",
     "iopub.status.idle": "2022-11-11T11:40:43.884085Z",
     "shell.execute_reply": "2022-11-11T11:40:43.882871Z"
    },
    "papermill": {
     "duration": 0.036865,
     "end_time": "2022-11-11T11:40:43.886861",
     "exception": false,
     "start_time": "2022-11-11T11:40:43.849996",
     "status": "completed"
    },
    "tags": []
   },
   "outputs": [],
   "source": [
    "train_data = pd.read_csv('/kaggle/input/titanic/train.csv')"
   ]
  },
  {
   "cell_type": "code",
   "execution_count": 3,
   "id": "11803179",
   "metadata": {
    "execution": {
     "iopub.execute_input": "2022-11-11T11:40:43.909228Z",
     "iopub.status.busy": "2022-11-11T11:40:43.908461Z",
     "iopub.status.idle": "2022-11-11T11:40:43.941238Z",
     "shell.execute_reply": "2022-11-11T11:40:43.940011Z"
    },
    "papermill": {
     "duration": 0.048394,
     "end_time": "2022-11-11T11:40:43.944498",
     "exception": false,
     "start_time": "2022-11-11T11:40:43.896104",
     "status": "completed"
    },
    "tags": []
   },
   "outputs": [
    {
     "data": {
      "text/html": [
       "<div>\n",
       "<style scoped>\n",
       "    .dataframe tbody tr th:only-of-type {\n",
       "        vertical-align: middle;\n",
       "    }\n",
       "\n",
       "    .dataframe tbody tr th {\n",
       "        vertical-align: top;\n",
       "    }\n",
       "\n",
       "    .dataframe thead th {\n",
       "        text-align: right;\n",
       "    }\n",
       "</style>\n",
       "<table border=\"1\" class=\"dataframe\">\n",
       "  <thead>\n",
       "    <tr style=\"text-align: right;\">\n",
       "      <th></th>\n",
       "      <th>PassengerId</th>\n",
       "      <th>Survived</th>\n",
       "      <th>Pclass</th>\n",
       "      <th>Name</th>\n",
       "      <th>Sex</th>\n",
       "      <th>Age</th>\n",
       "      <th>SibSp</th>\n",
       "      <th>Parch</th>\n",
       "      <th>Ticket</th>\n",
       "      <th>Fare</th>\n",
       "      <th>Cabin</th>\n",
       "      <th>Embarked</th>\n",
       "    </tr>\n",
       "  </thead>\n",
       "  <tbody>\n",
       "    <tr>\n",
       "      <th>0</th>\n",
       "      <td>1</td>\n",
       "      <td>0</td>\n",
       "      <td>3</td>\n",
       "      <td>Braund, Mr. Owen Harris</td>\n",
       "      <td>male</td>\n",
       "      <td>22.0</td>\n",
       "      <td>1</td>\n",
       "      <td>0</td>\n",
       "      <td>A/5 21171</td>\n",
       "      <td>7.2500</td>\n",
       "      <td>NaN</td>\n",
       "      <td>S</td>\n",
       "    </tr>\n",
       "    <tr>\n",
       "      <th>1</th>\n",
       "      <td>2</td>\n",
       "      <td>1</td>\n",
       "      <td>1</td>\n",
       "      <td>Cumings, Mrs. John Bradley (Florence Briggs Th...</td>\n",
       "      <td>female</td>\n",
       "      <td>38.0</td>\n",
       "      <td>1</td>\n",
       "      <td>0</td>\n",
       "      <td>PC 17599</td>\n",
       "      <td>71.2833</td>\n",
       "      <td>C85</td>\n",
       "      <td>C</td>\n",
       "    </tr>\n",
       "    <tr>\n",
       "      <th>2</th>\n",
       "      <td>3</td>\n",
       "      <td>1</td>\n",
       "      <td>3</td>\n",
       "      <td>Heikkinen, Miss. Laina</td>\n",
       "      <td>female</td>\n",
       "      <td>26.0</td>\n",
       "      <td>0</td>\n",
       "      <td>0</td>\n",
       "      <td>STON/O2. 3101282</td>\n",
       "      <td>7.9250</td>\n",
       "      <td>NaN</td>\n",
       "      <td>S</td>\n",
       "    </tr>\n",
       "    <tr>\n",
       "      <th>3</th>\n",
       "      <td>4</td>\n",
       "      <td>1</td>\n",
       "      <td>1</td>\n",
       "      <td>Futrelle, Mrs. Jacques Heath (Lily May Peel)</td>\n",
       "      <td>female</td>\n",
       "      <td>35.0</td>\n",
       "      <td>1</td>\n",
       "      <td>0</td>\n",
       "      <td>113803</td>\n",
       "      <td>53.1000</td>\n",
       "      <td>C123</td>\n",
       "      <td>S</td>\n",
       "    </tr>\n",
       "    <tr>\n",
       "      <th>4</th>\n",
       "      <td>5</td>\n",
       "      <td>0</td>\n",
       "      <td>3</td>\n",
       "      <td>Allen, Mr. William Henry</td>\n",
       "      <td>male</td>\n",
       "      <td>35.0</td>\n",
       "      <td>0</td>\n",
       "      <td>0</td>\n",
       "      <td>373450</td>\n",
       "      <td>8.0500</td>\n",
       "      <td>NaN</td>\n",
       "      <td>S</td>\n",
       "    </tr>\n",
       "  </tbody>\n",
       "</table>\n",
       "</div>"
      ],
      "text/plain": [
       "   PassengerId  Survived  Pclass  \\\n",
       "0            1         0       3   \n",
       "1            2         1       1   \n",
       "2            3         1       3   \n",
       "3            4         1       1   \n",
       "4            5         0       3   \n",
       "\n",
       "                                                Name     Sex   Age  SibSp  \\\n",
       "0                            Braund, Mr. Owen Harris    male  22.0      1   \n",
       "1  Cumings, Mrs. John Bradley (Florence Briggs Th...  female  38.0      1   \n",
       "2                             Heikkinen, Miss. Laina  female  26.0      0   \n",
       "3       Futrelle, Mrs. Jacques Heath (Lily May Peel)  female  35.0      1   \n",
       "4                           Allen, Mr. William Henry    male  35.0      0   \n",
       "\n",
       "   Parch            Ticket     Fare Cabin Embarked  \n",
       "0      0         A/5 21171   7.2500   NaN        S  \n",
       "1      0          PC 17599  71.2833   C85        C  \n",
       "2      0  STON/O2. 3101282   7.9250   NaN        S  \n",
       "3      0            113803  53.1000  C123        S  \n",
       "4      0            373450   8.0500   NaN        S  "
      ]
     },
     "execution_count": 3,
     "metadata": {},
     "output_type": "execute_result"
    }
   ],
   "source": [
    "train_data.head()"
   ]
  },
  {
   "cell_type": "code",
   "execution_count": 4,
   "id": "4129ebd5",
   "metadata": {
    "execution": {
     "iopub.execute_input": "2022-11-11T11:40:43.966143Z",
     "iopub.status.busy": "2022-11-11T11:40:43.965112Z",
     "iopub.status.idle": "2022-11-11T11:40:43.980743Z",
     "shell.execute_reply": "2022-11-11T11:40:43.979125Z"
    },
    "papermill": {
     "duration": 0.029254,
     "end_time": "2022-11-11T11:40:43.983736",
     "exception": false,
     "start_time": "2022-11-11T11:40:43.954482",
     "status": "completed"
    },
    "tags": []
   },
   "outputs": [],
   "source": [
    "test_data = pd.read_csv('/kaggle/input/titanic/test.csv')"
   ]
  },
  {
   "cell_type": "markdown",
   "id": "ba626ad3",
   "metadata": {
    "papermill": {
     "duration": 0.008587,
     "end_time": "2022-11-11T11:40:44.001292",
     "exception": false,
     "start_time": "2022-11-11T11:40:43.992705",
     "status": "completed"
    },
    "tags": []
   },
   "source": [
    "## Data Analysis and Preprocessing:"
   ]
  },
  {
   "cell_type": "code",
   "execution_count": 5,
   "id": "df7e1967",
   "metadata": {
    "execution": {
     "iopub.execute_input": "2022-11-11T11:40:44.023732Z",
     "iopub.status.busy": "2022-11-11T11:40:44.023283Z",
     "iopub.status.idle": "2022-11-11T11:40:44.038976Z",
     "shell.execute_reply": "2022-11-11T11:40:44.036891Z"
    },
    "papermill": {
     "duration": 0.029443,
     "end_time": "2022-11-11T11:40:44.041896",
     "exception": false,
     "start_time": "2022-11-11T11:40:44.012453",
     "status": "completed"
    },
    "tags": []
   },
   "outputs": [
    {
     "name": "stdout",
     "output_type": "stream",
     "text": [
      "0    549\n",
      "1    342\n",
      "Name: Survived, dtype: int64\n",
      "61.62% Passengers Died\n",
      "38.38% Passengers Survived\n"
     ]
    }
   ],
   "source": [
    "# Survival Rate in Training Data\n",
    "survived_stat = train_data['Survived'].value_counts()\n",
    "print(survived_stat)\n",
    "died = survived_stat[0]\n",
    "survived = survived_stat[1]\n",
    "\n",
    "print(f\"{round((died / (died + survived)) * 100, 2)}% Passengers Died\")\n",
    "print(f\"{round((survived / (died + survived)) * 100, 2)}% Passengers Survived\")"
   ]
  },
  {
   "cell_type": "code",
   "execution_count": 6,
   "id": "a2bf9174",
   "metadata": {
    "execution": {
     "iopub.execute_input": "2022-11-11T11:40:44.062557Z",
     "iopub.status.busy": "2022-11-11T11:40:44.062167Z",
     "iopub.status.idle": "2022-11-11T11:40:44.068834Z",
     "shell.execute_reply": "2022-11-11T11:40:44.067202Z"
    },
    "papermill": {
     "duration": 0.019986,
     "end_time": "2022-11-11T11:40:44.071180",
     "exception": false,
     "start_time": "2022-11-11T11:40:44.051194",
     "status": "completed"
    },
    "tags": []
   },
   "outputs": [
    {
     "name": "stdout",
     "output_type": "stream",
     "text": [
      "['Pclass', 'Sex', 'Age', 'SibSp', 'Parch', 'Ticket', 'Fare', 'Cabin', 'Embarked']\n"
     ]
    }
   ],
   "source": [
    "dependents = [feature for feature in list(train_data.columns) if feature not in ['Survived', 'PassengerId', 'Name']]\n",
    "print(dependents)"
   ]
  },
  {
   "cell_type": "code",
   "execution_count": 7,
   "id": "f0925435",
   "metadata": {
    "execution": {
     "iopub.execute_input": "2022-11-11T11:40:44.091614Z",
     "iopub.status.busy": "2022-11-11T11:40:44.091189Z",
     "iopub.status.idle": "2022-11-11T11:40:44.791155Z",
     "shell.execute_reply": "2022-11-11T11:40:44.789982Z"
    },
    "papermill": {
     "duration": 0.714005,
     "end_time": "2022-11-11T11:40:44.794329",
     "exception": false,
     "start_time": "2022-11-11T11:40:44.080324",
     "status": "completed"
    },
    "tags": []
   },
   "outputs": [
    {
     "name": "stdout",
     "output_type": "stream",
     "text": [
      "\n",
      " Pclass\n",
      "3    491\n",
      "1    216\n",
      "2    184\n",
      "Name: Pclass, dtype: int64\n",
      "   0         1\n",
      "0  1  0.629630\n",
      "1  2  0.472826\n",
      "2  3  0.242363\n",
      "\n",
      " Sex\n",
      "male      577\n",
      "female    314\n",
      "Name: Sex, dtype: int64\n",
      "        0         1\n",
      "0  female  0.742038\n",
      "1    male  0.188908\n",
      "\n",
      " Age\n",
      "24.00    30\n",
      "22.00    27\n",
      "18.00    26\n",
      "19.00    25\n",
      "28.00    25\n",
      "         ..\n",
      "36.50     1\n",
      "55.50     1\n",
      "0.92      1\n",
      "23.50     1\n",
      "74.00     1\n",
      "Name: Age, Length: 88, dtype: int64\n",
      "        0    1\n",
      "0    0.42  1.0\n",
      "1    0.67  1.0\n",
      "2    0.75  1.0\n",
      "3    0.83  1.0\n",
      "4    0.92  1.0\n",
      "..    ...  ...\n",
      "83  70.00  0.0\n",
      "84  70.50  0.0\n",
      "85  71.00  0.0\n",
      "86  74.00  0.0\n",
      "87  80.00  1.0\n",
      "\n",
      "[88 rows x 2 columns]\n",
      "\n",
      " SibSp\n",
      "0    608\n",
      "1    209\n",
      "2     28\n",
      "4     18\n",
      "3     16\n",
      "8      7\n",
      "5      5\n",
      "Name: SibSp, dtype: int64\n",
      "   0         1\n",
      "0  0  0.345395\n",
      "1  1  0.535885\n",
      "2  2  0.464286\n",
      "3  3  0.250000\n",
      "4  4  0.166667\n",
      "5  5  0.000000\n",
      "6  8  0.000000\n",
      "\n",
      " Parch\n",
      "0    678\n",
      "1    118\n",
      "2     80\n",
      "5      5\n",
      "3      5\n",
      "4      4\n",
      "6      1\n",
      "Name: Parch, dtype: int64\n",
      "   0         1\n",
      "0  0  0.343658\n",
      "1  1  0.550847\n",
      "2  2  0.500000\n",
      "3  3  0.600000\n",
      "4  4  0.000000\n",
      "5  5  0.200000\n",
      "6  6  0.000000\n",
      "\n",
      " Ticket\n",
      "347082      7\n",
      "CA. 2343    7\n",
      "1601        7\n",
      "3101295     6\n",
      "CA 2144     6\n",
      "           ..\n",
      "9234        1\n",
      "19988       1\n",
      "2693        1\n",
      "PC 17612    1\n",
      "370376      1\n",
      "Name: Ticket, Length: 681, dtype: int64\n",
      "               0         1\n",
      "0         110152  1.000000\n",
      "1         110413  0.666667\n",
      "2         110465  0.000000\n",
      "3         110564  1.000000\n",
      "4         110813  1.000000\n",
      "..           ...       ...\n",
      "676   W./C. 6608  0.000000\n",
      "677   W./C. 6609  0.000000\n",
      "678  W.E.P. 5734  0.000000\n",
      "679    W/C 14208  0.000000\n",
      "680    WE/P 5735  0.500000\n",
      "\n",
      "[681 rows x 2 columns]\n",
      "\n",
      " Fare\n",
      "8.0500     43\n",
      "13.0000    42\n",
      "7.8958     38\n",
      "7.7500     34\n",
      "26.0000    31\n",
      "           ..\n",
      "35.0000     1\n",
      "28.5000     1\n",
      "6.2375      1\n",
      "14.0000     1\n",
      "10.5167     1\n",
      "Name: Fare, Length: 248, dtype: int64\n",
      "            0         1\n",
      "0      0.0000  0.066667\n",
      "1      4.0125  0.000000\n",
      "2      5.0000  0.000000\n",
      "3      6.2375  0.000000\n",
      "4      6.4375  0.000000\n",
      "..        ...       ...\n",
      "243  227.5250  0.750000\n",
      "244  247.5208  0.500000\n",
      "245  262.3750  1.000000\n",
      "246  263.0000  0.500000\n",
      "247  512.3292  1.000000\n",
      "\n",
      "[248 rows x 2 columns]\n",
      "\n",
      " Cabin\n",
      "B96 B98        4\n",
      "G6             4\n",
      "C23 C25 C27    4\n",
      "C22 C26        3\n",
      "F33            3\n",
      "              ..\n",
      "E34            1\n",
      "C7             1\n",
      "C54            1\n",
      "E36            1\n",
      "C148           1\n",
      "Name: Cabin, Length: 147, dtype: int64\n",
      "       0    1\n",
      "0    A10  0.0\n",
      "1    A14  0.0\n",
      "2    A16  1.0\n",
      "3    A19  0.0\n",
      "4    A20  1.0\n",
      "..   ...  ...\n",
      "142  F33  1.0\n",
      "143  F38  0.0\n",
      "144   F4  1.0\n",
      "145   G6  0.5\n",
      "146    T  0.0\n",
      "\n",
      "[147 rows x 2 columns]\n",
      "\n",
      " Embarked\n",
      "S    644\n",
      "C    168\n",
      "Q     77\n",
      "Name: Embarked, dtype: int64\n",
      "   0         1\n",
      "0  C  0.553571\n",
      "1  Q  0.389610\n",
      "2  S  0.336957\n"
     ]
    }
   ],
   "source": [
    "import matplotlib.pyplot as plt\n",
    "\n",
    "# plt.style.use('seaborn')\n",
    "\n",
    "# fig, axs = plt.subplots(len(dependents))\n",
    "\n",
    "for index, feature in enumerate(dependents):\n",
    "    print(\"\\n\", feature)\n",
    "    \n",
    "    print(train_data[feature].value_counts())\n",
    "    feature_stat = dict(train_data[feature].value_counts())\n",
    "    values = []\n",
    "    rates = []\n",
    "    for feature_val in feature_stat:\n",
    "        values.append(feature_val)\n",
    "        value = train_data.loc[train_data[feature] == feature_val][\"Survived\"]\n",
    "        rates.append(sum(value) / len(value))\n",
    "    \n",
    "    print(pd.DataFrame(sorted(zip(values, rates))))\n",
    "#     axs[index].plot(values, rates)\n",
    "    "
   ]
  },
  {
   "cell_type": "code",
   "execution_count": 8,
   "id": "7e81a878",
   "metadata": {
    "execution": {
     "iopub.execute_input": "2022-11-11T11:40:44.814704Z",
     "iopub.status.busy": "2022-11-11T11:40:44.814223Z",
     "iopub.status.idle": "2022-11-11T11:40:44.833576Z",
     "shell.execute_reply": "2022-11-11T11:40:44.832269Z"
    },
    "papermill": {
     "duration": 0.032733,
     "end_time": "2022-11-11T11:40:44.836378",
     "exception": false,
     "start_time": "2022-11-11T11:40:44.803645",
     "status": "completed"
    },
    "tags": []
   },
   "outputs": [
    {
     "name": "stdout",
     "output_type": "stream",
     "text": [
      "<class 'pandas.core.frame.DataFrame'>\n",
      "RangeIndex: 891 entries, 0 to 890\n",
      "Data columns (total 12 columns):\n",
      " #   Column       Non-Null Count  Dtype  \n",
      "---  ------       --------------  -----  \n",
      " 0   PassengerId  891 non-null    int64  \n",
      " 1   Survived     891 non-null    int64  \n",
      " 2   Pclass       891 non-null    int64  \n",
      " 3   Name         891 non-null    object \n",
      " 4   Sex          891 non-null    object \n",
      " 5   Age          714 non-null    float64\n",
      " 6   SibSp        891 non-null    int64  \n",
      " 7   Parch        891 non-null    int64  \n",
      " 8   Ticket       891 non-null    object \n",
      " 9   Fare         891 non-null    float64\n",
      " 10  Cabin        204 non-null    object \n",
      " 11  Embarked     889 non-null    object \n",
      "dtypes: float64(2), int64(5), object(5)\n",
      "memory usage: 83.7+ KB\n"
     ]
    }
   ],
   "source": [
    "train_data.info()"
   ]
  },
  {
   "cell_type": "code",
   "execution_count": 9,
   "id": "18ee79a5",
   "metadata": {
    "execution": {
     "iopub.execute_input": "2022-11-11T11:40:44.857598Z",
     "iopub.status.busy": "2022-11-11T11:40:44.856689Z",
     "iopub.status.idle": "2022-11-11T11:40:44.873884Z",
     "shell.execute_reply": "2022-11-11T11:40:44.872605Z"
    },
    "papermill": {
     "duration": 0.032513,
     "end_time": "2022-11-11T11:40:44.878529",
     "exception": false,
     "start_time": "2022-11-11T11:40:44.846016",
     "status": "completed"
    },
    "tags": []
   },
   "outputs": [
    {
     "name": "stdout",
     "output_type": "stream",
     "text": [
      "<class 'pandas.core.frame.DataFrame'>\n",
      "RangeIndex: 418 entries, 0 to 417\n",
      "Data columns (total 11 columns):\n",
      " #   Column       Non-Null Count  Dtype  \n",
      "---  ------       --------------  -----  \n",
      " 0   PassengerId  418 non-null    int64  \n",
      " 1   Pclass       418 non-null    int64  \n",
      " 2   Name         418 non-null    object \n",
      " 3   Sex          418 non-null    object \n",
      " 4   Age          332 non-null    float64\n",
      " 5   SibSp        418 non-null    int64  \n",
      " 6   Parch        418 non-null    int64  \n",
      " 7   Ticket       418 non-null    object \n",
      " 8   Fare         417 non-null    float64\n",
      " 9   Cabin        91 non-null     object \n",
      " 10  Embarked     418 non-null    object \n",
      "dtypes: float64(2), int64(4), object(5)\n",
      "memory usage: 36.0+ KB\n"
     ]
    }
   ],
   "source": [
    "test_data.info()"
   ]
  },
  {
   "cell_type": "markdown",
   "id": "33dfe58b",
   "metadata": {
    "papermill": {
     "duration": 0.012508,
     "end_time": "2022-11-11T11:40:44.903236",
     "exception": false,
     "start_time": "2022-11-11T11:40:44.890728",
     "status": "completed"
    },
    "tags": []
   },
   "source": [
    "### Handling NaN fields:"
   ]
  },
  {
   "cell_type": "code",
   "execution_count": 10,
   "id": "94b6a17e",
   "metadata": {
    "execution": {
     "iopub.execute_input": "2022-11-11T11:40:44.927673Z",
     "iopub.status.busy": "2022-11-11T11:40:44.926689Z",
     "iopub.status.idle": "2022-11-11T11:40:44.933349Z",
     "shell.execute_reply": "2022-11-11T11:40:44.932009Z"
    },
    "papermill": {
     "duration": 0.020872,
     "end_time": "2022-11-11T11:40:44.936266",
     "exception": false,
     "start_time": "2022-11-11T11:40:44.915394",
     "status": "completed"
    },
    "tags": []
   },
   "outputs": [],
   "source": [
    "values = {\"Age\":-1, \"Cabin\": 'NA', \"Embarked\": 'NA', \"Fare\":-1}"
   ]
  },
  {
   "cell_type": "code",
   "execution_count": 11,
   "id": "58a655e3",
   "metadata": {
    "execution": {
     "iopub.execute_input": "2022-11-11T11:40:44.956992Z",
     "iopub.status.busy": "2022-11-11T11:40:44.956557Z",
     "iopub.status.idle": "2022-11-11T11:40:44.963638Z",
     "shell.execute_reply": "2022-11-11T11:40:44.962581Z"
    },
    "papermill": {
     "duration": 0.02059,
     "end_time": "2022-11-11T11:40:44.966236",
     "exception": false,
     "start_time": "2022-11-11T11:40:44.945646",
     "status": "completed"
    },
    "tags": []
   },
   "outputs": [],
   "source": [
    "# train = train_data.dropna(subset=['Age'])\n",
    "train = train_data.fillna(value=values)"
   ]
  },
  {
   "cell_type": "code",
   "execution_count": 12,
   "id": "a3a39767",
   "metadata": {
    "execution": {
     "iopub.execute_input": "2022-11-11T11:40:44.990391Z",
     "iopub.status.busy": "2022-11-11T11:40:44.989978Z",
     "iopub.status.idle": "2022-11-11T11:40:44.997602Z",
     "shell.execute_reply": "2022-11-11T11:40:44.996273Z"
    },
    "papermill": {
     "duration": 0.024422,
     "end_time": "2022-11-11T11:40:45.000037",
     "exception": false,
     "start_time": "2022-11-11T11:40:44.975615",
     "status": "completed"
    },
    "tags": []
   },
   "outputs": [],
   "source": [
    "test = test_data.fillna(value=values)"
   ]
  },
  {
   "cell_type": "code",
   "execution_count": 13,
   "id": "1cdca25f",
   "metadata": {
    "execution": {
     "iopub.execute_input": "2022-11-11T11:40:45.021664Z",
     "iopub.status.busy": "2022-11-11T11:40:45.021262Z",
     "iopub.status.idle": "2022-11-11T11:40:45.030859Z",
     "shell.execute_reply": "2022-11-11T11:40:45.029637Z"
    },
    "papermill": {
     "duration": 0.023853,
     "end_time": "2022-11-11T11:40:45.033326",
     "exception": false,
     "start_time": "2022-11-11T11:40:45.009473",
     "status": "completed"
    },
    "tags": []
   },
   "outputs": [],
   "source": [
    "#Adding Alone to train set\n",
    "train['T_partner']=train[\"SibSp\"]+train[\"Parch\"]\n",
    "train['Alone']=np.where(train['T_partner']>0, 0, 1)\n",
    "\n",
    "test['T_partner']=test[\"SibSp\"]+test[\"Parch\"]\n",
    "test['Alone']=np.where(test['T_partner']>0, 0, 1)"
   ]
  },
  {
   "cell_type": "code",
   "execution_count": 14,
   "id": "b64c5ccc",
   "metadata": {
    "execution": {
     "iopub.execute_input": "2022-11-11T11:40:45.054205Z",
     "iopub.status.busy": "2022-11-11T11:40:45.053461Z",
     "iopub.status.idle": "2022-11-11T11:40:45.079219Z",
     "shell.execute_reply": "2022-11-11T11:40:45.078023Z"
    },
    "papermill": {
     "duration": 0.038914,
     "end_time": "2022-11-11T11:40:45.081599",
     "exception": false,
     "start_time": "2022-11-11T11:40:45.042685",
     "status": "completed"
    },
    "tags": []
   },
   "outputs": [
    {
     "data": {
      "text/html": [
       "<div>\n",
       "<style scoped>\n",
       "    .dataframe tbody tr th:only-of-type {\n",
       "        vertical-align: middle;\n",
       "    }\n",
       "\n",
       "    .dataframe tbody tr th {\n",
       "        vertical-align: top;\n",
       "    }\n",
       "\n",
       "    .dataframe thead th {\n",
       "        text-align: right;\n",
       "    }\n",
       "</style>\n",
       "<table border=\"1\" class=\"dataframe\">\n",
       "  <thead>\n",
       "    <tr style=\"text-align: right;\">\n",
       "      <th></th>\n",
       "      <th>PassengerId</th>\n",
       "      <th>Survived</th>\n",
       "      <th>Pclass</th>\n",
       "      <th>Name</th>\n",
       "      <th>Sex</th>\n",
       "      <th>Age</th>\n",
       "      <th>SibSp</th>\n",
       "      <th>Parch</th>\n",
       "      <th>Ticket</th>\n",
       "      <th>Fare</th>\n",
       "      <th>Cabin</th>\n",
       "      <th>Embarked</th>\n",
       "      <th>T_partner</th>\n",
       "      <th>Alone</th>\n",
       "    </tr>\n",
       "  </thead>\n",
       "  <tbody>\n",
       "    <tr>\n",
       "      <th>0</th>\n",
       "      <td>1</td>\n",
       "      <td>0</td>\n",
       "      <td>3</td>\n",
       "      <td>Braund, Mr. Owen Harris</td>\n",
       "      <td>male</td>\n",
       "      <td>22.0</td>\n",
       "      <td>1</td>\n",
       "      <td>0</td>\n",
       "      <td>A/5 21171</td>\n",
       "      <td>7.2500</td>\n",
       "      <td>NA</td>\n",
       "      <td>S</td>\n",
       "      <td>1</td>\n",
       "      <td>0</td>\n",
       "    </tr>\n",
       "    <tr>\n",
       "      <th>1</th>\n",
       "      <td>2</td>\n",
       "      <td>1</td>\n",
       "      <td>1</td>\n",
       "      <td>Cumings, Mrs. John Bradley (Florence Briggs Th...</td>\n",
       "      <td>female</td>\n",
       "      <td>38.0</td>\n",
       "      <td>1</td>\n",
       "      <td>0</td>\n",
       "      <td>PC 17599</td>\n",
       "      <td>71.2833</td>\n",
       "      <td>C85</td>\n",
       "      <td>C</td>\n",
       "      <td>1</td>\n",
       "      <td>0</td>\n",
       "    </tr>\n",
       "    <tr>\n",
       "      <th>2</th>\n",
       "      <td>3</td>\n",
       "      <td>1</td>\n",
       "      <td>3</td>\n",
       "      <td>Heikkinen, Miss. Laina</td>\n",
       "      <td>female</td>\n",
       "      <td>26.0</td>\n",
       "      <td>0</td>\n",
       "      <td>0</td>\n",
       "      <td>STON/O2. 3101282</td>\n",
       "      <td>7.9250</td>\n",
       "      <td>NA</td>\n",
       "      <td>S</td>\n",
       "      <td>0</td>\n",
       "      <td>1</td>\n",
       "    </tr>\n",
       "    <tr>\n",
       "      <th>3</th>\n",
       "      <td>4</td>\n",
       "      <td>1</td>\n",
       "      <td>1</td>\n",
       "      <td>Futrelle, Mrs. Jacques Heath (Lily May Peel)</td>\n",
       "      <td>female</td>\n",
       "      <td>35.0</td>\n",
       "      <td>1</td>\n",
       "      <td>0</td>\n",
       "      <td>113803</td>\n",
       "      <td>53.1000</td>\n",
       "      <td>C123</td>\n",
       "      <td>S</td>\n",
       "      <td>1</td>\n",
       "      <td>0</td>\n",
       "    </tr>\n",
       "    <tr>\n",
       "      <th>4</th>\n",
       "      <td>5</td>\n",
       "      <td>0</td>\n",
       "      <td>3</td>\n",
       "      <td>Allen, Mr. William Henry</td>\n",
       "      <td>male</td>\n",
       "      <td>35.0</td>\n",
       "      <td>0</td>\n",
       "      <td>0</td>\n",
       "      <td>373450</td>\n",
       "      <td>8.0500</td>\n",
       "      <td>NA</td>\n",
       "      <td>S</td>\n",
       "      <td>0</td>\n",
       "      <td>1</td>\n",
       "    </tr>\n",
       "    <tr>\n",
       "      <th>...</th>\n",
       "      <td>...</td>\n",
       "      <td>...</td>\n",
       "      <td>...</td>\n",
       "      <td>...</td>\n",
       "      <td>...</td>\n",
       "      <td>...</td>\n",
       "      <td>...</td>\n",
       "      <td>...</td>\n",
       "      <td>...</td>\n",
       "      <td>...</td>\n",
       "      <td>...</td>\n",
       "      <td>...</td>\n",
       "      <td>...</td>\n",
       "      <td>...</td>\n",
       "    </tr>\n",
       "    <tr>\n",
       "      <th>886</th>\n",
       "      <td>887</td>\n",
       "      <td>0</td>\n",
       "      <td>2</td>\n",
       "      <td>Montvila, Rev. Juozas</td>\n",
       "      <td>male</td>\n",
       "      <td>27.0</td>\n",
       "      <td>0</td>\n",
       "      <td>0</td>\n",
       "      <td>211536</td>\n",
       "      <td>13.0000</td>\n",
       "      <td>NA</td>\n",
       "      <td>S</td>\n",
       "      <td>0</td>\n",
       "      <td>1</td>\n",
       "    </tr>\n",
       "    <tr>\n",
       "      <th>887</th>\n",
       "      <td>888</td>\n",
       "      <td>1</td>\n",
       "      <td>1</td>\n",
       "      <td>Graham, Miss. Margaret Edith</td>\n",
       "      <td>female</td>\n",
       "      <td>19.0</td>\n",
       "      <td>0</td>\n",
       "      <td>0</td>\n",
       "      <td>112053</td>\n",
       "      <td>30.0000</td>\n",
       "      <td>B42</td>\n",
       "      <td>S</td>\n",
       "      <td>0</td>\n",
       "      <td>1</td>\n",
       "    </tr>\n",
       "    <tr>\n",
       "      <th>888</th>\n",
       "      <td>889</td>\n",
       "      <td>0</td>\n",
       "      <td>3</td>\n",
       "      <td>Johnston, Miss. Catherine Helen \"Carrie\"</td>\n",
       "      <td>female</td>\n",
       "      <td>-1.0</td>\n",
       "      <td>1</td>\n",
       "      <td>2</td>\n",
       "      <td>W./C. 6607</td>\n",
       "      <td>23.4500</td>\n",
       "      <td>NA</td>\n",
       "      <td>S</td>\n",
       "      <td>3</td>\n",
       "      <td>0</td>\n",
       "    </tr>\n",
       "    <tr>\n",
       "      <th>889</th>\n",
       "      <td>890</td>\n",
       "      <td>1</td>\n",
       "      <td>1</td>\n",
       "      <td>Behr, Mr. Karl Howell</td>\n",
       "      <td>male</td>\n",
       "      <td>26.0</td>\n",
       "      <td>0</td>\n",
       "      <td>0</td>\n",
       "      <td>111369</td>\n",
       "      <td>30.0000</td>\n",
       "      <td>C148</td>\n",
       "      <td>C</td>\n",
       "      <td>0</td>\n",
       "      <td>1</td>\n",
       "    </tr>\n",
       "    <tr>\n",
       "      <th>890</th>\n",
       "      <td>891</td>\n",
       "      <td>0</td>\n",
       "      <td>3</td>\n",
       "      <td>Dooley, Mr. Patrick</td>\n",
       "      <td>male</td>\n",
       "      <td>32.0</td>\n",
       "      <td>0</td>\n",
       "      <td>0</td>\n",
       "      <td>370376</td>\n",
       "      <td>7.7500</td>\n",
       "      <td>NA</td>\n",
       "      <td>Q</td>\n",
       "      <td>0</td>\n",
       "      <td>1</td>\n",
       "    </tr>\n",
       "  </tbody>\n",
       "</table>\n",
       "<p>891 rows × 14 columns</p>\n",
       "</div>"
      ],
      "text/plain": [
       "     PassengerId  Survived  Pclass  \\\n",
       "0              1         0       3   \n",
       "1              2         1       1   \n",
       "2              3         1       3   \n",
       "3              4         1       1   \n",
       "4              5         0       3   \n",
       "..           ...       ...     ...   \n",
       "886          887         0       2   \n",
       "887          888         1       1   \n",
       "888          889         0       3   \n",
       "889          890         1       1   \n",
       "890          891         0       3   \n",
       "\n",
       "                                                  Name     Sex   Age  SibSp  \\\n",
       "0                              Braund, Mr. Owen Harris    male  22.0      1   \n",
       "1    Cumings, Mrs. John Bradley (Florence Briggs Th...  female  38.0      1   \n",
       "2                               Heikkinen, Miss. Laina  female  26.0      0   \n",
       "3         Futrelle, Mrs. Jacques Heath (Lily May Peel)  female  35.0      1   \n",
       "4                             Allen, Mr. William Henry    male  35.0      0   \n",
       "..                                                 ...     ...   ...    ...   \n",
       "886                              Montvila, Rev. Juozas    male  27.0      0   \n",
       "887                       Graham, Miss. Margaret Edith  female  19.0      0   \n",
       "888           Johnston, Miss. Catherine Helen \"Carrie\"  female  -1.0      1   \n",
       "889                              Behr, Mr. Karl Howell    male  26.0      0   \n",
       "890                                Dooley, Mr. Patrick    male  32.0      0   \n",
       "\n",
       "     Parch            Ticket     Fare Cabin Embarked  T_partner  Alone  \n",
       "0        0         A/5 21171   7.2500    NA        S          1      0  \n",
       "1        0          PC 17599  71.2833   C85        C          1      0  \n",
       "2        0  STON/O2. 3101282   7.9250    NA        S          0      1  \n",
       "3        0            113803  53.1000  C123        S          1      0  \n",
       "4        0            373450   8.0500    NA        S          0      1  \n",
       "..     ...               ...      ...   ...      ...        ...    ...  \n",
       "886      0            211536  13.0000    NA        S          0      1  \n",
       "887      0            112053  30.0000   B42        S          0      1  \n",
       "888      2        W./C. 6607  23.4500    NA        S          3      0  \n",
       "889      0            111369  30.0000  C148        C          0      1  \n",
       "890      0            370376   7.7500    NA        Q          0      1  \n",
       "\n",
       "[891 rows x 14 columns]"
      ]
     },
     "execution_count": 14,
     "metadata": {},
     "output_type": "execute_result"
    }
   ],
   "source": [
    "train"
   ]
  },
  {
   "cell_type": "code",
   "execution_count": 15,
   "id": "37a3e81f",
   "metadata": {
    "execution": {
     "iopub.execute_input": "2022-11-11T11:40:45.103758Z",
     "iopub.status.busy": "2022-11-11T11:40:45.103043Z",
     "iopub.status.idle": "2022-11-11T11:40:45.118013Z",
     "shell.execute_reply": "2022-11-11T11:40:45.115954Z"
    },
    "papermill": {
     "duration": 0.028996,
     "end_time": "2022-11-11T11:40:45.120772",
     "exception": false,
     "start_time": "2022-11-11T11:40:45.091776",
     "status": "completed"
    },
    "tags": []
   },
   "outputs": [
    {
     "name": "stdout",
     "output_type": "stream",
     "text": [
      "<class 'pandas.core.frame.DataFrame'>\n",
      "RangeIndex: 891 entries, 0 to 890\n",
      "Data columns (total 14 columns):\n",
      " #   Column       Non-Null Count  Dtype  \n",
      "---  ------       --------------  -----  \n",
      " 0   PassengerId  891 non-null    int64  \n",
      " 1   Survived     891 non-null    int64  \n",
      " 2   Pclass       891 non-null    int64  \n",
      " 3   Name         891 non-null    object \n",
      " 4   Sex          891 non-null    object \n",
      " 5   Age          891 non-null    float64\n",
      " 6   SibSp        891 non-null    int64  \n",
      " 7   Parch        891 non-null    int64  \n",
      " 8   Ticket       891 non-null    object \n",
      " 9   Fare         891 non-null    float64\n",
      " 10  Cabin        891 non-null    object \n",
      " 11  Embarked     891 non-null    object \n",
      " 12  T_partner    891 non-null    int64  \n",
      " 13  Alone        891 non-null    int64  \n",
      "dtypes: float64(2), int64(7), object(5)\n",
      "memory usage: 97.6+ KB\n"
     ]
    }
   ],
   "source": [
    "train.info()"
   ]
  },
  {
   "cell_type": "code",
   "execution_count": 16,
   "id": "04caf28c",
   "metadata": {
    "execution": {
     "iopub.execute_input": "2022-11-11T11:40:45.143325Z",
     "iopub.status.busy": "2022-11-11T11:40:45.142869Z",
     "iopub.status.idle": "2022-11-11T11:40:45.147986Z",
     "shell.execute_reply": "2022-11-11T11:40:45.146658Z"
    },
    "papermill": {
     "duration": 0.01968,
     "end_time": "2022-11-11T11:40:45.150446",
     "exception": false,
     "start_time": "2022-11-11T11:40:45.130766",
     "status": "completed"
    },
    "tags": []
   },
   "outputs": [],
   "source": [
    "# test = test_data.fillna(value=values)"
   ]
  },
  {
   "cell_type": "markdown",
   "id": "d054ff5d",
   "metadata": {
    "papermill": {
     "duration": 0.009542,
     "end_time": "2022-11-11T11:40:45.170181",
     "exception": false,
     "start_time": "2022-11-11T11:40:45.160639",
     "status": "completed"
    },
    "tags": []
   },
   "source": [
    "### Analysing attribute values for identifying categorical (and type of categorical) and numerical variables:"
   ]
  },
  {
   "cell_type": "code",
   "execution_count": 17,
   "id": "5d47c3c2",
   "metadata": {
    "execution": {
     "iopub.execute_input": "2022-11-11T11:40:45.192465Z",
     "iopub.status.busy": "2022-11-11T11:40:45.191707Z",
     "iopub.status.idle": "2022-11-11T11:40:45.196853Z",
     "shell.execute_reply": "2022-11-11T11:40:45.195751Z"
    },
    "papermill": {
     "duration": 0.01927,
     "end_time": "2022-11-11T11:40:45.199392",
     "exception": false,
     "start_time": "2022-11-11T11:40:45.180122",
     "status": "completed"
    },
    "tags": []
   },
   "outputs": [],
   "source": [
    "# Categorical Variables to be considered: Sex, Ticket, Cabin, Embarked\n",
    "# All are nominal categorical variables, cabin may be considered ordinal, however some passengers have multiple cabin values,\n",
    "# using dummies"
   ]
  },
  {
   "cell_type": "markdown",
   "id": "20934473",
   "metadata": {
    "papermill": {
     "duration": 0.009497,
     "end_time": "2022-11-11T11:40:45.218736",
     "exception": false,
     "start_time": "2022-11-11T11:40:45.209239",
     "status": "completed"
    },
    "tags": []
   },
   "source": [
    "### Preparing input data:"
   ]
  },
  {
   "cell_type": "code",
   "execution_count": 18,
   "id": "a213629e",
   "metadata": {
    "execution": {
     "iopub.execute_input": "2022-11-11T11:40:45.240668Z",
     "iopub.status.busy": "2022-11-11T11:40:45.239997Z",
     "iopub.status.idle": "2022-11-11T11:40:45.245791Z",
     "shell.execute_reply": "2022-11-11T11:40:45.244787Z"
    },
    "papermill": {
     "duration": 0.020317,
     "end_time": "2022-11-11T11:40:45.248903",
     "exception": false,
     "start_time": "2022-11-11T11:40:45.228586",
     "status": "completed"
    },
    "tags": []
   },
   "outputs": [],
   "source": [
    "# Extracting independent output variable y\n",
    "y = train[\"Survived\"]\n",
    "\n",
    "# Setting features to be used\n",
    "features = [\"Pclass\", \"Sex\", \"Age\", \"Fare\", \"Embarked\", \"Alone\", \"Ticket\"]\n",
    "\n",
    "# features = [\"Pclass\", \"Sex\", \"Age\", \"SibSp\", \"Parch\", \"Ticket\", \"Embarked\"]\n"
   ]
  },
  {
   "cell_type": "code",
   "execution_count": 19,
   "id": "c2a2b497",
   "metadata": {
    "execution": {
     "iopub.execute_input": "2022-11-11T11:40:45.271803Z",
     "iopub.status.busy": "2022-11-11T11:40:45.271248Z",
     "iopub.status.idle": "2022-11-11T11:40:45.280481Z",
     "shell.execute_reply": "2022-11-11T11:40:45.279179Z"
    },
    "papermill": {
     "duration": 0.023686,
     "end_time": "2022-11-11T11:40:45.283152",
     "exception": false,
     "start_time": "2022-11-11T11:40:45.259466",
     "status": "completed"
    },
    "tags": []
   },
   "outputs": [],
   "source": [
    "temp = train.copy()[features]\n",
    "temp_test = test.copy()[features]"
   ]
  },
  {
   "cell_type": "code",
   "execution_count": 20,
   "id": "74bb0b9d",
   "metadata": {
    "execution": {
     "iopub.execute_input": "2022-11-11T11:40:45.306148Z",
     "iopub.status.busy": "2022-11-11T11:40:45.305423Z",
     "iopub.status.idle": "2022-11-11T11:40:45.325789Z",
     "shell.execute_reply": "2022-11-11T11:40:45.324098Z"
    },
    "papermill": {
     "duration": 0.03488,
     "end_time": "2022-11-11T11:40:45.328652",
     "exception": false,
     "start_time": "2022-11-11T11:40:45.293772",
     "status": "completed"
    },
    "tags": []
   },
   "outputs": [
    {
     "data": {
      "text/html": [
       "<div>\n",
       "<style scoped>\n",
       "    .dataframe tbody tr th:only-of-type {\n",
       "        vertical-align: middle;\n",
       "    }\n",
       "\n",
       "    .dataframe tbody tr th {\n",
       "        vertical-align: top;\n",
       "    }\n",
       "\n",
       "    .dataframe thead th {\n",
       "        text-align: right;\n",
       "    }\n",
       "</style>\n",
       "<table border=\"1\" class=\"dataframe\">\n",
       "  <thead>\n",
       "    <tr style=\"text-align: right;\">\n",
       "      <th></th>\n",
       "      <th>Pclass</th>\n",
       "      <th>Sex</th>\n",
       "      <th>Age</th>\n",
       "      <th>Fare</th>\n",
       "      <th>Embarked</th>\n",
       "      <th>Alone</th>\n",
       "      <th>Ticket</th>\n",
       "    </tr>\n",
       "  </thead>\n",
       "  <tbody>\n",
       "    <tr>\n",
       "      <th>0</th>\n",
       "      <td>3</td>\n",
       "      <td>male</td>\n",
       "      <td>22.0</td>\n",
       "      <td>7.2500</td>\n",
       "      <td>S</td>\n",
       "      <td>0</td>\n",
       "      <td>A/5 21171</td>\n",
       "    </tr>\n",
       "    <tr>\n",
       "      <th>1</th>\n",
       "      <td>1</td>\n",
       "      <td>female</td>\n",
       "      <td>38.0</td>\n",
       "      <td>71.2833</td>\n",
       "      <td>C</td>\n",
       "      <td>0</td>\n",
       "      <td>PC 17599</td>\n",
       "    </tr>\n",
       "    <tr>\n",
       "      <th>2</th>\n",
       "      <td>3</td>\n",
       "      <td>female</td>\n",
       "      <td>26.0</td>\n",
       "      <td>7.9250</td>\n",
       "      <td>S</td>\n",
       "      <td>1</td>\n",
       "      <td>STON/O2. 3101282</td>\n",
       "    </tr>\n",
       "    <tr>\n",
       "      <th>3</th>\n",
       "      <td>1</td>\n",
       "      <td>female</td>\n",
       "      <td>35.0</td>\n",
       "      <td>53.1000</td>\n",
       "      <td>S</td>\n",
       "      <td>0</td>\n",
       "      <td>113803</td>\n",
       "    </tr>\n",
       "    <tr>\n",
       "      <th>4</th>\n",
       "      <td>3</td>\n",
       "      <td>male</td>\n",
       "      <td>35.0</td>\n",
       "      <td>8.0500</td>\n",
       "      <td>S</td>\n",
       "      <td>1</td>\n",
       "      <td>373450</td>\n",
       "    </tr>\n",
       "  </tbody>\n",
       "</table>\n",
       "</div>"
      ],
      "text/plain": [
       "   Pclass     Sex   Age     Fare Embarked  Alone            Ticket\n",
       "0       3    male  22.0   7.2500        S      0         A/5 21171\n",
       "1       1  female  38.0  71.2833        C      0          PC 17599\n",
       "2       3  female  26.0   7.9250        S      1  STON/O2. 3101282\n",
       "3       1  female  35.0  53.1000        S      0            113803\n",
       "4       3    male  35.0   8.0500        S      1            373450"
      ]
     },
     "execution_count": 20,
     "metadata": {},
     "output_type": "execute_result"
    }
   ],
   "source": [
    "temp.head()"
   ]
  },
  {
   "cell_type": "code",
   "execution_count": 21,
   "id": "93e8caeb",
   "metadata": {
    "execution": {
     "iopub.execute_input": "2022-11-11T11:40:45.355132Z",
     "iopub.status.busy": "2022-11-11T11:40:45.354659Z",
     "iopub.status.idle": "2022-11-11T11:40:46.389460Z",
     "shell.execute_reply": "2022-11-11T11:40:46.388517Z"
    },
    "papermill": {
     "duration": 1.05262,
     "end_time": "2022-11-11T11:40:46.392190",
     "exception": false,
     "start_time": "2022-11-11T11:40:45.339570",
     "status": "completed"
    },
    "tags": []
   },
   "outputs": [
    {
     "data": {
      "text/plain": [
       "OneHotEncoder(handle_unknown='ignore', sparse=False)"
      ]
     },
     "execution_count": 21,
     "metadata": {},
     "output_type": "execute_result"
    }
   ],
   "source": [
    "from sklearn.preprocessing import OneHotEncoder, OrdinalEncoder\n",
    "encoder = OneHotEncoder(handle_unknown='ignore', sparse=False)\n",
    "\n",
    "# encoder = OrdinalEncoder(handle_unknown='use_encoded_value', unknown_value=-1)\n",
    "encoder.fit(temp)"
   ]
  },
  {
   "cell_type": "code",
   "execution_count": 22,
   "id": "86487df3",
   "metadata": {
    "execution": {
     "iopub.execute_input": "2022-11-11T11:40:46.416068Z",
     "iopub.status.busy": "2022-11-11T11:40:46.414600Z",
     "iopub.status.idle": "2022-11-11T11:40:46.447018Z",
     "shell.execute_reply": "2022-11-11T11:40:46.445587Z"
    },
    "papermill": {
     "duration": 0.047568,
     "end_time": "2022-11-11T11:40:46.450036",
     "exception": false,
     "start_time": "2022-11-11T11:40:46.402468",
     "status": "completed"
    },
    "tags": []
   },
   "outputs": [],
   "source": [
    "X_train = encoder.transform(temp)\n",
    "X_test = encoder.transform(temp_test)"
   ]
  },
  {
   "cell_type": "code",
   "execution_count": 23,
   "id": "b1c4c33d",
   "metadata": {
    "execution": {
     "iopub.execute_input": "2022-11-11T11:40:46.482503Z",
     "iopub.status.busy": "2022-11-11T11:40:46.481728Z",
     "iopub.status.idle": "2022-11-11T11:40:46.518622Z",
     "shell.execute_reply": "2022-11-11T11:40:46.515557Z"
    },
    "papermill": {
     "duration": 0.056448,
     "end_time": "2022-11-11T11:40:46.522180",
     "exception": false,
     "start_time": "2022-11-11T11:40:46.465732",
     "status": "completed"
    },
    "tags": []
   },
   "outputs": [],
   "source": [
    "from sklearn.preprocessing import StandardScaler, MinMaxScaler\n",
    "\n",
    "scaler = StandardScaler()\n",
    "# scaler = MinMaxScaler()\n",
    "\n",
    "X_train = scaler.fit_transform(X_train)\n",
    "X_test = scaler.transform(X_test)\n"
   ]
  },
  {
   "cell_type": "code",
   "execution_count": 24,
   "id": "f3c771ad",
   "metadata": {
    "execution": {
     "iopub.execute_input": "2022-11-11T11:40:46.558598Z",
     "iopub.status.busy": "2022-11-11T11:40:46.557623Z",
     "iopub.status.idle": "2022-11-11T11:40:46.566028Z",
     "shell.execute_reply": "2022-11-11T11:40:46.564513Z"
    },
    "papermill": {
     "duration": 0.030596,
     "end_time": "2022-11-11T11:40:46.568646",
     "exception": false,
     "start_time": "2022-11-11T11:40:46.538050",
     "status": "completed"
    },
    "tags": []
   },
   "outputs": [
    {
     "data": {
      "text/plain": [
       "(891, 1029)"
      ]
     },
     "execution_count": 24,
     "metadata": {},
     "output_type": "execute_result"
    }
   ],
   "source": [
    "X_train.shape"
   ]
  },
  {
   "cell_type": "markdown",
   "id": "299a5401",
   "metadata": {
    "papermill": {
     "duration": 0.010015,
     "end_time": "2022-11-11T11:40:46.589090",
     "exception": false,
     "start_time": "2022-11-11T11:40:46.579075",
     "status": "completed"
    },
    "tags": []
   },
   "source": [
    "## Training:"
   ]
  },
  {
   "cell_type": "code",
   "execution_count": 25,
   "id": "a3be9f1b",
   "metadata": {
    "execution": {
     "iopub.execute_input": "2022-11-11T11:40:46.613381Z",
     "iopub.status.busy": "2022-11-11T11:40:46.612446Z",
     "iopub.status.idle": "2022-11-11T11:40:46.924524Z",
     "shell.execute_reply": "2022-11-11T11:40:46.923575Z"
    },
    "papermill": {
     "duration": 0.328253,
     "end_time": "2022-11-11T11:40:46.927713",
     "exception": false,
     "start_time": "2022-11-11T11:40:46.599460",
     "status": "completed"
    },
    "tags": []
   },
   "outputs": [],
   "source": [
    "from sklearn.ensemble import RandomForestClassifier, AdaBoostClassifier\n",
    "# from sklearn.neural_network import MLPClassifier\n",
    "from sklearn.neighbors import KNeighborsClassifier\n",
    "\n",
    "from sklearn.model_selection import cross_val_score\n",
    "\n",
    "# model = RandomForestClassifier()\n",
    "model = RandomForestClassifier(n_estimators=100, criterion='gini', ccp_alpha=0)\n",
    "# model = AdaBoostClassifier(n_estimators=200, learning_rate=0.5)\n",
    "\n"
   ]
  },
  {
   "cell_type": "code",
   "execution_count": 26,
   "id": "5f35b315",
   "metadata": {
    "execution": {
     "iopub.execute_input": "2022-11-11T11:40:46.961416Z",
     "iopub.status.busy": "2022-11-11T11:40:46.960135Z",
     "iopub.status.idle": "2022-11-11T11:40:51.727716Z",
     "shell.execute_reply": "2022-11-11T11:40:51.726392Z"
    },
    "papermill": {
     "duration": 4.787196,
     "end_time": "2022-11-11T11:40:51.730655",
     "exception": false,
     "start_time": "2022-11-11T11:40:46.943459",
     "status": "completed"
    },
    "tags": []
   },
   "outputs": [
    {
     "name": "stdout",
     "output_type": "stream",
     "text": [
      "[0.85555556 0.82022472 0.79775281 0.82022472 0.8988764  0.79775281\n",
      " 0.78651685 0.76404494 0.84269663 0.80898876]\n"
     ]
    }
   ],
   "source": [
    "scores = cross_val_score(model, X_train, y, cv=10)\n",
    "print(scores)"
   ]
  },
  {
   "cell_type": "code",
   "execution_count": 27,
   "id": "7ad72873",
   "metadata": {
    "execution": {
     "iopub.execute_input": "2022-11-11T11:40:51.754346Z",
     "iopub.status.busy": "2022-11-11T11:40:51.753837Z",
     "iopub.status.idle": "2022-11-11T11:40:52.280975Z",
     "shell.execute_reply": "2022-11-11T11:40:52.279721Z"
    },
    "papermill": {
     "duration": 0.542255,
     "end_time": "2022-11-11T11:40:52.283800",
     "exception": false,
     "start_time": "2022-11-11T11:40:51.741545",
     "status": "completed"
    },
    "tags": []
   },
   "outputs": [
    {
     "data": {
      "text/plain": [
       "0.9988776655443322"
      ]
     },
     "execution_count": 27,
     "metadata": {},
     "output_type": "execute_result"
    }
   ],
   "source": [
    "model.fit(X_train, y)\n",
    "model.score(X_train, y)"
   ]
  },
  {
   "cell_type": "markdown",
   "id": "83d8a00c",
   "metadata": {
    "papermill": {
     "duration": 0.010714,
     "end_time": "2022-11-11T11:40:52.305519",
     "exception": false,
     "start_time": "2022-11-11T11:40:52.294805",
     "status": "completed"
    },
    "tags": []
   },
   "source": [
    "## Predictions:"
   ]
  },
  {
   "cell_type": "code",
   "execution_count": 28,
   "id": "106949d9",
   "metadata": {
    "execution": {
     "iopub.execute_input": "2022-11-11T11:40:52.329477Z",
     "iopub.status.busy": "2022-11-11T11:40:52.329070Z",
     "iopub.status.idle": "2022-11-11T11:40:52.366917Z",
     "shell.execute_reply": "2022-11-11T11:40:52.365851Z"
    },
    "papermill": {
     "duration": 0.053542,
     "end_time": "2022-11-11T11:40:52.369831",
     "exception": false,
     "start_time": "2022-11-11T11:40:52.316289",
     "status": "completed"
    },
    "tags": []
   },
   "outputs": [],
   "source": [
    "predictions = model.predict(X_test)"
   ]
  },
  {
   "cell_type": "code",
   "execution_count": 29,
   "id": "2a7a8083",
   "metadata": {
    "execution": {
     "iopub.execute_input": "2022-11-11T11:40:52.392640Z",
     "iopub.status.busy": "2022-11-11T11:40:52.392218Z",
     "iopub.status.idle": "2022-11-11T11:40:52.403381Z",
     "shell.execute_reply": "2022-11-11T11:40:52.402043Z"
    },
    "papermill": {
     "duration": 0.025981,
     "end_time": "2022-11-11T11:40:52.406361",
     "exception": false,
     "start_time": "2022-11-11T11:40:52.380380",
     "status": "completed"
    },
    "tags": []
   },
   "outputs": [
    {
     "name": "stdout",
     "output_type": "stream",
     "text": [
      "Your submission was successfully saved!\n"
     ]
    }
   ],
   "source": [
    "output = pd.DataFrame({'PassengerId': test_data.PassengerId, 'Survived': predictions})\n",
    "output.to_csv('submission.csv', index=False)\n",
    "print(\"Your submission was successfully saved!\")"
   ]
  },
  {
   "cell_type": "code",
   "execution_count": 30,
   "id": "f857bc18",
   "metadata": {
    "execution": {
     "iopub.execute_input": "2022-11-11T11:40:52.429367Z",
     "iopub.status.busy": "2022-11-11T11:40:52.428914Z",
     "iopub.status.idle": "2022-11-11T11:40:52.441809Z",
     "shell.execute_reply": "2022-11-11T11:40:52.440624Z"
    },
    "papermill": {
     "duration": 0.027521,
     "end_time": "2022-11-11T11:40:52.444400",
     "exception": false,
     "start_time": "2022-11-11T11:40:52.416879",
     "status": "completed"
    },
    "tags": []
   },
   "outputs": [
    {
     "data": {
      "text/plain": [
       "Survived\n",
       "0           292\n",
       "1           126\n",
       "dtype: int64"
      ]
     },
     "execution_count": 30,
     "metadata": {},
     "output_type": "execute_result"
    }
   ],
   "source": [
    "output[['Survived']].value_counts()"
   ]
  },
  {
   "cell_type": "code",
   "execution_count": null,
   "id": "6bb46956",
   "metadata": {
    "papermill": {
     "duration": 0.010844,
     "end_time": "2022-11-11T11:40:52.465889",
     "exception": false,
     "start_time": "2022-11-11T11:40:52.455045",
     "status": "completed"
    },
    "tags": []
   },
   "outputs": [],
   "source": []
  }
 ],
 "metadata": {
  "kernelspec": {
   "display_name": "Python 3",
   "language": "python",
   "name": "python3"
  },
  "language_info": {
   "codemirror_mode": {
    "name": "ipython",
    "version": 3
   },
   "file_extension": ".py",
   "mimetype": "text/x-python",
   "name": "python",
   "nbconvert_exporter": "python",
   "pygments_lexer": "ipython3",
   "version": "3.7.12"
  },
  "papermill": {
   "default_parameters": {},
   "duration": 18.931992,
   "end_time": "2022-11-11T11:40:53.300779",
   "environment_variables": {},
   "exception": null,
   "input_path": "__notebook__.ipynb",
   "output_path": "__notebook__.ipynb",
   "parameters": {},
   "start_time": "2022-11-11T11:40:34.368787",
   "version": "2.3.4"
  }
 },
 "nbformat": 4,
 "nbformat_minor": 5
}
