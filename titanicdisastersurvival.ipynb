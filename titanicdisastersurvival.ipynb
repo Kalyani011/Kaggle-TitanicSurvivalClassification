{
 "cells": [
  {
   "cell_type": "code",
   "execution_count": 1,
   "id": "9d4c9e43",
   "metadata": {
    "_cell_guid": "b1076dfc-b9ad-4769-8c92-a6c4dae69d19",
    "_uuid": "8f2839f25d086af736a60e9eeb907d3b93b6e0e5",
    "execution": {
     "iopub.execute_input": "2022-11-11T05:51:08.770579Z",
     "iopub.status.busy": "2022-11-11T05:51:08.769609Z",
     "iopub.status.idle": "2022-11-11T05:51:08.779545Z",
     "shell.execute_reply": "2022-11-11T05:51:08.778696Z"
    },
    "papermill": {
     "duration": 0.023969,
     "end_time": "2022-11-11T05:51:08.782094",
     "exception": false,
     "start_time": "2022-11-11T05:51:08.758125",
     "status": "completed"
    },
    "tags": []
   },
   "outputs": [],
   "source": [
    "import numpy as np # linear algebra\n",
    "import pandas as pd # data processing, CSV file I/O (e.g. pd.read_csv)"
   ]
  },
  {
   "cell_type": "code",
   "execution_count": 2,
   "id": "6457cb40",
   "metadata": {
    "execution": {
     "iopub.execute_input": "2022-11-11T05:51:08.800234Z",
     "iopub.status.busy": "2022-11-11T05:51:08.799803Z",
     "iopub.status.idle": "2022-11-11T05:51:08.821897Z",
     "shell.execute_reply": "2022-11-11T05:51:08.820754Z"
    },
    "papermill": {
     "duration": 0.03416,
     "end_time": "2022-11-11T05:51:08.824761",
     "exception": false,
     "start_time": "2022-11-11T05:51:08.790601",
     "status": "completed"
    },
    "tags": []
   },
   "outputs": [],
   "source": [
    "train_data = pd.read_csv('/kaggle/input/titanic/train.csv')"
   ]
  },
  {
   "cell_type": "code",
   "execution_count": 3,
   "id": "d245e581",
   "metadata": {
    "execution": {
     "iopub.execute_input": "2022-11-11T05:51:08.842902Z",
     "iopub.status.busy": "2022-11-11T05:51:08.842479Z",
     "iopub.status.idle": "2022-11-11T05:51:08.873119Z",
     "shell.execute_reply": "2022-11-11T05:51:08.872166Z"
    },
    "papermill": {
     "duration": 0.043042,
     "end_time": "2022-11-11T05:51:08.875964",
     "exception": false,
     "start_time": "2022-11-11T05:51:08.832922",
     "status": "completed"
    },
    "tags": []
   },
   "outputs": [
    {
     "data": {
      "text/html": [
       "<div>\n",
       "<style scoped>\n",
       "    .dataframe tbody tr th:only-of-type {\n",
       "        vertical-align: middle;\n",
       "    }\n",
       "\n",
       "    .dataframe tbody tr th {\n",
       "        vertical-align: top;\n",
       "    }\n",
       "\n",
       "    .dataframe thead th {\n",
       "        text-align: right;\n",
       "    }\n",
       "</style>\n",
       "<table border=\"1\" class=\"dataframe\">\n",
       "  <thead>\n",
       "    <tr style=\"text-align: right;\">\n",
       "      <th></th>\n",
       "      <th>PassengerId</th>\n",
       "      <th>Survived</th>\n",
       "      <th>Pclass</th>\n",
       "      <th>Name</th>\n",
       "      <th>Sex</th>\n",
       "      <th>Age</th>\n",
       "      <th>SibSp</th>\n",
       "      <th>Parch</th>\n",
       "      <th>Ticket</th>\n",
       "      <th>Fare</th>\n",
       "      <th>Cabin</th>\n",
       "      <th>Embarked</th>\n",
       "    </tr>\n",
       "  </thead>\n",
       "  <tbody>\n",
       "    <tr>\n",
       "      <th>0</th>\n",
       "      <td>1</td>\n",
       "      <td>0</td>\n",
       "      <td>3</td>\n",
       "      <td>Braund, Mr. Owen Harris</td>\n",
       "      <td>male</td>\n",
       "      <td>22.0</td>\n",
       "      <td>1</td>\n",
       "      <td>0</td>\n",
       "      <td>A/5 21171</td>\n",
       "      <td>7.2500</td>\n",
       "      <td>NaN</td>\n",
       "      <td>S</td>\n",
       "    </tr>\n",
       "    <tr>\n",
       "      <th>1</th>\n",
       "      <td>2</td>\n",
       "      <td>1</td>\n",
       "      <td>1</td>\n",
       "      <td>Cumings, Mrs. John Bradley (Florence Briggs Th...</td>\n",
       "      <td>female</td>\n",
       "      <td>38.0</td>\n",
       "      <td>1</td>\n",
       "      <td>0</td>\n",
       "      <td>PC 17599</td>\n",
       "      <td>71.2833</td>\n",
       "      <td>C85</td>\n",
       "      <td>C</td>\n",
       "    </tr>\n",
       "    <tr>\n",
       "      <th>2</th>\n",
       "      <td>3</td>\n",
       "      <td>1</td>\n",
       "      <td>3</td>\n",
       "      <td>Heikkinen, Miss. Laina</td>\n",
       "      <td>female</td>\n",
       "      <td>26.0</td>\n",
       "      <td>0</td>\n",
       "      <td>0</td>\n",
       "      <td>STON/O2. 3101282</td>\n",
       "      <td>7.9250</td>\n",
       "      <td>NaN</td>\n",
       "      <td>S</td>\n",
       "    </tr>\n",
       "    <tr>\n",
       "      <th>3</th>\n",
       "      <td>4</td>\n",
       "      <td>1</td>\n",
       "      <td>1</td>\n",
       "      <td>Futrelle, Mrs. Jacques Heath (Lily May Peel)</td>\n",
       "      <td>female</td>\n",
       "      <td>35.0</td>\n",
       "      <td>1</td>\n",
       "      <td>0</td>\n",
       "      <td>113803</td>\n",
       "      <td>53.1000</td>\n",
       "      <td>C123</td>\n",
       "      <td>S</td>\n",
       "    </tr>\n",
       "    <tr>\n",
       "      <th>4</th>\n",
       "      <td>5</td>\n",
       "      <td>0</td>\n",
       "      <td>3</td>\n",
       "      <td>Allen, Mr. William Henry</td>\n",
       "      <td>male</td>\n",
       "      <td>35.0</td>\n",
       "      <td>0</td>\n",
       "      <td>0</td>\n",
       "      <td>373450</td>\n",
       "      <td>8.0500</td>\n",
       "      <td>NaN</td>\n",
       "      <td>S</td>\n",
       "    </tr>\n",
       "  </tbody>\n",
       "</table>\n",
       "</div>"
      ],
      "text/plain": [
       "   PassengerId  Survived  Pclass  \\\n",
       "0            1         0       3   \n",
       "1            2         1       1   \n",
       "2            3         1       3   \n",
       "3            4         1       1   \n",
       "4            5         0       3   \n",
       "\n",
       "                                                Name     Sex   Age  SibSp  \\\n",
       "0                            Braund, Mr. Owen Harris    male  22.0      1   \n",
       "1  Cumings, Mrs. John Bradley (Florence Briggs Th...  female  38.0      1   \n",
       "2                             Heikkinen, Miss. Laina  female  26.0      0   \n",
       "3       Futrelle, Mrs. Jacques Heath (Lily May Peel)  female  35.0      1   \n",
       "4                           Allen, Mr. William Henry    male  35.0      0   \n",
       "\n",
       "   Parch            Ticket     Fare Cabin Embarked  \n",
       "0      0         A/5 21171   7.2500   NaN        S  \n",
       "1      0          PC 17599  71.2833   C85        C  \n",
       "2      0  STON/O2. 3101282   7.9250   NaN        S  \n",
       "3      0            113803  53.1000  C123        S  \n",
       "4      0            373450   8.0500   NaN        S  "
      ]
     },
     "execution_count": 3,
     "metadata": {},
     "output_type": "execute_result"
    }
   ],
   "source": [
    "train_data.head()"
   ]
  },
  {
   "cell_type": "code",
   "execution_count": 4,
   "id": "bac741bd",
   "metadata": {
    "execution": {
     "iopub.execute_input": "2022-11-11T05:51:08.895036Z",
     "iopub.status.busy": "2022-11-11T05:51:08.894421Z",
     "iopub.status.idle": "2022-11-11T05:51:08.906920Z",
     "shell.execute_reply": "2022-11-11T05:51:08.905710Z"
    },
    "papermill": {
     "duration": 0.025051,
     "end_time": "2022-11-11T05:51:08.909679",
     "exception": false,
     "start_time": "2022-11-11T05:51:08.884628",
     "status": "completed"
    },
    "tags": []
   },
   "outputs": [],
   "source": [
    "test_data = pd.read_csv('/kaggle/input/titanic/test.csv')"
   ]
  },
  {
   "cell_type": "markdown",
   "id": "7d782949",
   "metadata": {
    "papermill": {
     "duration": 0.007812,
     "end_time": "2022-11-11T05:51:08.926192",
     "exception": false,
     "start_time": "2022-11-11T05:51:08.918380",
     "status": "completed"
    },
    "tags": []
   },
   "source": [
    "## Data Analysis and Preprocessing:"
   ]
  },
  {
   "cell_type": "code",
   "execution_count": 5,
   "id": "5dd684ec",
   "metadata": {
    "execution": {
     "iopub.execute_input": "2022-11-11T05:51:08.945959Z",
     "iopub.status.busy": "2022-11-11T05:51:08.945552Z",
     "iopub.status.idle": "2022-11-11T05:51:08.959723Z",
     "shell.execute_reply": "2022-11-11T05:51:08.958148Z"
    },
    "papermill": {
     "duration": 0.025799,
     "end_time": "2022-11-11T05:51:08.961907",
     "exception": false,
     "start_time": "2022-11-11T05:51:08.936108",
     "status": "completed"
    },
    "tags": []
   },
   "outputs": [
    {
     "name": "stdout",
     "output_type": "stream",
     "text": [
      "0    549\n",
      "1    342\n",
      "Name: Survived, dtype: int64\n",
      "61.62% Passengers Died\n",
      "38.38% Passengers Survived\n"
     ]
    }
   ],
   "source": [
    "# Survival Rate in Training Data\n",
    "survived_stat = train_data['Survived'].value_counts()\n",
    "print(survived_stat)\n",
    "died = survived_stat[0]\n",
    "survived = survived_stat[1]\n",
    "\n",
    "print(f\"{round((died / (died + survived)) * 100, 2)}% Passengers Died\")\n",
    "print(f\"{round((survived / (died + survived)) * 100, 2)}% Passengers Survived\")"
   ]
  },
  {
   "cell_type": "code",
   "execution_count": 6,
   "id": "04b5e7ec",
   "metadata": {
    "execution": {
     "iopub.execute_input": "2022-11-11T05:51:08.981001Z",
     "iopub.status.busy": "2022-11-11T05:51:08.980409Z",
     "iopub.status.idle": "2022-11-11T05:51:08.986542Z",
     "shell.execute_reply": "2022-11-11T05:51:08.984803Z"
    },
    "papermill": {
     "duration": 0.018806,
     "end_time": "2022-11-11T05:51:08.989107",
     "exception": false,
     "start_time": "2022-11-11T05:51:08.970301",
     "status": "completed"
    },
    "tags": []
   },
   "outputs": [
    {
     "name": "stdout",
     "output_type": "stream",
     "text": [
      "['Pclass', 'Sex', 'Age', 'SibSp', 'Parch', 'Ticket', 'Fare', 'Cabin', 'Embarked']\n"
     ]
    }
   ],
   "source": [
    "dependents = [feature for feature in list(train_data.columns) if feature not in ['Survived', 'PassengerId', 'Name']]\n",
    "print(dependents)"
   ]
  },
  {
   "cell_type": "code",
   "execution_count": 7,
   "id": "2bf556f0",
   "metadata": {
    "execution": {
     "iopub.execute_input": "2022-11-11T05:51:09.007726Z",
     "iopub.status.busy": "2022-11-11T05:51:09.007282Z",
     "iopub.status.idle": "2022-11-11T05:51:09.687732Z",
     "shell.execute_reply": "2022-11-11T05:51:09.686352Z"
    },
    "papermill": {
     "duration": 0.693074,
     "end_time": "2022-11-11T05:51:09.690610",
     "exception": false,
     "start_time": "2022-11-11T05:51:08.997536",
     "status": "completed"
    },
    "tags": []
   },
   "outputs": [
    {
     "name": "stdout",
     "output_type": "stream",
     "text": [
      "\n",
      " Pclass\n",
      "3    491\n",
      "1    216\n",
      "2    184\n",
      "Name: Pclass, dtype: int64\n",
      "   0         1\n",
      "0  1  0.629630\n",
      "1  2  0.472826\n",
      "2  3  0.242363\n",
      "\n",
      " Sex\n",
      "male      577\n",
      "female    314\n",
      "Name: Sex, dtype: int64\n",
      "        0         1\n",
      "0  female  0.742038\n",
      "1    male  0.188908\n",
      "\n",
      " Age\n",
      "24.00    30\n",
      "22.00    27\n",
      "18.00    26\n",
      "19.00    25\n",
      "28.00    25\n",
      "         ..\n",
      "36.50     1\n",
      "55.50     1\n",
      "0.92      1\n",
      "23.50     1\n",
      "74.00     1\n",
      "Name: Age, Length: 88, dtype: int64\n",
      "        0    1\n",
      "0    0.42  1.0\n",
      "1    0.67  1.0\n",
      "2    0.75  1.0\n",
      "3    0.83  1.0\n",
      "4    0.92  1.0\n",
      "..    ...  ...\n",
      "83  70.00  0.0\n",
      "84  70.50  0.0\n",
      "85  71.00  0.0\n",
      "86  74.00  0.0\n",
      "87  80.00  1.0\n",
      "\n",
      "[88 rows x 2 columns]\n",
      "\n",
      " SibSp\n",
      "0    608\n",
      "1    209\n",
      "2     28\n",
      "4     18\n",
      "3     16\n",
      "8      7\n",
      "5      5\n",
      "Name: SibSp, dtype: int64\n",
      "   0         1\n",
      "0  0  0.345395\n",
      "1  1  0.535885\n",
      "2  2  0.464286\n",
      "3  3  0.250000\n",
      "4  4  0.166667\n",
      "5  5  0.000000\n",
      "6  8  0.000000\n",
      "\n",
      " Parch\n",
      "0    678\n",
      "1    118\n",
      "2     80\n",
      "5      5\n",
      "3      5\n",
      "4      4\n",
      "6      1\n",
      "Name: Parch, dtype: int64\n",
      "   0         1\n",
      "0  0  0.343658\n",
      "1  1  0.550847\n",
      "2  2  0.500000\n",
      "3  3  0.600000\n",
      "4  4  0.000000\n",
      "5  5  0.200000\n",
      "6  6  0.000000\n",
      "\n",
      " Ticket\n",
      "347082      7\n",
      "CA. 2343    7\n",
      "1601        7\n",
      "3101295     6\n",
      "CA 2144     6\n",
      "           ..\n",
      "9234        1\n",
      "19988       1\n",
      "2693        1\n",
      "PC 17612    1\n",
      "370376      1\n",
      "Name: Ticket, Length: 681, dtype: int64\n",
      "               0         1\n",
      "0         110152  1.000000\n",
      "1         110413  0.666667\n",
      "2         110465  0.000000\n",
      "3         110564  1.000000\n",
      "4         110813  1.000000\n",
      "..           ...       ...\n",
      "676   W./C. 6608  0.000000\n",
      "677   W./C. 6609  0.000000\n",
      "678  W.E.P. 5734  0.000000\n",
      "679    W/C 14208  0.000000\n",
      "680    WE/P 5735  0.500000\n",
      "\n",
      "[681 rows x 2 columns]\n",
      "\n",
      " Fare\n",
      "8.0500     43\n",
      "13.0000    42\n",
      "7.8958     38\n",
      "7.7500     34\n",
      "26.0000    31\n",
      "           ..\n",
      "35.0000     1\n",
      "28.5000     1\n",
      "6.2375      1\n",
      "14.0000     1\n",
      "10.5167     1\n",
      "Name: Fare, Length: 248, dtype: int64\n",
      "            0         1\n",
      "0      0.0000  0.066667\n",
      "1      4.0125  0.000000\n",
      "2      5.0000  0.000000\n",
      "3      6.2375  0.000000\n",
      "4      6.4375  0.000000\n",
      "..        ...       ...\n",
      "243  227.5250  0.750000\n",
      "244  247.5208  0.500000\n",
      "245  262.3750  1.000000\n",
      "246  263.0000  0.500000\n",
      "247  512.3292  1.000000\n",
      "\n",
      "[248 rows x 2 columns]\n",
      "\n",
      " Cabin\n",
      "B96 B98        4\n",
      "G6             4\n",
      "C23 C25 C27    4\n",
      "C22 C26        3\n",
      "F33            3\n",
      "              ..\n",
      "E34            1\n",
      "C7             1\n",
      "C54            1\n",
      "E36            1\n",
      "C148           1\n",
      "Name: Cabin, Length: 147, dtype: int64\n",
      "       0    1\n",
      "0    A10  0.0\n",
      "1    A14  0.0\n",
      "2    A16  1.0\n",
      "3    A19  0.0\n",
      "4    A20  1.0\n",
      "..   ...  ...\n",
      "142  F33  1.0\n",
      "143  F38  0.0\n",
      "144   F4  1.0\n",
      "145   G6  0.5\n",
      "146    T  0.0\n",
      "\n",
      "[147 rows x 2 columns]\n",
      "\n",
      " Embarked\n",
      "S    644\n",
      "C    168\n",
      "Q     77\n",
      "Name: Embarked, dtype: int64\n",
      "   0         1\n",
      "0  C  0.553571\n",
      "1  Q  0.389610\n",
      "2  S  0.336957\n"
     ]
    }
   ],
   "source": [
    "import matplotlib.pyplot as plt\n",
    "\n",
    "# plt.style.use('seaborn')\n",
    "\n",
    "# fig, axs = plt.subplots(len(dependents))\n",
    "\n",
    "for index, feature in enumerate(dependents):\n",
    "    print(\"\\n\", feature)\n",
    "    \n",
    "    print(train_data[feature].value_counts())\n",
    "    feature_stat = dict(train_data[feature].value_counts())\n",
    "    values = []\n",
    "    rates = []\n",
    "    for feature_val in feature_stat:\n",
    "        values.append(feature_val)\n",
    "        value = train_data.loc[train_data[feature] == feature_val][\"Survived\"]\n",
    "        rates.append(sum(value) / len(value))\n",
    "    \n",
    "    print(pd.DataFrame(sorted(zip(values, rates))))\n",
    "#     axs[index].plot(values, rates)\n",
    "    "
   ]
  },
  {
   "cell_type": "code",
   "execution_count": 8,
   "id": "f4d6ae13",
   "metadata": {
    "execution": {
     "iopub.execute_input": "2022-11-11T05:51:09.710599Z",
     "iopub.status.busy": "2022-11-11T05:51:09.710149Z",
     "iopub.status.idle": "2022-11-11T05:51:09.729261Z",
     "shell.execute_reply": "2022-11-11T05:51:09.727236Z"
    },
    "papermill": {
     "duration": 0.032062,
     "end_time": "2022-11-11T05:51:09.731838",
     "exception": false,
     "start_time": "2022-11-11T05:51:09.699776",
     "status": "completed"
    },
    "tags": []
   },
   "outputs": [
    {
     "name": "stdout",
     "output_type": "stream",
     "text": [
      "<class 'pandas.core.frame.DataFrame'>\n",
      "RangeIndex: 891 entries, 0 to 890\n",
      "Data columns (total 12 columns):\n",
      " #   Column       Non-Null Count  Dtype  \n",
      "---  ------       --------------  -----  \n",
      " 0   PassengerId  891 non-null    int64  \n",
      " 1   Survived     891 non-null    int64  \n",
      " 2   Pclass       891 non-null    int64  \n",
      " 3   Name         891 non-null    object \n",
      " 4   Sex          891 non-null    object \n",
      " 5   Age          714 non-null    float64\n",
      " 6   SibSp        891 non-null    int64  \n",
      " 7   Parch        891 non-null    int64  \n",
      " 8   Ticket       891 non-null    object \n",
      " 9   Fare         891 non-null    float64\n",
      " 10  Cabin        204 non-null    object \n",
      " 11  Embarked     889 non-null    object \n",
      "dtypes: float64(2), int64(5), object(5)\n",
      "memory usage: 83.7+ KB\n"
     ]
    }
   ],
   "source": [
    "train_data.info()"
   ]
  },
  {
   "cell_type": "code",
   "execution_count": 9,
   "id": "04fce1ae",
   "metadata": {
    "execution": {
     "iopub.execute_input": "2022-11-11T05:51:09.751751Z",
     "iopub.status.busy": "2022-11-11T05:51:09.751387Z",
     "iopub.status.idle": "2022-11-11T05:51:09.765476Z",
     "shell.execute_reply": "2022-11-11T05:51:09.763735Z"
    },
    "papermill": {
     "duration": 0.026744,
     "end_time": "2022-11-11T05:51:09.767830",
     "exception": false,
     "start_time": "2022-11-11T05:51:09.741086",
     "status": "completed"
    },
    "tags": []
   },
   "outputs": [
    {
     "name": "stdout",
     "output_type": "stream",
     "text": [
      "<class 'pandas.core.frame.DataFrame'>\n",
      "RangeIndex: 418 entries, 0 to 417\n",
      "Data columns (total 11 columns):\n",
      " #   Column       Non-Null Count  Dtype  \n",
      "---  ------       --------------  -----  \n",
      " 0   PassengerId  418 non-null    int64  \n",
      " 1   Pclass       418 non-null    int64  \n",
      " 2   Name         418 non-null    object \n",
      " 3   Sex          418 non-null    object \n",
      " 4   Age          332 non-null    float64\n",
      " 5   SibSp        418 non-null    int64  \n",
      " 6   Parch        418 non-null    int64  \n",
      " 7   Ticket       418 non-null    object \n",
      " 8   Fare         417 non-null    float64\n",
      " 9   Cabin        91 non-null     object \n",
      " 10  Embarked     418 non-null    object \n",
      "dtypes: float64(2), int64(4), object(5)\n",
      "memory usage: 36.0+ KB\n"
     ]
    }
   ],
   "source": [
    "test_data.info()"
   ]
  },
  {
   "cell_type": "markdown",
   "id": "0c1aab42",
   "metadata": {
    "papermill": {
     "duration": 0.00846,
     "end_time": "2022-11-11T05:51:09.785417",
     "exception": false,
     "start_time": "2022-11-11T05:51:09.776957",
     "status": "completed"
    },
    "tags": []
   },
   "source": [
    "### Handling NaN fields:"
   ]
  },
  {
   "cell_type": "code",
   "execution_count": 10,
   "id": "71878245",
   "metadata": {
    "execution": {
     "iopub.execute_input": "2022-11-11T05:51:09.806111Z",
     "iopub.status.busy": "2022-11-11T05:51:09.805688Z",
     "iopub.status.idle": "2022-11-11T05:51:09.810366Z",
     "shell.execute_reply": "2022-11-11T05:51:09.809445Z"
    },
    "papermill": {
     "duration": 0.018042,
     "end_time": "2022-11-11T05:51:09.812295",
     "exception": false,
     "start_time": "2022-11-11T05:51:09.794253",
     "status": "completed"
    },
    "tags": []
   },
   "outputs": [],
   "source": [
    "values = {\"Age\":0, \"Cabin\": 'NA', \"Embarked\": 'NA'}"
   ]
  },
  {
   "cell_type": "code",
   "execution_count": 11,
   "id": "04e63613",
   "metadata": {
    "execution": {
     "iopub.execute_input": "2022-11-11T05:51:09.832154Z",
     "iopub.status.busy": "2022-11-11T05:51:09.831124Z",
     "iopub.status.idle": "2022-11-11T05:51:09.839009Z",
     "shell.execute_reply": "2022-11-11T05:51:09.837750Z"
    },
    "papermill": {
     "duration": 0.020159,
     "end_time": "2022-11-11T05:51:09.841278",
     "exception": false,
     "start_time": "2022-11-11T05:51:09.821119",
     "status": "completed"
    },
    "tags": []
   },
   "outputs": [],
   "source": [
    "# train = train_data.dropna(subset=['Age'])\n",
    "train = train_data.fillna(value=values)"
   ]
  },
  {
   "cell_type": "code",
   "execution_count": 12,
   "id": "b777963d",
   "metadata": {
    "execution": {
     "iopub.execute_input": "2022-11-11T05:51:09.860944Z",
     "iopub.status.busy": "2022-11-11T05:51:09.860523Z",
     "iopub.status.idle": "2022-11-11T05:51:09.867897Z",
     "shell.execute_reply": "2022-11-11T05:51:09.866626Z"
    },
    "papermill": {
     "duration": 0.019851,
     "end_time": "2022-11-11T05:51:09.870115",
     "exception": false,
     "start_time": "2022-11-11T05:51:09.850264",
     "status": "completed"
    },
    "tags": []
   },
   "outputs": [],
   "source": [
    "test = test_data.fillna(value=values)"
   ]
  },
  {
   "cell_type": "code",
   "execution_count": 13,
   "id": "3ebd9f8e",
   "metadata": {
    "execution": {
     "iopub.execute_input": "2022-11-11T05:51:09.890606Z",
     "iopub.status.busy": "2022-11-11T05:51:09.889963Z",
     "iopub.status.idle": "2022-11-11T05:51:09.899497Z",
     "shell.execute_reply": "2022-11-11T05:51:09.898352Z"
    },
    "papermill": {
     "duration": 0.022677,
     "end_time": "2022-11-11T05:51:09.901925",
     "exception": false,
     "start_time": "2022-11-11T05:51:09.879248",
     "status": "completed"
    },
    "tags": []
   },
   "outputs": [],
   "source": [
    "#Adding Alone to train set\n",
    "train['T_partner']=train[\"SibSp\"]+train[\"Parch\"]\n",
    "train['Alone']=np.where(train['T_partner']>0, 0, 1)\n",
    "\n",
    "test['T_partner']=test[\"SibSp\"]+test[\"Parch\"]\n",
    "test['Alone']=np.where(test['T_partner']>0, 0, 1)"
   ]
  },
  {
   "cell_type": "code",
   "execution_count": 14,
   "id": "11b1e768",
   "metadata": {
    "execution": {
     "iopub.execute_input": "2022-11-11T05:51:09.922431Z",
     "iopub.status.busy": "2022-11-11T05:51:09.921097Z",
     "iopub.status.idle": "2022-11-11T05:51:09.945644Z",
     "shell.execute_reply": "2022-11-11T05:51:09.944699Z"
    },
    "papermill": {
     "duration": 0.037345,
     "end_time": "2022-11-11T05:51:09.948214",
     "exception": false,
     "start_time": "2022-11-11T05:51:09.910869",
     "status": "completed"
    },
    "tags": []
   },
   "outputs": [
    {
     "data": {
      "text/html": [
       "<div>\n",
       "<style scoped>\n",
       "    .dataframe tbody tr th:only-of-type {\n",
       "        vertical-align: middle;\n",
       "    }\n",
       "\n",
       "    .dataframe tbody tr th {\n",
       "        vertical-align: top;\n",
       "    }\n",
       "\n",
       "    .dataframe thead th {\n",
       "        text-align: right;\n",
       "    }\n",
       "</style>\n",
       "<table border=\"1\" class=\"dataframe\">\n",
       "  <thead>\n",
       "    <tr style=\"text-align: right;\">\n",
       "      <th></th>\n",
       "      <th>PassengerId</th>\n",
       "      <th>Survived</th>\n",
       "      <th>Pclass</th>\n",
       "      <th>Name</th>\n",
       "      <th>Sex</th>\n",
       "      <th>Age</th>\n",
       "      <th>SibSp</th>\n",
       "      <th>Parch</th>\n",
       "      <th>Ticket</th>\n",
       "      <th>Fare</th>\n",
       "      <th>Cabin</th>\n",
       "      <th>Embarked</th>\n",
       "      <th>T_partner</th>\n",
       "      <th>Alone</th>\n",
       "    </tr>\n",
       "  </thead>\n",
       "  <tbody>\n",
       "    <tr>\n",
       "      <th>0</th>\n",
       "      <td>1</td>\n",
       "      <td>0</td>\n",
       "      <td>3</td>\n",
       "      <td>Braund, Mr. Owen Harris</td>\n",
       "      <td>male</td>\n",
       "      <td>22.0</td>\n",
       "      <td>1</td>\n",
       "      <td>0</td>\n",
       "      <td>A/5 21171</td>\n",
       "      <td>7.2500</td>\n",
       "      <td>NA</td>\n",
       "      <td>S</td>\n",
       "      <td>1</td>\n",
       "      <td>0</td>\n",
       "    </tr>\n",
       "    <tr>\n",
       "      <th>1</th>\n",
       "      <td>2</td>\n",
       "      <td>1</td>\n",
       "      <td>1</td>\n",
       "      <td>Cumings, Mrs. John Bradley (Florence Briggs Th...</td>\n",
       "      <td>female</td>\n",
       "      <td>38.0</td>\n",
       "      <td>1</td>\n",
       "      <td>0</td>\n",
       "      <td>PC 17599</td>\n",
       "      <td>71.2833</td>\n",
       "      <td>C85</td>\n",
       "      <td>C</td>\n",
       "      <td>1</td>\n",
       "      <td>0</td>\n",
       "    </tr>\n",
       "    <tr>\n",
       "      <th>2</th>\n",
       "      <td>3</td>\n",
       "      <td>1</td>\n",
       "      <td>3</td>\n",
       "      <td>Heikkinen, Miss. Laina</td>\n",
       "      <td>female</td>\n",
       "      <td>26.0</td>\n",
       "      <td>0</td>\n",
       "      <td>0</td>\n",
       "      <td>STON/O2. 3101282</td>\n",
       "      <td>7.9250</td>\n",
       "      <td>NA</td>\n",
       "      <td>S</td>\n",
       "      <td>0</td>\n",
       "      <td>1</td>\n",
       "    </tr>\n",
       "    <tr>\n",
       "      <th>3</th>\n",
       "      <td>4</td>\n",
       "      <td>1</td>\n",
       "      <td>1</td>\n",
       "      <td>Futrelle, Mrs. Jacques Heath (Lily May Peel)</td>\n",
       "      <td>female</td>\n",
       "      <td>35.0</td>\n",
       "      <td>1</td>\n",
       "      <td>0</td>\n",
       "      <td>113803</td>\n",
       "      <td>53.1000</td>\n",
       "      <td>C123</td>\n",
       "      <td>S</td>\n",
       "      <td>1</td>\n",
       "      <td>0</td>\n",
       "    </tr>\n",
       "    <tr>\n",
       "      <th>4</th>\n",
       "      <td>5</td>\n",
       "      <td>0</td>\n",
       "      <td>3</td>\n",
       "      <td>Allen, Mr. William Henry</td>\n",
       "      <td>male</td>\n",
       "      <td>35.0</td>\n",
       "      <td>0</td>\n",
       "      <td>0</td>\n",
       "      <td>373450</td>\n",
       "      <td>8.0500</td>\n",
       "      <td>NA</td>\n",
       "      <td>S</td>\n",
       "      <td>0</td>\n",
       "      <td>1</td>\n",
       "    </tr>\n",
       "    <tr>\n",
       "      <th>...</th>\n",
       "      <td>...</td>\n",
       "      <td>...</td>\n",
       "      <td>...</td>\n",
       "      <td>...</td>\n",
       "      <td>...</td>\n",
       "      <td>...</td>\n",
       "      <td>...</td>\n",
       "      <td>...</td>\n",
       "      <td>...</td>\n",
       "      <td>...</td>\n",
       "      <td>...</td>\n",
       "      <td>...</td>\n",
       "      <td>...</td>\n",
       "      <td>...</td>\n",
       "    </tr>\n",
       "    <tr>\n",
       "      <th>886</th>\n",
       "      <td>887</td>\n",
       "      <td>0</td>\n",
       "      <td>2</td>\n",
       "      <td>Montvila, Rev. Juozas</td>\n",
       "      <td>male</td>\n",
       "      <td>27.0</td>\n",
       "      <td>0</td>\n",
       "      <td>0</td>\n",
       "      <td>211536</td>\n",
       "      <td>13.0000</td>\n",
       "      <td>NA</td>\n",
       "      <td>S</td>\n",
       "      <td>0</td>\n",
       "      <td>1</td>\n",
       "    </tr>\n",
       "    <tr>\n",
       "      <th>887</th>\n",
       "      <td>888</td>\n",
       "      <td>1</td>\n",
       "      <td>1</td>\n",
       "      <td>Graham, Miss. Margaret Edith</td>\n",
       "      <td>female</td>\n",
       "      <td>19.0</td>\n",
       "      <td>0</td>\n",
       "      <td>0</td>\n",
       "      <td>112053</td>\n",
       "      <td>30.0000</td>\n",
       "      <td>B42</td>\n",
       "      <td>S</td>\n",
       "      <td>0</td>\n",
       "      <td>1</td>\n",
       "    </tr>\n",
       "    <tr>\n",
       "      <th>888</th>\n",
       "      <td>889</td>\n",
       "      <td>0</td>\n",
       "      <td>3</td>\n",
       "      <td>Johnston, Miss. Catherine Helen \"Carrie\"</td>\n",
       "      <td>female</td>\n",
       "      <td>0.0</td>\n",
       "      <td>1</td>\n",
       "      <td>2</td>\n",
       "      <td>W./C. 6607</td>\n",
       "      <td>23.4500</td>\n",
       "      <td>NA</td>\n",
       "      <td>S</td>\n",
       "      <td>3</td>\n",
       "      <td>0</td>\n",
       "    </tr>\n",
       "    <tr>\n",
       "      <th>889</th>\n",
       "      <td>890</td>\n",
       "      <td>1</td>\n",
       "      <td>1</td>\n",
       "      <td>Behr, Mr. Karl Howell</td>\n",
       "      <td>male</td>\n",
       "      <td>26.0</td>\n",
       "      <td>0</td>\n",
       "      <td>0</td>\n",
       "      <td>111369</td>\n",
       "      <td>30.0000</td>\n",
       "      <td>C148</td>\n",
       "      <td>C</td>\n",
       "      <td>0</td>\n",
       "      <td>1</td>\n",
       "    </tr>\n",
       "    <tr>\n",
       "      <th>890</th>\n",
       "      <td>891</td>\n",
       "      <td>0</td>\n",
       "      <td>3</td>\n",
       "      <td>Dooley, Mr. Patrick</td>\n",
       "      <td>male</td>\n",
       "      <td>32.0</td>\n",
       "      <td>0</td>\n",
       "      <td>0</td>\n",
       "      <td>370376</td>\n",
       "      <td>7.7500</td>\n",
       "      <td>NA</td>\n",
       "      <td>Q</td>\n",
       "      <td>0</td>\n",
       "      <td>1</td>\n",
       "    </tr>\n",
       "  </tbody>\n",
       "</table>\n",
       "<p>891 rows × 14 columns</p>\n",
       "</div>"
      ],
      "text/plain": [
       "     PassengerId  Survived  Pclass  \\\n",
       "0              1         0       3   \n",
       "1              2         1       1   \n",
       "2              3         1       3   \n",
       "3              4         1       1   \n",
       "4              5         0       3   \n",
       "..           ...       ...     ...   \n",
       "886          887         0       2   \n",
       "887          888         1       1   \n",
       "888          889         0       3   \n",
       "889          890         1       1   \n",
       "890          891         0       3   \n",
       "\n",
       "                                                  Name     Sex   Age  SibSp  \\\n",
       "0                              Braund, Mr. Owen Harris    male  22.0      1   \n",
       "1    Cumings, Mrs. John Bradley (Florence Briggs Th...  female  38.0      1   \n",
       "2                               Heikkinen, Miss. Laina  female  26.0      0   \n",
       "3         Futrelle, Mrs. Jacques Heath (Lily May Peel)  female  35.0      1   \n",
       "4                             Allen, Mr. William Henry    male  35.0      0   \n",
       "..                                                 ...     ...   ...    ...   \n",
       "886                              Montvila, Rev. Juozas    male  27.0      0   \n",
       "887                       Graham, Miss. Margaret Edith  female  19.0      0   \n",
       "888           Johnston, Miss. Catherine Helen \"Carrie\"  female   0.0      1   \n",
       "889                              Behr, Mr. Karl Howell    male  26.0      0   \n",
       "890                                Dooley, Mr. Patrick    male  32.0      0   \n",
       "\n",
       "     Parch            Ticket     Fare Cabin Embarked  T_partner  Alone  \n",
       "0        0         A/5 21171   7.2500    NA        S          1      0  \n",
       "1        0          PC 17599  71.2833   C85        C          1      0  \n",
       "2        0  STON/O2. 3101282   7.9250    NA        S          0      1  \n",
       "3        0            113803  53.1000  C123        S          1      0  \n",
       "4        0            373450   8.0500    NA        S          0      1  \n",
       "..     ...               ...      ...   ...      ...        ...    ...  \n",
       "886      0            211536  13.0000    NA        S          0      1  \n",
       "887      0            112053  30.0000   B42        S          0      1  \n",
       "888      2        W./C. 6607  23.4500    NA        S          3      0  \n",
       "889      0            111369  30.0000  C148        C          0      1  \n",
       "890      0            370376   7.7500    NA        Q          0      1  \n",
       "\n",
       "[891 rows x 14 columns]"
      ]
     },
     "execution_count": 14,
     "metadata": {},
     "output_type": "execute_result"
    }
   ],
   "source": [
    "train"
   ]
  },
  {
   "cell_type": "code",
   "execution_count": 15,
   "id": "f42f98ed",
   "metadata": {
    "execution": {
     "iopub.execute_input": "2022-11-11T05:51:09.969188Z",
     "iopub.status.busy": "2022-11-11T05:51:09.968251Z",
     "iopub.status.idle": "2022-11-11T05:51:09.982830Z",
     "shell.execute_reply": "2022-11-11T05:51:09.981581Z"
    },
    "papermill": {
     "duration": 0.028777,
     "end_time": "2022-11-11T05:51:09.986376",
     "exception": false,
     "start_time": "2022-11-11T05:51:09.957599",
     "status": "completed"
    },
    "tags": []
   },
   "outputs": [
    {
     "name": "stdout",
     "output_type": "stream",
     "text": [
      "<class 'pandas.core.frame.DataFrame'>\n",
      "RangeIndex: 891 entries, 0 to 890\n",
      "Data columns (total 14 columns):\n",
      " #   Column       Non-Null Count  Dtype  \n",
      "---  ------       --------------  -----  \n",
      " 0   PassengerId  891 non-null    int64  \n",
      " 1   Survived     891 non-null    int64  \n",
      " 2   Pclass       891 non-null    int64  \n",
      " 3   Name         891 non-null    object \n",
      " 4   Sex          891 non-null    object \n",
      " 5   Age          891 non-null    float64\n",
      " 6   SibSp        891 non-null    int64  \n",
      " 7   Parch        891 non-null    int64  \n",
      " 8   Ticket       891 non-null    object \n",
      " 9   Fare         891 non-null    float64\n",
      " 10  Cabin        891 non-null    object \n",
      " 11  Embarked     891 non-null    object \n",
      " 12  T_partner    891 non-null    int64  \n",
      " 13  Alone        891 non-null    int64  \n",
      "dtypes: float64(2), int64(7), object(5)\n",
      "memory usage: 97.6+ KB\n"
     ]
    }
   ],
   "source": [
    "train.info()"
   ]
  },
  {
   "cell_type": "code",
   "execution_count": 16,
   "id": "8ea9e51e",
   "metadata": {
    "execution": {
     "iopub.execute_input": "2022-11-11T05:51:10.008959Z",
     "iopub.status.busy": "2022-11-11T05:51:10.008519Z",
     "iopub.status.idle": "2022-11-11T05:51:10.013038Z",
     "shell.execute_reply": "2022-11-11T05:51:10.011893Z"
    },
    "papermill": {
     "duration": 0.018074,
     "end_time": "2022-11-11T05:51:10.015218",
     "exception": false,
     "start_time": "2022-11-11T05:51:09.997144",
     "status": "completed"
    },
    "tags": []
   },
   "outputs": [],
   "source": [
    "# test = test_data.fillna(value=values)"
   ]
  },
  {
   "cell_type": "markdown",
   "id": "ded20428",
   "metadata": {
    "papermill": {
     "duration": 0.009268,
     "end_time": "2022-11-11T05:51:10.033933",
     "exception": false,
     "start_time": "2022-11-11T05:51:10.024665",
     "status": "completed"
    },
    "tags": []
   },
   "source": [
    "### Analysing attribute values for identifying categorical (and type of categorical) and numerical variables:"
   ]
  },
  {
   "cell_type": "code",
   "execution_count": 17,
   "id": "4c144b3f",
   "metadata": {
    "execution": {
     "iopub.execute_input": "2022-11-11T05:51:10.054706Z",
     "iopub.status.busy": "2022-11-11T05:51:10.054067Z",
     "iopub.status.idle": "2022-11-11T05:51:10.059112Z",
     "shell.execute_reply": "2022-11-11T05:51:10.057878Z"
    },
    "papermill": {
     "duration": 0.018186,
     "end_time": "2022-11-11T05:51:10.061497",
     "exception": false,
     "start_time": "2022-11-11T05:51:10.043311",
     "status": "completed"
    },
    "tags": []
   },
   "outputs": [],
   "source": [
    "# Categorical Variables to be considered: Sex, Ticket, Cabin, Embarked\n",
    "# All are nominal categorical variables, cabin may be considered ordinal, however some passengers have multiple cabin values,\n",
    "# using dummies"
   ]
  },
  {
   "cell_type": "markdown",
   "id": "e6c01c12",
   "metadata": {
    "papermill": {
     "duration": 0.009205,
     "end_time": "2022-11-11T05:51:10.080138",
     "exception": false,
     "start_time": "2022-11-11T05:51:10.070933",
     "status": "completed"
    },
    "tags": []
   },
   "source": [
    "### Preparing input data:"
   ]
  },
  {
   "cell_type": "code",
   "execution_count": 18,
   "id": "0b7bf2f3",
   "metadata": {
    "execution": {
     "iopub.execute_input": "2022-11-11T05:51:10.101044Z",
     "iopub.status.busy": "2022-11-11T05:51:10.100641Z",
     "iopub.status.idle": "2022-11-11T05:51:10.106050Z",
     "shell.execute_reply": "2022-11-11T05:51:10.104700Z"
    },
    "papermill": {
     "duration": 0.018606,
     "end_time": "2022-11-11T05:51:10.108273",
     "exception": false,
     "start_time": "2022-11-11T05:51:10.089667",
     "status": "completed"
    },
    "tags": []
   },
   "outputs": [],
   "source": [
    "# Extracting independent output variable y\n",
    "y = train[\"Survived\"]\n",
    "\n",
    "# Setting features to be used\n",
    "features = [\"Pclass\", \"Sex\", \"Age\", \"Ticket\", \"Fare\", \"Embarked\", \"Alone\"]\n",
    "\n",
    "# features = [\"Pclass\", \"Sex\", \"Age\", \"SibSp\", \"Parch\", \"Ticket\", \"Embarked\"]\n"
   ]
  },
  {
   "cell_type": "code",
   "execution_count": 19,
   "id": "d99658a2",
   "metadata": {
    "execution": {
     "iopub.execute_input": "2022-11-11T05:51:10.129801Z",
     "iopub.status.busy": "2022-11-11T05:51:10.128668Z",
     "iopub.status.idle": "2022-11-11T05:51:10.136857Z",
     "shell.execute_reply": "2022-11-11T05:51:10.135615Z"
    },
    "papermill": {
     "duration": 0.021661,
     "end_time": "2022-11-11T05:51:10.139551",
     "exception": false,
     "start_time": "2022-11-11T05:51:10.117890",
     "status": "completed"
    },
    "tags": []
   },
   "outputs": [],
   "source": [
    "temp = train.copy()[features]\n",
    "temp_test = test.copy()[features]"
   ]
  },
  {
   "cell_type": "code",
   "execution_count": 20,
   "id": "bb6aa14e",
   "metadata": {
    "execution": {
     "iopub.execute_input": "2022-11-11T05:51:10.162738Z",
     "iopub.status.busy": "2022-11-11T05:51:10.162369Z",
     "iopub.status.idle": "2022-11-11T05:51:10.179329Z",
     "shell.execute_reply": "2022-11-11T05:51:10.176911Z"
    },
    "papermill": {
     "duration": 0.031988,
     "end_time": "2022-11-11T05:51:10.182387",
     "exception": false,
     "start_time": "2022-11-11T05:51:10.150399",
     "status": "completed"
    },
    "tags": []
   },
   "outputs": [
    {
     "data": {
      "text/html": [
       "<div>\n",
       "<style scoped>\n",
       "    .dataframe tbody tr th:only-of-type {\n",
       "        vertical-align: middle;\n",
       "    }\n",
       "\n",
       "    .dataframe tbody tr th {\n",
       "        vertical-align: top;\n",
       "    }\n",
       "\n",
       "    .dataframe thead th {\n",
       "        text-align: right;\n",
       "    }\n",
       "</style>\n",
       "<table border=\"1\" class=\"dataframe\">\n",
       "  <thead>\n",
       "    <tr style=\"text-align: right;\">\n",
       "      <th></th>\n",
       "      <th>Pclass</th>\n",
       "      <th>Sex</th>\n",
       "      <th>Age</th>\n",
       "      <th>Ticket</th>\n",
       "      <th>Fare</th>\n",
       "      <th>Embarked</th>\n",
       "      <th>Alone</th>\n",
       "    </tr>\n",
       "  </thead>\n",
       "  <tbody>\n",
       "    <tr>\n",
       "      <th>0</th>\n",
       "      <td>3</td>\n",
       "      <td>male</td>\n",
       "      <td>22.0</td>\n",
       "      <td>A/5 21171</td>\n",
       "      <td>7.2500</td>\n",
       "      <td>S</td>\n",
       "      <td>0</td>\n",
       "    </tr>\n",
       "    <tr>\n",
       "      <th>1</th>\n",
       "      <td>1</td>\n",
       "      <td>female</td>\n",
       "      <td>38.0</td>\n",
       "      <td>PC 17599</td>\n",
       "      <td>71.2833</td>\n",
       "      <td>C</td>\n",
       "      <td>0</td>\n",
       "    </tr>\n",
       "    <tr>\n",
       "      <th>2</th>\n",
       "      <td>3</td>\n",
       "      <td>female</td>\n",
       "      <td>26.0</td>\n",
       "      <td>STON/O2. 3101282</td>\n",
       "      <td>7.9250</td>\n",
       "      <td>S</td>\n",
       "      <td>1</td>\n",
       "    </tr>\n",
       "    <tr>\n",
       "      <th>3</th>\n",
       "      <td>1</td>\n",
       "      <td>female</td>\n",
       "      <td>35.0</td>\n",
       "      <td>113803</td>\n",
       "      <td>53.1000</td>\n",
       "      <td>S</td>\n",
       "      <td>0</td>\n",
       "    </tr>\n",
       "    <tr>\n",
       "      <th>4</th>\n",
       "      <td>3</td>\n",
       "      <td>male</td>\n",
       "      <td>35.0</td>\n",
       "      <td>373450</td>\n",
       "      <td>8.0500</td>\n",
       "      <td>S</td>\n",
       "      <td>1</td>\n",
       "    </tr>\n",
       "  </tbody>\n",
       "</table>\n",
       "</div>"
      ],
      "text/plain": [
       "   Pclass     Sex   Age            Ticket     Fare Embarked  Alone\n",
       "0       3    male  22.0         A/5 21171   7.2500        S      0\n",
       "1       1  female  38.0          PC 17599  71.2833        C      0\n",
       "2       3  female  26.0  STON/O2. 3101282   7.9250        S      1\n",
       "3       1  female  35.0            113803  53.1000        S      0\n",
       "4       3    male  35.0            373450   8.0500        S      1"
      ]
     },
     "execution_count": 20,
     "metadata": {},
     "output_type": "execute_result"
    }
   ],
   "source": [
    "temp.head()"
   ]
  },
  {
   "cell_type": "code",
   "execution_count": 21,
   "id": "18ba5313",
   "metadata": {
    "execution": {
     "iopub.execute_input": "2022-11-11T05:51:10.208144Z",
     "iopub.status.busy": "2022-11-11T05:51:10.206086Z",
     "iopub.status.idle": "2022-11-11T05:51:11.276057Z",
     "shell.execute_reply": "2022-11-11T05:51:11.274751Z"
    },
    "papermill": {
     "duration": 1.086348,
     "end_time": "2022-11-11T05:51:11.278640",
     "exception": false,
     "start_time": "2022-11-11T05:51:10.192292",
     "status": "completed"
    },
    "tags": []
   },
   "outputs": [
    {
     "data": {
      "text/plain": [
       "OneHotEncoder(handle_unknown='ignore', sparse=False)"
      ]
     },
     "execution_count": 21,
     "metadata": {},
     "output_type": "execute_result"
    }
   ],
   "source": [
    "from sklearn.preprocessing import OneHotEncoder, OrdinalEncoder\n",
    "encoder = OneHotEncoder(handle_unknown='ignore', sparse=False)\n",
    "\n",
    "# encoder = OrdinalEncoder(handle_unknown='use_encoded_value', unknown_value=-1)\n",
    "encoder.fit(temp)"
   ]
  },
  {
   "cell_type": "code",
   "execution_count": 22,
   "id": "6a46d98b",
   "metadata": {
    "execution": {
     "iopub.execute_input": "2022-11-11T05:51:11.301358Z",
     "iopub.status.busy": "2022-11-11T05:51:11.300222Z",
     "iopub.status.idle": "2022-11-11T05:51:11.329524Z",
     "shell.execute_reply": "2022-11-11T05:51:11.328438Z"
    },
    "papermill": {
     "duration": 0.043336,
     "end_time": "2022-11-11T05:51:11.331980",
     "exception": false,
     "start_time": "2022-11-11T05:51:11.288644",
     "status": "completed"
    },
    "tags": []
   },
   "outputs": [],
   "source": [
    "X_train = encoder.transform(temp)\n",
    "X_test = encoder.transform(temp_test)"
   ]
  },
  {
   "cell_type": "code",
   "execution_count": 23,
   "id": "323a8c18",
   "metadata": {
    "execution": {
     "iopub.execute_input": "2022-11-11T05:51:11.353898Z",
     "iopub.status.busy": "2022-11-11T05:51:11.353018Z",
     "iopub.status.idle": "2022-11-11T05:51:11.379730Z",
     "shell.execute_reply": "2022-11-11T05:51:11.378881Z"
    },
    "papermill": {
     "duration": 0.040519,
     "end_time": "2022-11-11T05:51:11.382135",
     "exception": false,
     "start_time": "2022-11-11T05:51:11.341616",
     "status": "completed"
    },
    "tags": []
   },
   "outputs": [],
   "source": [
    "from sklearn.preprocessing import StandardScaler, MinMaxScaler\n",
    "\n",
    "scaler = StandardScaler()\n",
    "# scaler = MinMaxScaler()\n",
    "\n",
    "X_train = scaler.fit_transform(X_train)\n",
    "X_test = scaler.transform(X_test)\n"
   ]
  },
  {
   "cell_type": "markdown",
   "id": "af711e55",
   "metadata": {
    "papermill": {
     "duration": 0.009564,
     "end_time": "2022-11-11T05:51:11.401354",
     "exception": false,
     "start_time": "2022-11-11T05:51:11.391790",
     "status": "completed"
    },
    "tags": []
   },
   "source": [
    "## Training:"
   ]
  },
  {
   "cell_type": "code",
   "execution_count": 24,
   "id": "f87ccfbf",
   "metadata": {
    "execution": {
     "iopub.execute_input": "2022-11-11T05:51:11.423777Z",
     "iopub.status.busy": "2022-11-11T05:51:11.422861Z",
     "iopub.status.idle": "2022-11-11T05:51:11.706763Z",
     "shell.execute_reply": "2022-11-11T05:51:11.705520Z"
    },
    "papermill": {
     "duration": 0.298217,
     "end_time": "2022-11-11T05:51:11.709687",
     "exception": false,
     "start_time": "2022-11-11T05:51:11.411470",
     "status": "completed"
    },
    "tags": []
   },
   "outputs": [],
   "source": [
    "from sklearn.ensemble import RandomForestClassifier, AdaBoostClassifier\n",
    "# from sklearn.neural_network import MLPClassifier\n",
    "\n",
    "from sklearn.model_selection import cross_val_score\n",
    "\n",
    "model = RandomForestClassifier()\n",
    "# model = RandomForestClassifier(n_estimators=100, criterion='gini')\n",
    "# model = AdaBoostClassifier(n_estimators=200, learning_rate=0.5)\n",
    "\n"
   ]
  },
  {
   "cell_type": "code",
   "execution_count": 25,
   "id": "cf1c4030",
   "metadata": {
    "execution": {
     "iopub.execute_input": "2022-11-11T05:51:11.731466Z",
     "iopub.status.busy": "2022-11-11T05:51:11.731010Z",
     "iopub.status.idle": "2022-11-11T05:51:13.881696Z",
     "shell.execute_reply": "2022-11-11T05:51:13.880488Z"
    },
    "papermill": {
     "duration": 2.166801,
     "end_time": "2022-11-11T05:51:13.886085",
     "exception": false,
     "start_time": "2022-11-11T05:51:11.719284",
     "status": "completed"
    },
    "tags": []
   },
   "outputs": [
    {
     "name": "stdout",
     "output_type": "stream",
     "text": [
      "[0.82681564 0.82022472 0.83707865 0.78651685 0.84269663]\n"
     ]
    }
   ],
   "source": [
    "scores = cross_val_score(model, X_train, y, cv=5)\n",
    "print(scores)"
   ]
  },
  {
   "cell_type": "code",
   "execution_count": 26,
   "id": "9756915e",
   "metadata": {
    "execution": {
     "iopub.execute_input": "2022-11-11T05:51:13.910145Z",
     "iopub.status.busy": "2022-11-11T05:51:13.909560Z",
     "iopub.status.idle": "2022-11-11T05:51:14.441620Z",
     "shell.execute_reply": "2022-11-11T05:51:14.440338Z"
    },
    "papermill": {
     "duration": 0.548429,
     "end_time": "2022-11-11T05:51:14.444992",
     "exception": false,
     "start_time": "2022-11-11T05:51:13.896563",
     "status": "completed"
    },
    "tags": []
   },
   "outputs": [
    {
     "data": {
      "text/plain": [
       "0.9988776655443322"
      ]
     },
     "execution_count": 26,
     "metadata": {},
     "output_type": "execute_result"
    }
   ],
   "source": [
    "model.fit(X_train, y)\n",
    "model.score(X_train, y)"
   ]
  },
  {
   "cell_type": "markdown",
   "id": "372e7a3e",
   "metadata": {
    "papermill": {
     "duration": 0.009605,
     "end_time": "2022-11-11T05:51:14.464609",
     "exception": false,
     "start_time": "2022-11-11T05:51:14.455004",
     "status": "completed"
    },
    "tags": []
   },
   "source": [
    "## Predictions:"
   ]
  },
  {
   "cell_type": "code",
   "execution_count": 27,
   "id": "4524f72f",
   "metadata": {
    "execution": {
     "iopub.execute_input": "2022-11-11T05:51:14.486342Z",
     "iopub.status.busy": "2022-11-11T05:51:14.485964Z",
     "iopub.status.idle": "2022-11-11T05:51:14.521528Z",
     "shell.execute_reply": "2022-11-11T05:51:14.520346Z"
    },
    "papermill": {
     "duration": 0.049945,
     "end_time": "2022-11-11T05:51:14.524216",
     "exception": false,
     "start_time": "2022-11-11T05:51:14.474271",
     "status": "completed"
    },
    "tags": []
   },
   "outputs": [],
   "source": [
    "predictions = model.predict(X_test)"
   ]
  },
  {
   "cell_type": "code",
   "execution_count": 28,
   "id": "3a6e1fe5",
   "metadata": {
    "execution": {
     "iopub.execute_input": "2022-11-11T05:51:14.546344Z",
     "iopub.status.busy": "2022-11-11T05:51:14.545691Z",
     "iopub.status.idle": "2022-11-11T05:51:14.556080Z",
     "shell.execute_reply": "2022-11-11T05:51:14.554249Z"
    },
    "papermill": {
     "duration": 0.024991,
     "end_time": "2022-11-11T05:51:14.559073",
     "exception": false,
     "start_time": "2022-11-11T05:51:14.534082",
     "status": "completed"
    },
    "tags": []
   },
   "outputs": [
    {
     "name": "stdout",
     "output_type": "stream",
     "text": [
      "Your submission was successfully saved!\n"
     ]
    }
   ],
   "source": [
    "output = pd.DataFrame({'PassengerId': test_data.PassengerId, 'Survived': predictions})\n",
    "output.to_csv('submission.csv', index=False)\n",
    "print(\"Your submission was successfully saved!\")"
   ]
  },
  {
   "cell_type": "code",
   "execution_count": null,
   "id": "f1e3085a",
   "metadata": {
    "papermill": {
     "duration": 0.009434,
     "end_time": "2022-11-11T05:51:14.578380",
     "exception": false,
     "start_time": "2022-11-11T05:51:14.568946",
     "status": "completed"
    },
    "tags": []
   },
   "outputs": [],
   "source": []
  }
 ],
 "metadata": {
  "kernelspec": {
   "display_name": "Python 3",
   "language": "python",
   "name": "python3"
  },
  "language_info": {
   "codemirror_mode": {
    "name": "ipython",
    "version": 3
   },
   "file_extension": ".py",
   "mimetype": "text/x-python",
   "name": "python",
   "nbconvert_exporter": "python",
   "pygments_lexer": "ipython3",
   "version": "3.7.12"
  },
  "papermill": {
   "default_parameters": {},
   "duration": 15.296004,
   "end_time": "2022-11-11T05:51:15.310467",
   "environment_variables": {},
   "exception": null,
   "input_path": "__notebook__.ipynb",
   "output_path": "__notebook__.ipynb",
   "parameters": {},
   "start_time": "2022-11-11T05:51:00.014463",
   "version": "2.3.4"
  }
 },
 "nbformat": 4,
 "nbformat_minor": 5
}
