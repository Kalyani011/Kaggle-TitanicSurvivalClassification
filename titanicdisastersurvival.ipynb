{
 "cells": [
  {
   "cell_type": "code",
   "execution_count": 1,
   "id": "fbb3e009",
   "metadata": {
    "_cell_guid": "b1076dfc-b9ad-4769-8c92-a6c4dae69d19",
    "_uuid": "8f2839f25d086af736a60e9eeb907d3b93b6e0e5",
    "execution": {
     "iopub.execute_input": "2022-11-11T05:24:52.998708Z",
     "iopub.status.busy": "2022-11-11T05:24:52.996793Z",
     "iopub.status.idle": "2022-11-11T05:24:53.014721Z",
     "shell.execute_reply": "2022-11-11T05:24:53.012980Z"
    },
    "papermill": {
     "duration": 0.035558,
     "end_time": "2022-11-11T05:24:53.019291",
     "exception": false,
     "start_time": "2022-11-11T05:24:52.983733",
     "status": "completed"
    },
    "tags": []
   },
   "outputs": [],
   "source": [
    "import numpy as np # linear algebra\n",
    "import pandas as pd # data processing, CSV file I/O (e.g. pd.read_csv)"
   ]
  },
  {
   "cell_type": "code",
   "execution_count": 2,
   "id": "72ec4dcd",
   "metadata": {
    "execution": {
     "iopub.execute_input": "2022-11-11T05:24:53.042027Z",
     "iopub.status.busy": "2022-11-11T05:24:53.041398Z",
     "iopub.status.idle": "2022-11-11T05:24:53.065506Z",
     "shell.execute_reply": "2022-11-11T05:24:53.064376Z"
    },
    "papermill": {
     "duration": 0.039575,
     "end_time": "2022-11-11T05:24:53.070792",
     "exception": false,
     "start_time": "2022-11-11T05:24:53.031217",
     "status": "completed"
    },
    "tags": []
   },
   "outputs": [],
   "source": [
    "train_data = pd.read_csv('/kaggle/input/titanic/train.csv')"
   ]
  },
  {
   "cell_type": "code",
   "execution_count": 3,
   "id": "adcf1b66",
   "metadata": {
    "execution": {
     "iopub.execute_input": "2022-11-11T05:24:53.089476Z",
     "iopub.status.busy": "2022-11-11T05:24:53.088493Z",
     "iopub.status.idle": "2022-11-11T05:24:53.120177Z",
     "shell.execute_reply": "2022-11-11T05:24:53.119089Z"
    },
    "papermill": {
     "duration": 0.044114,
     "end_time": "2022-11-11T05:24:53.123482",
     "exception": false,
     "start_time": "2022-11-11T05:24:53.079368",
     "status": "completed"
    },
    "tags": []
   },
   "outputs": [
    {
     "data": {
      "text/html": [
       "<div>\n",
       "<style scoped>\n",
       "    .dataframe tbody tr th:only-of-type {\n",
       "        vertical-align: middle;\n",
       "    }\n",
       "\n",
       "    .dataframe tbody tr th {\n",
       "        vertical-align: top;\n",
       "    }\n",
       "\n",
       "    .dataframe thead th {\n",
       "        text-align: right;\n",
       "    }\n",
       "</style>\n",
       "<table border=\"1\" class=\"dataframe\">\n",
       "  <thead>\n",
       "    <tr style=\"text-align: right;\">\n",
       "      <th></th>\n",
       "      <th>PassengerId</th>\n",
       "      <th>Survived</th>\n",
       "      <th>Pclass</th>\n",
       "      <th>Name</th>\n",
       "      <th>Sex</th>\n",
       "      <th>Age</th>\n",
       "      <th>SibSp</th>\n",
       "      <th>Parch</th>\n",
       "      <th>Ticket</th>\n",
       "      <th>Fare</th>\n",
       "      <th>Cabin</th>\n",
       "      <th>Embarked</th>\n",
       "    </tr>\n",
       "  </thead>\n",
       "  <tbody>\n",
       "    <tr>\n",
       "      <th>0</th>\n",
       "      <td>1</td>\n",
       "      <td>0</td>\n",
       "      <td>3</td>\n",
       "      <td>Braund, Mr. Owen Harris</td>\n",
       "      <td>male</td>\n",
       "      <td>22.0</td>\n",
       "      <td>1</td>\n",
       "      <td>0</td>\n",
       "      <td>A/5 21171</td>\n",
       "      <td>7.2500</td>\n",
       "      <td>NaN</td>\n",
       "      <td>S</td>\n",
       "    </tr>\n",
       "    <tr>\n",
       "      <th>1</th>\n",
       "      <td>2</td>\n",
       "      <td>1</td>\n",
       "      <td>1</td>\n",
       "      <td>Cumings, Mrs. John Bradley (Florence Briggs Th...</td>\n",
       "      <td>female</td>\n",
       "      <td>38.0</td>\n",
       "      <td>1</td>\n",
       "      <td>0</td>\n",
       "      <td>PC 17599</td>\n",
       "      <td>71.2833</td>\n",
       "      <td>C85</td>\n",
       "      <td>C</td>\n",
       "    </tr>\n",
       "    <tr>\n",
       "      <th>2</th>\n",
       "      <td>3</td>\n",
       "      <td>1</td>\n",
       "      <td>3</td>\n",
       "      <td>Heikkinen, Miss. Laina</td>\n",
       "      <td>female</td>\n",
       "      <td>26.0</td>\n",
       "      <td>0</td>\n",
       "      <td>0</td>\n",
       "      <td>STON/O2. 3101282</td>\n",
       "      <td>7.9250</td>\n",
       "      <td>NaN</td>\n",
       "      <td>S</td>\n",
       "    </tr>\n",
       "    <tr>\n",
       "      <th>3</th>\n",
       "      <td>4</td>\n",
       "      <td>1</td>\n",
       "      <td>1</td>\n",
       "      <td>Futrelle, Mrs. Jacques Heath (Lily May Peel)</td>\n",
       "      <td>female</td>\n",
       "      <td>35.0</td>\n",
       "      <td>1</td>\n",
       "      <td>0</td>\n",
       "      <td>113803</td>\n",
       "      <td>53.1000</td>\n",
       "      <td>C123</td>\n",
       "      <td>S</td>\n",
       "    </tr>\n",
       "    <tr>\n",
       "      <th>4</th>\n",
       "      <td>5</td>\n",
       "      <td>0</td>\n",
       "      <td>3</td>\n",
       "      <td>Allen, Mr. William Henry</td>\n",
       "      <td>male</td>\n",
       "      <td>35.0</td>\n",
       "      <td>0</td>\n",
       "      <td>0</td>\n",
       "      <td>373450</td>\n",
       "      <td>8.0500</td>\n",
       "      <td>NaN</td>\n",
       "      <td>S</td>\n",
       "    </tr>\n",
       "  </tbody>\n",
       "</table>\n",
       "</div>"
      ],
      "text/plain": [
       "   PassengerId  Survived  Pclass  \\\n",
       "0            1         0       3   \n",
       "1            2         1       1   \n",
       "2            3         1       3   \n",
       "3            4         1       1   \n",
       "4            5         0       3   \n",
       "\n",
       "                                                Name     Sex   Age  SibSp  \\\n",
       "0                            Braund, Mr. Owen Harris    male  22.0      1   \n",
       "1  Cumings, Mrs. John Bradley (Florence Briggs Th...  female  38.0      1   \n",
       "2                             Heikkinen, Miss. Laina  female  26.0      0   \n",
       "3       Futrelle, Mrs. Jacques Heath (Lily May Peel)  female  35.0      1   \n",
       "4                           Allen, Mr. William Henry    male  35.0      0   \n",
       "\n",
       "   Parch            Ticket     Fare Cabin Embarked  \n",
       "0      0         A/5 21171   7.2500   NaN        S  \n",
       "1      0          PC 17599  71.2833   C85        C  \n",
       "2      0  STON/O2. 3101282   7.9250   NaN        S  \n",
       "3      0            113803  53.1000  C123        S  \n",
       "4      0            373450   8.0500   NaN        S  "
      ]
     },
     "execution_count": 3,
     "metadata": {},
     "output_type": "execute_result"
    }
   ],
   "source": [
    "train_data.head()"
   ]
  },
  {
   "cell_type": "code",
   "execution_count": 4,
   "id": "1eb1ee49",
   "metadata": {
    "execution": {
     "iopub.execute_input": "2022-11-11T05:24:53.141397Z",
     "iopub.status.busy": "2022-11-11T05:24:53.140978Z",
     "iopub.status.idle": "2022-11-11T05:24:53.156487Z",
     "shell.execute_reply": "2022-11-11T05:24:53.154282Z"
    },
    "papermill": {
     "duration": 0.029008,
     "end_time": "2022-11-11T05:24:53.160595",
     "exception": false,
     "start_time": "2022-11-11T05:24:53.131587",
     "status": "completed"
    },
    "tags": []
   },
   "outputs": [],
   "source": [
    "test_data = pd.read_csv('/kaggle/input/titanic/test.csv')"
   ]
  },
  {
   "cell_type": "markdown",
   "id": "2e6e123f",
   "metadata": {
    "papermill": {
     "duration": 0.008776,
     "end_time": "2022-11-11T05:24:53.178177",
     "exception": false,
     "start_time": "2022-11-11T05:24:53.169401",
     "status": "completed"
    },
    "tags": []
   },
   "source": [
    "## Data Analysis and Preprocessing:"
   ]
  },
  {
   "cell_type": "code",
   "execution_count": 5,
   "id": "4f6ae933",
   "metadata": {
    "execution": {
     "iopub.execute_input": "2022-11-11T05:24:53.202482Z",
     "iopub.status.busy": "2022-11-11T05:24:53.201565Z",
     "iopub.status.idle": "2022-11-11T05:24:53.216785Z",
     "shell.execute_reply": "2022-11-11T05:24:53.215227Z"
    },
    "papermill": {
     "duration": 0.031583,
     "end_time": "2022-11-11T05:24:53.220474",
     "exception": false,
     "start_time": "2022-11-11T05:24:53.188891",
     "status": "completed"
    },
    "tags": []
   },
   "outputs": [
    {
     "name": "stdout",
     "output_type": "stream",
     "text": [
      "0    549\n",
      "1    342\n",
      "Name: Survived, dtype: int64\n",
      "61.62% Passengers Died\n",
      "38.38% Passengers Survived\n"
     ]
    }
   ],
   "source": [
    "# Survival Rate in Training Data\n",
    "survived_stat = train_data['Survived'].value_counts()\n",
    "print(survived_stat)\n",
    "died = survived_stat[0]\n",
    "survived = survived_stat[1]\n",
    "\n",
    "print(f\"{round((died / (died + survived)) * 100, 2)}% Passengers Died\")\n",
    "print(f\"{round((survived / (died + survived)) * 100, 2)}% Passengers Survived\")"
   ]
  },
  {
   "cell_type": "code",
   "execution_count": 6,
   "id": "d8c7a92c",
   "metadata": {
    "execution": {
     "iopub.execute_input": "2022-11-11T05:24:53.241204Z",
     "iopub.status.busy": "2022-11-11T05:24:53.240527Z",
     "iopub.status.idle": "2022-11-11T05:24:53.247897Z",
     "shell.execute_reply": "2022-11-11T05:24:53.246563Z"
    },
    "papermill": {
     "duration": 0.021879,
     "end_time": "2022-11-11T05:24:53.251924",
     "exception": false,
     "start_time": "2022-11-11T05:24:53.230045",
     "status": "completed"
    },
    "tags": []
   },
   "outputs": [
    {
     "name": "stdout",
     "output_type": "stream",
     "text": [
      "['Pclass', 'Sex', 'Age', 'SibSp', 'Parch', 'Ticket', 'Fare', 'Cabin', 'Embarked']\n"
     ]
    }
   ],
   "source": [
    "dependents = [feature for feature in list(train_data.columns) if feature not in ['Survived', 'PassengerId', 'Name']]\n",
    "print(dependents)"
   ]
  },
  {
   "cell_type": "code",
   "execution_count": 7,
   "id": "fceaf5cc",
   "metadata": {
    "execution": {
     "iopub.execute_input": "2022-11-11T05:24:53.274103Z",
     "iopub.status.busy": "2022-11-11T05:24:53.273094Z",
     "iopub.status.idle": "2022-11-11T05:24:53.996833Z",
     "shell.execute_reply": "2022-11-11T05:24:53.994360Z"
    },
    "papermill": {
     "duration": 0.737908,
     "end_time": "2022-11-11T05:24:53.999990",
     "exception": false,
     "start_time": "2022-11-11T05:24:53.262082",
     "status": "completed"
    },
    "tags": []
   },
   "outputs": [
    {
     "name": "stdout",
     "output_type": "stream",
     "text": [
      "\n",
      " Pclass\n",
      "3    491\n",
      "1    216\n",
      "2    184\n",
      "Name: Pclass, dtype: int64\n",
      "   0         1\n",
      "0  1  0.629630\n",
      "1  2  0.472826\n",
      "2  3  0.242363\n",
      "\n",
      " Sex\n",
      "male      577\n",
      "female    314\n",
      "Name: Sex, dtype: int64\n",
      "        0         1\n",
      "0  female  0.742038\n",
      "1    male  0.188908\n",
      "\n",
      " Age\n",
      "24.00    30\n",
      "22.00    27\n",
      "18.00    26\n",
      "19.00    25\n",
      "28.00    25\n",
      "         ..\n",
      "36.50     1\n",
      "55.50     1\n",
      "0.92      1\n",
      "23.50     1\n",
      "74.00     1\n",
      "Name: Age, Length: 88, dtype: int64\n",
      "        0    1\n",
      "0    0.42  1.0\n",
      "1    0.67  1.0\n",
      "2    0.75  1.0\n",
      "3    0.83  1.0\n",
      "4    0.92  1.0\n",
      "..    ...  ...\n",
      "83  70.00  0.0\n",
      "84  70.50  0.0\n",
      "85  71.00  0.0\n",
      "86  74.00  0.0\n",
      "87  80.00  1.0\n",
      "\n",
      "[88 rows x 2 columns]\n",
      "\n",
      " SibSp\n",
      "0    608\n",
      "1    209\n",
      "2     28\n",
      "4     18\n",
      "3     16\n",
      "8      7\n",
      "5      5\n",
      "Name: SibSp, dtype: int64\n",
      "   0         1\n",
      "0  0  0.345395\n",
      "1  1  0.535885\n",
      "2  2  0.464286\n",
      "3  3  0.250000\n",
      "4  4  0.166667\n",
      "5  5  0.000000\n",
      "6  8  0.000000\n",
      "\n",
      " Parch\n",
      "0    678\n",
      "1    118\n",
      "2     80\n",
      "5      5\n",
      "3      5\n",
      "4      4\n",
      "6      1\n",
      "Name: Parch, dtype: int64\n",
      "   0         1\n",
      "0  0  0.343658\n",
      "1  1  0.550847\n",
      "2  2  0.500000\n",
      "3  3  0.600000\n",
      "4  4  0.000000\n",
      "5  5  0.200000\n",
      "6  6  0.000000\n",
      "\n",
      " Ticket\n",
      "347082      7\n",
      "CA. 2343    7\n",
      "1601        7\n",
      "3101295     6\n",
      "CA 2144     6\n",
      "           ..\n",
      "9234        1\n",
      "19988       1\n",
      "2693        1\n",
      "PC 17612    1\n",
      "370376      1\n",
      "Name: Ticket, Length: 681, dtype: int64\n",
      "               0         1\n",
      "0         110152  1.000000\n",
      "1         110413  0.666667\n",
      "2         110465  0.000000\n",
      "3         110564  1.000000\n",
      "4         110813  1.000000\n",
      "..           ...       ...\n",
      "676   W./C. 6608  0.000000\n",
      "677   W./C. 6609  0.000000\n",
      "678  W.E.P. 5734  0.000000\n",
      "679    W/C 14208  0.000000\n",
      "680    WE/P 5735  0.500000\n",
      "\n",
      "[681 rows x 2 columns]\n",
      "\n",
      " Fare\n",
      "8.0500     43\n",
      "13.0000    42\n",
      "7.8958     38\n",
      "7.7500     34\n",
      "26.0000    31\n",
      "           ..\n",
      "35.0000     1\n",
      "28.5000     1\n",
      "6.2375      1\n",
      "14.0000     1\n",
      "10.5167     1\n",
      "Name: Fare, Length: 248, dtype: int64\n",
      "            0         1\n",
      "0      0.0000  0.066667\n",
      "1      4.0125  0.000000\n",
      "2      5.0000  0.000000\n",
      "3      6.2375  0.000000\n",
      "4      6.4375  0.000000\n",
      "..        ...       ...\n",
      "243  227.5250  0.750000\n",
      "244  247.5208  0.500000\n",
      "245  262.3750  1.000000\n",
      "246  263.0000  0.500000\n",
      "247  512.3292  1.000000\n",
      "\n",
      "[248 rows x 2 columns]\n",
      "\n",
      " Cabin\n",
      "B96 B98        4\n",
      "G6             4\n",
      "C23 C25 C27    4\n",
      "C22 C26        3\n",
      "F33            3\n",
      "              ..\n",
      "E34            1\n",
      "C7             1\n",
      "C54            1\n",
      "E36            1\n",
      "C148           1\n",
      "Name: Cabin, Length: 147, dtype: int64\n",
      "       0    1\n",
      "0    A10  0.0\n",
      "1    A14  0.0\n",
      "2    A16  1.0\n",
      "3    A19  0.0\n",
      "4    A20  1.0\n",
      "..   ...  ...\n",
      "142  F33  1.0\n",
      "143  F38  0.0\n",
      "144   F4  1.0\n",
      "145   G6  0.5\n",
      "146    T  0.0\n",
      "\n",
      "[147 rows x 2 columns]\n",
      "\n",
      " Embarked\n",
      "S    644\n",
      "C    168\n",
      "Q     77\n",
      "Name: Embarked, dtype: int64\n",
      "   0         1\n",
      "0  C  0.553571\n",
      "1  Q  0.389610\n",
      "2  S  0.336957\n"
     ]
    }
   ],
   "source": [
    "import matplotlib.pyplot as plt\n",
    "\n",
    "# plt.style.use('seaborn')\n",
    "\n",
    "# fig, axs = plt.subplots(len(dependents))\n",
    "\n",
    "for index, feature in enumerate(dependents):\n",
    "    print(\"\\n\", feature)\n",
    "    \n",
    "    print(train_data[feature].value_counts())\n",
    "    feature_stat = dict(train_data[feature].value_counts())\n",
    "    values = []\n",
    "    rates = []\n",
    "    for feature_val in feature_stat:\n",
    "        values.append(feature_val)\n",
    "        value = train_data.loc[train_data[feature] == feature_val][\"Survived\"]\n",
    "        rates.append(sum(value) / len(value))\n",
    "    \n",
    "    print(pd.DataFrame(sorted(zip(values, rates))))\n",
    "#     axs[index].plot(values, rates)\n",
    "    "
   ]
  },
  {
   "cell_type": "code",
   "execution_count": 8,
   "id": "bc5bbe3c",
   "metadata": {
    "execution": {
     "iopub.execute_input": "2022-11-11T05:24:54.021414Z",
     "iopub.status.busy": "2022-11-11T05:24:54.020978Z",
     "iopub.status.idle": "2022-11-11T05:24:54.041392Z",
     "shell.execute_reply": "2022-11-11T05:24:54.039356Z"
    },
    "papermill": {
     "duration": 0.034774,
     "end_time": "2022-11-11T05:24:54.044787",
     "exception": false,
     "start_time": "2022-11-11T05:24:54.010013",
     "status": "completed"
    },
    "tags": []
   },
   "outputs": [
    {
     "name": "stdout",
     "output_type": "stream",
     "text": [
      "<class 'pandas.core.frame.DataFrame'>\n",
      "RangeIndex: 891 entries, 0 to 890\n",
      "Data columns (total 12 columns):\n",
      " #   Column       Non-Null Count  Dtype  \n",
      "---  ------       --------------  -----  \n",
      " 0   PassengerId  891 non-null    int64  \n",
      " 1   Survived     891 non-null    int64  \n",
      " 2   Pclass       891 non-null    int64  \n",
      " 3   Name         891 non-null    object \n",
      " 4   Sex          891 non-null    object \n",
      " 5   Age          714 non-null    float64\n",
      " 6   SibSp        891 non-null    int64  \n",
      " 7   Parch        891 non-null    int64  \n",
      " 8   Ticket       891 non-null    object \n",
      " 9   Fare         891 non-null    float64\n",
      " 10  Cabin        204 non-null    object \n",
      " 11  Embarked     889 non-null    object \n",
      "dtypes: float64(2), int64(5), object(5)\n",
      "memory usage: 83.7+ KB\n"
     ]
    }
   ],
   "source": [
    "train_data.info()"
   ]
  },
  {
   "cell_type": "code",
   "execution_count": 9,
   "id": "51538055",
   "metadata": {
    "execution": {
     "iopub.execute_input": "2022-11-11T05:24:54.065693Z",
     "iopub.status.busy": "2022-11-11T05:24:54.064695Z",
     "iopub.status.idle": "2022-11-11T05:24:54.080401Z",
     "shell.execute_reply": "2022-11-11T05:24:54.078407Z"
    },
    "papermill": {
     "duration": 0.029676,
     "end_time": "2022-11-11T05:24:54.083514",
     "exception": false,
     "start_time": "2022-11-11T05:24:54.053838",
     "status": "completed"
    },
    "tags": []
   },
   "outputs": [
    {
     "name": "stdout",
     "output_type": "stream",
     "text": [
      "<class 'pandas.core.frame.DataFrame'>\n",
      "RangeIndex: 418 entries, 0 to 417\n",
      "Data columns (total 11 columns):\n",
      " #   Column       Non-Null Count  Dtype  \n",
      "---  ------       --------------  -----  \n",
      " 0   PassengerId  418 non-null    int64  \n",
      " 1   Pclass       418 non-null    int64  \n",
      " 2   Name         418 non-null    object \n",
      " 3   Sex          418 non-null    object \n",
      " 4   Age          332 non-null    float64\n",
      " 5   SibSp        418 non-null    int64  \n",
      " 6   Parch        418 non-null    int64  \n",
      " 7   Ticket       418 non-null    object \n",
      " 8   Fare         417 non-null    float64\n",
      " 9   Cabin        91 non-null     object \n",
      " 10  Embarked     418 non-null    object \n",
      "dtypes: float64(2), int64(4), object(5)\n",
      "memory usage: 36.0+ KB\n"
     ]
    }
   ],
   "source": [
    "test_data.info()"
   ]
  },
  {
   "cell_type": "markdown",
   "id": "20c8d7a6",
   "metadata": {
    "papermill": {
     "duration": 0.009385,
     "end_time": "2022-11-11T05:24:54.102838",
     "exception": false,
     "start_time": "2022-11-11T05:24:54.093453",
     "status": "completed"
    },
    "tags": []
   },
   "source": [
    "### Handling NaN fields:"
   ]
  },
  {
   "cell_type": "code",
   "execution_count": 10,
   "id": "e6f4260b",
   "metadata": {
    "execution": {
     "iopub.execute_input": "2022-11-11T05:24:54.124616Z",
     "iopub.status.busy": "2022-11-11T05:24:54.124063Z",
     "iopub.status.idle": "2022-11-11T05:24:54.131482Z",
     "shell.execute_reply": "2022-11-11T05:24:54.129949Z"
    },
    "papermill": {
     "duration": 0.021536,
     "end_time": "2022-11-11T05:24:54.134262",
     "exception": false,
     "start_time": "2022-11-11T05:24:54.112726",
     "status": "completed"
    },
    "tags": []
   },
   "outputs": [],
   "source": [
    "values = {\"Age\":0, \"Cabin\": 'NA', \"Embarked\": 'NA'}"
   ]
  },
  {
   "cell_type": "code",
   "execution_count": 11,
   "id": "67ee8098",
   "metadata": {
    "execution": {
     "iopub.execute_input": "2022-11-11T05:24:54.153386Z",
     "iopub.status.busy": "2022-11-11T05:24:54.152987Z",
     "iopub.status.idle": "2022-11-11T05:24:54.161742Z",
     "shell.execute_reply": "2022-11-11T05:24:54.160393Z"
    },
    "papermill": {
     "duration": 0.021456,
     "end_time": "2022-11-11T05:24:54.164573",
     "exception": false,
     "start_time": "2022-11-11T05:24:54.143117",
     "status": "completed"
    },
    "tags": []
   },
   "outputs": [],
   "source": [
    "# train = train_data.dropna(subset=['Age'])\n",
    "train = train_data.fillna(value=values)"
   ]
  },
  {
   "cell_type": "code",
   "execution_count": 12,
   "id": "1d42b461",
   "metadata": {
    "execution": {
     "iopub.execute_input": "2022-11-11T05:24:54.184301Z",
     "iopub.status.busy": "2022-11-11T05:24:54.183794Z",
     "iopub.status.idle": "2022-11-11T05:24:54.200943Z",
     "shell.execute_reply": "2022-11-11T05:24:54.199077Z"
    },
    "papermill": {
     "duration": 0.030249,
     "end_time": "2022-11-11T05:24:54.203705",
     "exception": false,
     "start_time": "2022-11-11T05:24:54.173456",
     "status": "completed"
    },
    "tags": []
   },
   "outputs": [
    {
     "name": "stdout",
     "output_type": "stream",
     "text": [
      "<class 'pandas.core.frame.DataFrame'>\n",
      "RangeIndex: 891 entries, 0 to 890\n",
      "Data columns (total 12 columns):\n",
      " #   Column       Non-Null Count  Dtype  \n",
      "---  ------       --------------  -----  \n",
      " 0   PassengerId  891 non-null    int64  \n",
      " 1   Survived     891 non-null    int64  \n",
      " 2   Pclass       891 non-null    int64  \n",
      " 3   Name         891 non-null    object \n",
      " 4   Sex          891 non-null    object \n",
      " 5   Age          891 non-null    float64\n",
      " 6   SibSp        891 non-null    int64  \n",
      " 7   Parch        891 non-null    int64  \n",
      " 8   Ticket       891 non-null    object \n",
      " 9   Fare         891 non-null    float64\n",
      " 10  Cabin        891 non-null    object \n",
      " 11  Embarked     891 non-null    object \n",
      "dtypes: float64(2), int64(5), object(5)\n",
      "memory usage: 83.7+ KB\n"
     ]
    }
   ],
   "source": [
    "train.info()"
   ]
  },
  {
   "cell_type": "code",
   "execution_count": 13,
   "id": "5cdd65bd",
   "metadata": {
    "execution": {
     "iopub.execute_input": "2022-11-11T05:24:54.224215Z",
     "iopub.status.busy": "2022-11-11T05:24:54.223739Z",
     "iopub.status.idle": "2022-11-11T05:24:54.228158Z",
     "shell.execute_reply": "2022-11-11T05:24:54.227223Z"
    },
    "papermill": {
     "duration": 0.017798,
     "end_time": "2022-11-11T05:24:54.230356",
     "exception": false,
     "start_time": "2022-11-11T05:24:54.212558",
     "status": "completed"
    },
    "tags": []
   },
   "outputs": [],
   "source": [
    "# test = test_data.fillna(value=values)"
   ]
  },
  {
   "cell_type": "markdown",
   "id": "34eeb34d",
   "metadata": {
    "papermill": {
     "duration": 0.008414,
     "end_time": "2022-11-11T05:24:54.247617",
     "exception": false,
     "start_time": "2022-11-11T05:24:54.239203",
     "status": "completed"
    },
    "tags": []
   },
   "source": [
    "### Analysing attribute values for identifying categorical (and type of categorical) and numerical variables:"
   ]
  },
  {
   "cell_type": "code",
   "execution_count": 14,
   "id": "181369cf",
   "metadata": {
    "execution": {
     "iopub.execute_input": "2022-11-11T05:24:54.267817Z",
     "iopub.status.busy": "2022-11-11T05:24:54.266664Z",
     "iopub.status.idle": "2022-11-11T05:24:54.271752Z",
     "shell.execute_reply": "2022-11-11T05:24:54.270781Z"
    },
    "papermill": {
     "duration": 0.018186,
     "end_time": "2022-11-11T05:24:54.274547",
     "exception": false,
     "start_time": "2022-11-11T05:24:54.256361",
     "status": "completed"
    },
    "tags": []
   },
   "outputs": [],
   "source": [
    "# Categorical Variables to be considered: Sex, Ticket, Cabin, Embarked\n",
    "# All are nominal categorical variables, cabin may be considered ordinal, however some passengers have multiple cabin values,\n",
    "# using dummies"
   ]
  },
  {
   "cell_type": "markdown",
   "id": "884504fe",
   "metadata": {
    "papermill": {
     "duration": 0.00897,
     "end_time": "2022-11-11T05:24:54.292808",
     "exception": false,
     "start_time": "2022-11-11T05:24:54.283838",
     "status": "completed"
    },
    "tags": []
   },
   "source": [
    "### Preparing input data:"
   ]
  },
  {
   "cell_type": "code",
   "execution_count": 15,
   "id": "902f17a5",
   "metadata": {
    "execution": {
     "iopub.execute_input": "2022-11-11T05:24:54.313800Z",
     "iopub.status.busy": "2022-11-11T05:24:54.313071Z",
     "iopub.status.idle": "2022-11-11T05:24:54.318885Z",
     "shell.execute_reply": "2022-11-11T05:24:54.318020Z"
    },
    "papermill": {
     "duration": 0.01919,
     "end_time": "2022-11-11T05:24:54.321259",
     "exception": false,
     "start_time": "2022-11-11T05:24:54.302069",
     "status": "completed"
    },
    "tags": []
   },
   "outputs": [],
   "source": [
    "# Extracting independent output variable y\n",
    "y = train[\"Survived\"]\n",
    "\n",
    "# Setting features to be used\n",
    "features = [\"Pclass\", \"Sex\", \"Age\", \"SibSp\", \"Parch\", \"Ticket\", \"Fare\", \"Cabin\", \"Embarked\"]\n",
    "\n",
    "# features = [\"Pclass\", \"Sex\", \"Age\", \"SibSp\", \"Parch\", \"Ticket\", \"Embarked\"]\n"
   ]
  },
  {
   "cell_type": "code",
   "execution_count": 16,
   "id": "67a6a471",
   "metadata": {
    "execution": {
     "iopub.execute_input": "2022-11-11T05:24:54.342909Z",
     "iopub.status.busy": "2022-11-11T05:24:54.342145Z",
     "iopub.status.idle": "2022-11-11T05:24:54.350546Z",
     "shell.execute_reply": "2022-11-11T05:24:54.349561Z"
    },
    "papermill": {
     "duration": 0.022693,
     "end_time": "2022-11-11T05:24:54.353266",
     "exception": false,
     "start_time": "2022-11-11T05:24:54.330573",
     "status": "completed"
    },
    "tags": []
   },
   "outputs": [],
   "source": [
    "temp = train.copy()[features]\n",
    "temp_test = test_data.copy()[features]"
   ]
  },
  {
   "cell_type": "code",
   "execution_count": 17,
   "id": "4ac600fc",
   "metadata": {
    "execution": {
     "iopub.execute_input": "2022-11-11T05:24:54.374678Z",
     "iopub.status.busy": "2022-11-11T05:24:54.373921Z",
     "iopub.status.idle": "2022-11-11T05:24:54.391211Z",
     "shell.execute_reply": "2022-11-11T05:24:54.389942Z"
    },
    "papermill": {
     "duration": 0.031277,
     "end_time": "2022-11-11T05:24:54.393845",
     "exception": false,
     "start_time": "2022-11-11T05:24:54.362568",
     "status": "completed"
    },
    "tags": []
   },
   "outputs": [
    {
     "data": {
      "text/html": [
       "<div>\n",
       "<style scoped>\n",
       "    .dataframe tbody tr th:only-of-type {\n",
       "        vertical-align: middle;\n",
       "    }\n",
       "\n",
       "    .dataframe tbody tr th {\n",
       "        vertical-align: top;\n",
       "    }\n",
       "\n",
       "    .dataframe thead th {\n",
       "        text-align: right;\n",
       "    }\n",
       "</style>\n",
       "<table border=\"1\" class=\"dataframe\">\n",
       "  <thead>\n",
       "    <tr style=\"text-align: right;\">\n",
       "      <th></th>\n",
       "      <th>Pclass</th>\n",
       "      <th>Sex</th>\n",
       "      <th>Age</th>\n",
       "      <th>SibSp</th>\n",
       "      <th>Parch</th>\n",
       "      <th>Ticket</th>\n",
       "      <th>Fare</th>\n",
       "      <th>Cabin</th>\n",
       "      <th>Embarked</th>\n",
       "    </tr>\n",
       "  </thead>\n",
       "  <tbody>\n",
       "    <tr>\n",
       "      <th>0</th>\n",
       "      <td>3</td>\n",
       "      <td>male</td>\n",
       "      <td>22.0</td>\n",
       "      <td>1</td>\n",
       "      <td>0</td>\n",
       "      <td>A/5 21171</td>\n",
       "      <td>7.2500</td>\n",
       "      <td>NA</td>\n",
       "      <td>S</td>\n",
       "    </tr>\n",
       "    <tr>\n",
       "      <th>1</th>\n",
       "      <td>1</td>\n",
       "      <td>female</td>\n",
       "      <td>38.0</td>\n",
       "      <td>1</td>\n",
       "      <td>0</td>\n",
       "      <td>PC 17599</td>\n",
       "      <td>71.2833</td>\n",
       "      <td>C85</td>\n",
       "      <td>C</td>\n",
       "    </tr>\n",
       "    <tr>\n",
       "      <th>2</th>\n",
       "      <td>3</td>\n",
       "      <td>female</td>\n",
       "      <td>26.0</td>\n",
       "      <td>0</td>\n",
       "      <td>0</td>\n",
       "      <td>STON/O2. 3101282</td>\n",
       "      <td>7.9250</td>\n",
       "      <td>NA</td>\n",
       "      <td>S</td>\n",
       "    </tr>\n",
       "    <tr>\n",
       "      <th>3</th>\n",
       "      <td>1</td>\n",
       "      <td>female</td>\n",
       "      <td>35.0</td>\n",
       "      <td>1</td>\n",
       "      <td>0</td>\n",
       "      <td>113803</td>\n",
       "      <td>53.1000</td>\n",
       "      <td>C123</td>\n",
       "      <td>S</td>\n",
       "    </tr>\n",
       "    <tr>\n",
       "      <th>4</th>\n",
       "      <td>3</td>\n",
       "      <td>male</td>\n",
       "      <td>35.0</td>\n",
       "      <td>0</td>\n",
       "      <td>0</td>\n",
       "      <td>373450</td>\n",
       "      <td>8.0500</td>\n",
       "      <td>NA</td>\n",
       "      <td>S</td>\n",
       "    </tr>\n",
       "  </tbody>\n",
       "</table>\n",
       "</div>"
      ],
      "text/plain": [
       "   Pclass     Sex   Age  SibSp  Parch            Ticket     Fare Cabin  \\\n",
       "0       3    male  22.0      1      0         A/5 21171   7.2500    NA   \n",
       "1       1  female  38.0      1      0          PC 17599  71.2833   C85   \n",
       "2       3  female  26.0      0      0  STON/O2. 3101282   7.9250    NA   \n",
       "3       1  female  35.0      1      0            113803  53.1000  C123   \n",
       "4       3    male  35.0      0      0            373450   8.0500    NA   \n",
       "\n",
       "  Embarked  \n",
       "0        S  \n",
       "1        C  \n",
       "2        S  \n",
       "3        S  \n",
       "4        S  "
      ]
     },
     "execution_count": 17,
     "metadata": {},
     "output_type": "execute_result"
    }
   ],
   "source": [
    "temp.head()"
   ]
  },
  {
   "cell_type": "code",
   "execution_count": 18,
   "id": "44f6a6d2",
   "metadata": {
    "execution": {
     "iopub.execute_input": "2022-11-11T05:24:54.417053Z",
     "iopub.status.busy": "2022-11-11T05:24:54.416264Z",
     "iopub.status.idle": "2022-11-11T05:24:55.532088Z",
     "shell.execute_reply": "2022-11-11T05:24:55.530738Z"
    },
    "papermill": {
     "duration": 1.1319,
     "end_time": "2022-11-11T05:24:55.535996",
     "exception": false,
     "start_time": "2022-11-11T05:24:54.404096",
     "status": "completed"
    },
    "tags": []
   },
   "outputs": [
    {
     "data": {
      "text/plain": [
       "OneHotEncoder(handle_unknown='ignore', sparse=False)"
      ]
     },
     "execution_count": 18,
     "metadata": {},
     "output_type": "execute_result"
    }
   ],
   "source": [
    "from sklearn.preprocessing import OneHotEncoder\n",
    "onehot_encoder = OneHotEncoder(handle_unknown='ignore', sparse=False)\n",
    "onehot_encoder.fit(temp)"
   ]
  },
  {
   "cell_type": "code",
   "execution_count": 19,
   "id": "206f3a51",
   "metadata": {
    "execution": {
     "iopub.execute_input": "2022-11-11T05:24:55.558710Z",
     "iopub.status.busy": "2022-11-11T05:24:55.557029Z",
     "iopub.status.idle": "2022-11-11T05:24:55.596835Z",
     "shell.execute_reply": "2022-11-11T05:24:55.595091Z"
    },
    "papermill": {
     "duration": 0.053655,
     "end_time": "2022-11-11T05:24:55.599666",
     "exception": false,
     "start_time": "2022-11-11T05:24:55.546011",
     "status": "completed"
    },
    "tags": []
   },
   "outputs": [],
   "source": [
    "X_train = onehot_encoder.transform(temp)\n",
    "X_test = onehot_encoder.transform(temp_test)"
   ]
  },
  {
   "cell_type": "code",
   "execution_count": 20,
   "id": "680f9174",
   "metadata": {
    "execution": {
     "iopub.execute_input": "2022-11-11T05:24:55.621193Z",
     "iopub.status.busy": "2022-11-11T05:24:55.619693Z",
     "iopub.status.idle": "2022-11-11T05:24:55.659512Z",
     "shell.execute_reply": "2022-11-11T05:24:55.658154Z"
    },
    "papermill": {
     "duration": 0.053708,
     "end_time": "2022-11-11T05:24:55.662468",
     "exception": false,
     "start_time": "2022-11-11T05:24:55.608760",
     "status": "completed"
    },
    "tags": []
   },
   "outputs": [],
   "source": [
    "from sklearn.preprocessing import StandardScaler, MinMaxScaler\n",
    "\n",
    "scaler = StandardScaler()\n",
    "# scaler = MinMaxScaler()\n",
    "\n",
    "X_train = scaler.fit_transform(X_train)\n",
    "X_test = scaler.transform(X_test)\n"
   ]
  },
  {
   "cell_type": "code",
   "execution_count": 21,
   "id": "1e91a193",
   "metadata": {
    "execution": {
     "iopub.execute_input": "2022-11-11T05:24:55.683763Z",
     "iopub.status.busy": "2022-11-11T05:24:55.682432Z",
     "iopub.status.idle": "2022-11-11T05:24:55.691258Z",
     "shell.execute_reply": "2022-11-11T05:24:55.689665Z"
    },
    "papermill": {
     "duration": 0.0222,
     "end_time": "2022-11-11T05:24:55.693730",
     "exception": false,
     "start_time": "2022-11-11T05:24:55.671530",
     "status": "completed"
    },
    "tags": []
   },
   "outputs": [
    {
     "data": {
      "text/plain": [
       "array([[-0.56568542, -0.51015154,  0.90258736, ..., -0.0474312 ,\n",
       "        -0.30756234,  0.61930636],\n",
       "       [ 1.76776695, -0.51015154, -1.10792599, ..., -0.0474312 ,\n",
       "        -0.30756234, -1.61470971],\n",
       "       [-0.56568542, -0.51015154,  0.90258736, ..., -0.0474312 ,\n",
       "        -0.30756234,  0.61930636],\n",
       "       ...,\n",
       "       [-0.56568542, -0.51015154,  0.90258736, ..., -0.0474312 ,\n",
       "        -0.30756234,  0.61930636],\n",
       "       [ 1.76776695, -0.51015154, -1.10792599, ..., -0.0474312 ,\n",
       "        -0.30756234, -1.61470971],\n",
       "       [-0.56568542, -0.51015154,  0.90258736, ..., -0.0474312 ,\n",
       "         3.25137334, -1.61470971]])"
      ]
     },
     "execution_count": 21,
     "metadata": {},
     "output_type": "execute_result"
    }
   ],
   "source": [
    "X_train"
   ]
  },
  {
   "cell_type": "markdown",
   "id": "9079aad6",
   "metadata": {
    "papermill": {
     "duration": 0.008726,
     "end_time": "2022-11-11T05:24:55.711744",
     "exception": false,
     "start_time": "2022-11-11T05:24:55.703018",
     "status": "completed"
    },
    "tags": []
   },
   "source": [
    "## Training:"
   ]
  },
  {
   "cell_type": "code",
   "execution_count": 22,
   "id": "68ae27ea",
   "metadata": {
    "execution": {
     "iopub.execute_input": "2022-11-11T05:24:55.732801Z",
     "iopub.status.busy": "2022-11-11T05:24:55.732312Z",
     "iopub.status.idle": "2022-11-11T05:24:56.016339Z",
     "shell.execute_reply": "2022-11-11T05:24:56.014819Z"
    },
    "papermill": {
     "duration": 0.298097,
     "end_time": "2022-11-11T05:24:56.019168",
     "exception": false,
     "start_time": "2022-11-11T05:24:55.721071",
     "status": "completed"
    },
    "tags": []
   },
   "outputs": [],
   "source": [
    "from sklearn.ensemble import RandomForestClassifier, AdaBoostClassifier\n",
    "from sklearn.neural_network import MLPClassifier\n",
    "\n",
    "from sklearn.model_selection import cross_val_score\n",
    "\n",
    "model = RandomForestClassifier(n_estimators=100, criterion='entropy')\n",
    "# model = AdaBoostClassifier(n_estimators=50, learning_rate=0.05)\n",
    "\n"
   ]
  },
  {
   "cell_type": "code",
   "execution_count": 23,
   "id": "8d8f8784",
   "metadata": {
    "execution": {
     "iopub.execute_input": "2022-11-11T05:24:56.042627Z",
     "iopub.status.busy": "2022-11-11T05:24:56.041464Z",
     "iopub.status.idle": "2022-11-11T05:24:58.160522Z",
     "shell.execute_reply": "2022-11-11T05:24:58.158950Z"
    },
    "papermill": {
     "duration": 2.133783,
     "end_time": "2022-11-11T05:24:58.164577",
     "exception": false,
     "start_time": "2022-11-11T05:24:56.030794",
     "status": "completed"
    },
    "tags": []
   },
   "outputs": [
    {
     "name": "stdout",
     "output_type": "stream",
     "text": [
      "[0.83240223 0.80898876 0.84269663 0.79213483 0.83146067]\n"
     ]
    }
   ],
   "source": [
    "scores = cross_val_score(model, X_train, y, cv=5)\n",
    "print(scores)"
   ]
  },
  {
   "cell_type": "code",
   "execution_count": 24,
   "id": "54ca440a",
   "metadata": {
    "execution": {
     "iopub.execute_input": "2022-11-11T05:24:58.187884Z",
     "iopub.status.busy": "2022-11-11T05:24:58.186639Z",
     "iopub.status.idle": "2022-11-11T05:24:58.705481Z",
     "shell.execute_reply": "2022-11-11T05:24:58.704223Z"
    },
    "papermill": {
     "duration": 0.532671,
     "end_time": "2022-11-11T05:24:58.708254",
     "exception": false,
     "start_time": "2022-11-11T05:24:58.175583",
     "status": "completed"
    },
    "tags": []
   },
   "outputs": [
    {
     "data": {
      "text/plain": [
       "0.9988776655443322"
      ]
     },
     "execution_count": 24,
     "metadata": {},
     "output_type": "execute_result"
    }
   ],
   "source": [
    "model.fit(X_train, y)\n",
    "model.score(X_train, y)"
   ]
  },
  {
   "cell_type": "markdown",
   "id": "68d80515",
   "metadata": {
    "papermill": {
     "duration": 0.009273,
     "end_time": "2022-11-11T05:24:58.727083",
     "exception": false,
     "start_time": "2022-11-11T05:24:58.717810",
     "status": "completed"
    },
    "tags": []
   },
   "source": [
    "## Predictions:"
   ]
  },
  {
   "cell_type": "code",
   "execution_count": 25,
   "id": "86d2019f",
   "metadata": {
    "execution": {
     "iopub.execute_input": "2022-11-11T05:24:58.749019Z",
     "iopub.status.busy": "2022-11-11T05:24:58.748562Z",
     "iopub.status.idle": "2022-11-11T05:24:58.783357Z",
     "shell.execute_reply": "2022-11-11T05:24:58.781839Z"
    },
    "papermill": {
     "duration": 0.049287,
     "end_time": "2022-11-11T05:24:58.786532",
     "exception": false,
     "start_time": "2022-11-11T05:24:58.737245",
     "status": "completed"
    },
    "tags": []
   },
   "outputs": [],
   "source": [
    "predictions = model.predict(X_test)"
   ]
  },
  {
   "cell_type": "code",
   "execution_count": 26,
   "id": "2f6d7b55",
   "metadata": {
    "execution": {
     "iopub.execute_input": "2022-11-11T05:24:58.809778Z",
     "iopub.status.busy": "2022-11-11T05:24:58.809354Z",
     "iopub.status.idle": "2022-11-11T05:24:58.819274Z",
     "shell.execute_reply": "2022-11-11T05:24:58.818443Z"
    },
    "papermill": {
     "duration": 0.02552,
     "end_time": "2022-11-11T05:24:58.822139",
     "exception": false,
     "start_time": "2022-11-11T05:24:58.796619",
     "status": "completed"
    },
    "tags": []
   },
   "outputs": [
    {
     "name": "stdout",
     "output_type": "stream",
     "text": [
      "Your submission was successfully saved!\n"
     ]
    }
   ],
   "source": [
    "output = pd.DataFrame({'PassengerId': test_data.PassengerId, 'Survived': predictions})\n",
    "output.to_csv('submission.csv', index=False)\n",
    "print(\"Your submission was successfully saved!\")"
   ]
  },
  {
   "cell_type": "code",
   "execution_count": 27,
   "id": "504ef107",
   "metadata": {
    "execution": {
     "iopub.execute_input": "2022-11-11T05:24:58.846557Z",
     "iopub.status.busy": "2022-11-11T05:24:58.845895Z",
     "iopub.status.idle": "2022-11-11T05:24:58.851909Z",
     "shell.execute_reply": "2022-11-11T05:24:58.851051Z"
    },
    "papermill": {
     "duration": 0.020959,
     "end_time": "2022-11-11T05:24:58.854281",
     "exception": false,
     "start_time": "2022-11-11T05:24:58.833322",
     "status": "completed"
    },
    "tags": []
   },
   "outputs": [
    {
     "data": {
      "text/plain": [
       "0.35645933014354064"
      ]
     },
     "execution_count": 27,
     "metadata": {},
     "output_type": "execute_result"
    }
   ],
   "source": [
    "len(predictions[predictions==1])/len(predictions)"
   ]
  },
  {
   "cell_type": "code",
   "execution_count": null,
   "id": "0381ecc2",
   "metadata": {
    "papermill": {
     "duration": 0.009684,
     "end_time": "2022-11-11T05:24:58.874536",
     "exception": false,
     "start_time": "2022-11-11T05:24:58.864852",
     "status": "completed"
    },
    "tags": []
   },
   "outputs": [],
   "source": []
  }
 ],
 "metadata": {
  "kernelspec": {
   "display_name": "Python 3",
   "language": "python",
   "name": "python3"
  },
  "language_info": {
   "codemirror_mode": {
    "name": "ipython",
    "version": 3
   },
   "file_extension": ".py",
   "mimetype": "text/x-python",
   "name": "python",
   "nbconvert_exporter": "python",
   "pygments_lexer": "ipython3",
   "version": "3.7.12"
  },
  "papermill": {
   "default_parameters": {},
   "duration": 15.857248,
   "end_time": "2022-11-11T05:24:59.809980",
   "environment_variables": {},
   "exception": null,
   "input_path": "__notebook__.ipynb",
   "output_path": "__notebook__.ipynb",
   "parameters": {},
   "start_time": "2022-11-11T05:24:43.952732",
   "version": "2.3.4"
  }
 },
 "nbformat": 4,
 "nbformat_minor": 5
}
