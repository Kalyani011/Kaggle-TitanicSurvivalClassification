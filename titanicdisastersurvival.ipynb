{
 "cells": [
  {
   "cell_type": "code",
   "execution_count": 1,
   "id": "a851f559",
   "metadata": {
    "_cell_guid": "b1076dfc-b9ad-4769-8c92-a6c4dae69d19",
    "_uuid": "8f2839f25d086af736a60e9eeb907d3b93b6e0e5",
    "execution": {
     "iopub.execute_input": "2022-11-10T05:41:28.762663Z",
     "iopub.status.busy": "2022-11-10T05:41:28.762130Z",
     "iopub.status.idle": "2022-11-10T05:41:28.776810Z",
     "shell.execute_reply": "2022-11-10T05:41:28.775353Z"
    },
    "papermill": {
     "duration": 0.028927,
     "end_time": "2022-11-10T05:41:28.779921",
     "exception": false,
     "start_time": "2022-11-10T05:41:28.750994",
     "status": "completed"
    },
    "tags": []
   },
   "outputs": [
    {
     "name": "stdout",
     "output_type": "stream",
     "text": [
      "/kaggle/input/titanic/train.csv\n",
      "/kaggle/input/titanic/test.csv\n",
      "/kaggle/input/titanic/gender_submission.csv\n"
     ]
    }
   ],
   "source": [
    "import numpy as np # linear algebra\n",
    "import pandas as pd # data processing, CSV file I/O (e.g. pd.read_csv)\n",
    "\n",
    "import os\n",
    "for dirname, _, filenames in os.walk('/kaggle/input'):\n",
    "    for filename in filenames:\n",
    "        print(os.path.join(dirname, filename))\n"
   ]
  },
  {
   "cell_type": "code",
   "execution_count": 2,
   "id": "e8c38a9e",
   "metadata": {
    "execution": {
     "iopub.execute_input": "2022-11-10T05:41:28.797944Z",
     "iopub.status.busy": "2022-11-10T05:41:28.797522Z",
     "iopub.status.idle": "2022-11-10T05:41:28.821874Z",
     "shell.execute_reply": "2022-11-10T05:41:28.820468Z"
    },
    "papermill": {
     "duration": 0.036662,
     "end_time": "2022-11-10T05:41:28.824743",
     "exception": false,
     "start_time": "2022-11-10T05:41:28.788081",
     "status": "completed"
    },
    "tags": []
   },
   "outputs": [],
   "source": [
    "train_data = pd.read_csv('/kaggle/input/titanic/train.csv')"
   ]
  },
  {
   "cell_type": "code",
   "execution_count": 3,
   "id": "fa1d052f",
   "metadata": {
    "execution": {
     "iopub.execute_input": "2022-11-10T05:41:28.843034Z",
     "iopub.status.busy": "2022-11-10T05:41:28.842589Z",
     "iopub.status.idle": "2022-11-10T05:41:28.879691Z",
     "shell.execute_reply": "2022-11-10T05:41:28.878640Z"
    },
    "papermill": {
     "duration": 0.049479,
     "end_time": "2022-11-10T05:41:28.882221",
     "exception": false,
     "start_time": "2022-11-10T05:41:28.832742",
     "status": "completed"
    },
    "tags": []
   },
   "outputs": [
    {
     "data": {
      "text/html": [
       "<div>\n",
       "<style scoped>\n",
       "    .dataframe tbody tr th:only-of-type {\n",
       "        vertical-align: middle;\n",
       "    }\n",
       "\n",
       "    .dataframe tbody tr th {\n",
       "        vertical-align: top;\n",
       "    }\n",
       "\n",
       "    .dataframe thead th {\n",
       "        text-align: right;\n",
       "    }\n",
       "</style>\n",
       "<table border=\"1\" class=\"dataframe\">\n",
       "  <thead>\n",
       "    <tr style=\"text-align: right;\">\n",
       "      <th></th>\n",
       "      <th>PassengerId</th>\n",
       "      <th>Survived</th>\n",
       "      <th>Pclass</th>\n",
       "      <th>Name</th>\n",
       "      <th>Sex</th>\n",
       "      <th>Age</th>\n",
       "      <th>SibSp</th>\n",
       "      <th>Parch</th>\n",
       "      <th>Ticket</th>\n",
       "      <th>Fare</th>\n",
       "      <th>Cabin</th>\n",
       "      <th>Embarked</th>\n",
       "    </tr>\n",
       "  </thead>\n",
       "  <tbody>\n",
       "    <tr>\n",
       "      <th>0</th>\n",
       "      <td>1</td>\n",
       "      <td>0</td>\n",
       "      <td>3</td>\n",
       "      <td>Braund, Mr. Owen Harris</td>\n",
       "      <td>male</td>\n",
       "      <td>22.0</td>\n",
       "      <td>1</td>\n",
       "      <td>0</td>\n",
       "      <td>A/5 21171</td>\n",
       "      <td>7.2500</td>\n",
       "      <td>NaN</td>\n",
       "      <td>S</td>\n",
       "    </tr>\n",
       "    <tr>\n",
       "      <th>1</th>\n",
       "      <td>2</td>\n",
       "      <td>1</td>\n",
       "      <td>1</td>\n",
       "      <td>Cumings, Mrs. John Bradley (Florence Briggs Th...</td>\n",
       "      <td>female</td>\n",
       "      <td>38.0</td>\n",
       "      <td>1</td>\n",
       "      <td>0</td>\n",
       "      <td>PC 17599</td>\n",
       "      <td>71.2833</td>\n",
       "      <td>C85</td>\n",
       "      <td>C</td>\n",
       "    </tr>\n",
       "    <tr>\n",
       "      <th>2</th>\n",
       "      <td>3</td>\n",
       "      <td>1</td>\n",
       "      <td>3</td>\n",
       "      <td>Heikkinen, Miss. Laina</td>\n",
       "      <td>female</td>\n",
       "      <td>26.0</td>\n",
       "      <td>0</td>\n",
       "      <td>0</td>\n",
       "      <td>STON/O2. 3101282</td>\n",
       "      <td>7.9250</td>\n",
       "      <td>NaN</td>\n",
       "      <td>S</td>\n",
       "    </tr>\n",
       "    <tr>\n",
       "      <th>3</th>\n",
       "      <td>4</td>\n",
       "      <td>1</td>\n",
       "      <td>1</td>\n",
       "      <td>Futrelle, Mrs. Jacques Heath (Lily May Peel)</td>\n",
       "      <td>female</td>\n",
       "      <td>35.0</td>\n",
       "      <td>1</td>\n",
       "      <td>0</td>\n",
       "      <td>113803</td>\n",
       "      <td>53.1000</td>\n",
       "      <td>C123</td>\n",
       "      <td>S</td>\n",
       "    </tr>\n",
       "    <tr>\n",
       "      <th>4</th>\n",
       "      <td>5</td>\n",
       "      <td>0</td>\n",
       "      <td>3</td>\n",
       "      <td>Allen, Mr. William Henry</td>\n",
       "      <td>male</td>\n",
       "      <td>35.0</td>\n",
       "      <td>0</td>\n",
       "      <td>0</td>\n",
       "      <td>373450</td>\n",
       "      <td>8.0500</td>\n",
       "      <td>NaN</td>\n",
       "      <td>S</td>\n",
       "    </tr>\n",
       "  </tbody>\n",
       "</table>\n",
       "</div>"
      ],
      "text/plain": [
       "   PassengerId  Survived  Pclass  \\\n",
       "0            1         0       3   \n",
       "1            2         1       1   \n",
       "2            3         1       3   \n",
       "3            4         1       1   \n",
       "4            5         0       3   \n",
       "\n",
       "                                                Name     Sex   Age  SibSp  \\\n",
       "0                            Braund, Mr. Owen Harris    male  22.0      1   \n",
       "1  Cumings, Mrs. John Bradley (Florence Briggs Th...  female  38.0      1   \n",
       "2                             Heikkinen, Miss. Laina  female  26.0      0   \n",
       "3       Futrelle, Mrs. Jacques Heath (Lily May Peel)  female  35.0      1   \n",
       "4                           Allen, Mr. William Henry    male  35.0      0   \n",
       "\n",
       "   Parch            Ticket     Fare Cabin Embarked  \n",
       "0      0         A/5 21171   7.2500   NaN        S  \n",
       "1      0          PC 17599  71.2833   C85        C  \n",
       "2      0  STON/O2. 3101282   7.9250   NaN        S  \n",
       "3      0            113803  53.1000  C123        S  \n",
       "4      0            373450   8.0500   NaN        S  "
      ]
     },
     "execution_count": 3,
     "metadata": {},
     "output_type": "execute_result"
    }
   ],
   "source": [
    "train_data.head()"
   ]
  },
  {
   "cell_type": "code",
   "execution_count": 4,
   "id": "1b24336b",
   "metadata": {
    "execution": {
     "iopub.execute_input": "2022-11-10T05:41:28.901109Z",
     "iopub.status.busy": "2022-11-10T05:41:28.899845Z",
     "iopub.status.idle": "2022-11-10T05:41:28.914709Z",
     "shell.execute_reply": "2022-11-10T05:41:28.912963Z"
    },
    "papermill": {
     "duration": 0.0271,
     "end_time": "2022-11-10T05:41:28.917522",
     "exception": false,
     "start_time": "2022-11-10T05:41:28.890422",
     "status": "completed"
    },
    "tags": []
   },
   "outputs": [],
   "source": [
    "test_data = pd.read_csv('/kaggle/input/titanic/test.csv')"
   ]
  },
  {
   "cell_type": "markdown",
   "id": "2525acc8",
   "metadata": {
    "papermill": {
     "duration": 0.007782,
     "end_time": "2022-11-10T05:41:28.933351",
     "exception": false,
     "start_time": "2022-11-10T05:41:28.925569",
     "status": "completed"
    },
    "tags": []
   },
   "source": [
    "## Data Analysis and Preprocessing:"
   ]
  },
  {
   "cell_type": "code",
   "execution_count": 5,
   "id": "5021c162",
   "metadata": {
    "execution": {
     "iopub.execute_input": "2022-11-10T05:41:28.952954Z",
     "iopub.status.busy": "2022-11-10T05:41:28.952483Z",
     "iopub.status.idle": "2022-11-10T05:41:28.982540Z",
     "shell.execute_reply": "2022-11-10T05:41:28.980687Z"
    },
    "papermill": {
     "duration": 0.042376,
     "end_time": "2022-11-10T05:41:28.985419",
     "exception": false,
     "start_time": "2022-11-10T05:41:28.943043",
     "status": "completed"
    },
    "tags": []
   },
   "outputs": [
    {
     "name": "stdout",
     "output_type": "stream",
     "text": [
      "<class 'pandas.core.frame.DataFrame'>\n",
      "RangeIndex: 891 entries, 0 to 890\n",
      "Data columns (total 12 columns):\n",
      " #   Column       Non-Null Count  Dtype  \n",
      "---  ------       --------------  -----  \n",
      " 0   PassengerId  891 non-null    int64  \n",
      " 1   Survived     891 non-null    int64  \n",
      " 2   Pclass       891 non-null    int64  \n",
      " 3   Name         891 non-null    object \n",
      " 4   Sex          891 non-null    object \n",
      " 5   Age          714 non-null    float64\n",
      " 6   SibSp        891 non-null    int64  \n",
      " 7   Parch        891 non-null    int64  \n",
      " 8   Ticket       891 non-null    object \n",
      " 9   Fare         891 non-null    float64\n",
      " 10  Cabin        204 non-null    object \n",
      " 11  Embarked     889 non-null    object \n",
      "dtypes: float64(2), int64(5), object(5)\n",
      "memory usage: 83.7+ KB\n"
     ]
    }
   ],
   "source": [
    "train_data.info()"
   ]
  },
  {
   "cell_type": "code",
   "execution_count": 6,
   "id": "c7527465",
   "metadata": {
    "execution": {
     "iopub.execute_input": "2022-11-10T05:41:29.004126Z",
     "iopub.status.busy": "2022-11-10T05:41:29.003334Z",
     "iopub.status.idle": "2022-11-10T05:41:29.017669Z",
     "shell.execute_reply": "2022-11-10T05:41:29.015998Z"
    },
    "papermill": {
     "duration": 0.027361,
     "end_time": "2022-11-10T05:41:29.020944",
     "exception": false,
     "start_time": "2022-11-10T05:41:28.993583",
     "status": "completed"
    },
    "tags": []
   },
   "outputs": [
    {
     "name": "stdout",
     "output_type": "stream",
     "text": [
      "<class 'pandas.core.frame.DataFrame'>\n",
      "RangeIndex: 418 entries, 0 to 417\n",
      "Data columns (total 11 columns):\n",
      " #   Column       Non-Null Count  Dtype  \n",
      "---  ------       --------------  -----  \n",
      " 0   PassengerId  418 non-null    int64  \n",
      " 1   Pclass       418 non-null    int64  \n",
      " 2   Name         418 non-null    object \n",
      " 3   Sex          418 non-null    object \n",
      " 4   Age          332 non-null    float64\n",
      " 5   SibSp        418 non-null    int64  \n",
      " 6   Parch        418 non-null    int64  \n",
      " 7   Ticket       418 non-null    object \n",
      " 8   Fare         417 non-null    float64\n",
      " 9   Cabin        91 non-null     object \n",
      " 10  Embarked     418 non-null    object \n",
      "dtypes: float64(2), int64(4), object(5)\n",
      "memory usage: 36.0+ KB\n"
     ]
    }
   ],
   "source": [
    "test_data.info()"
   ]
  },
  {
   "cell_type": "markdown",
   "id": "b78a72f6",
   "metadata": {
    "papermill": {
     "duration": 0.007732,
     "end_time": "2022-11-10T05:41:29.037155",
     "exception": false,
     "start_time": "2022-11-10T05:41:29.029423",
     "status": "completed"
    },
    "tags": []
   },
   "source": [
    "### Handling NaN fields:"
   ]
  },
  {
   "cell_type": "code",
   "execution_count": 7,
   "id": "d649ba5e",
   "metadata": {
    "execution": {
     "iopub.execute_input": "2022-11-10T05:41:29.056327Z",
     "iopub.status.busy": "2022-11-10T05:41:29.055035Z",
     "iopub.status.idle": "2022-11-10T05:41:29.061237Z",
     "shell.execute_reply": "2022-11-10T05:41:29.060400Z"
    },
    "papermill": {
     "duration": 0.018338,
     "end_time": "2022-11-10T05:41:29.063544",
     "exception": false,
     "start_time": "2022-11-10T05:41:29.045206",
     "status": "completed"
    },
    "tags": []
   },
   "outputs": [],
   "source": [
    "values = {\"Age\": -1, \"Cabin\": 'NA', \"Embarked\": 'NA', \"Fare\": -1}"
   ]
  },
  {
   "cell_type": "code",
   "execution_count": 8,
   "id": "1f516767",
   "metadata": {
    "execution": {
     "iopub.execute_input": "2022-11-10T05:41:29.082552Z",
     "iopub.status.busy": "2022-11-10T05:41:29.081720Z",
     "iopub.status.idle": "2022-11-10T05:41:29.089088Z",
     "shell.execute_reply": "2022-11-10T05:41:29.088185Z"
    },
    "papermill": {
     "duration": 0.019764,
     "end_time": "2022-11-10T05:41:29.091429",
     "exception": false,
     "start_time": "2022-11-10T05:41:29.071665",
     "status": "completed"
    },
    "tags": []
   },
   "outputs": [],
   "source": [
    "train = train_data.fillna(value=values)"
   ]
  },
  {
   "cell_type": "code",
   "execution_count": 9,
   "id": "c08cd2e6",
   "metadata": {
    "execution": {
     "iopub.execute_input": "2022-11-10T05:41:29.110173Z",
     "iopub.status.busy": "2022-11-10T05:41:29.109436Z",
     "iopub.status.idle": "2022-11-10T05:41:29.116615Z",
     "shell.execute_reply": "2022-11-10T05:41:29.115661Z"
    },
    "papermill": {
     "duration": 0.019419,
     "end_time": "2022-11-10T05:41:29.119035",
     "exception": false,
     "start_time": "2022-11-10T05:41:29.099616",
     "status": "completed"
    },
    "tags": []
   },
   "outputs": [],
   "source": [
    "test = test_data.fillna(value=values)"
   ]
  },
  {
   "cell_type": "code",
   "execution_count": 10,
   "id": "80cba27a",
   "metadata": {
    "execution": {
     "iopub.execute_input": "2022-11-10T05:41:29.138035Z",
     "iopub.status.busy": "2022-11-10T05:41:29.137294Z",
     "iopub.status.idle": "2022-11-10T05:41:29.159089Z",
     "shell.execute_reply": "2022-11-10T05:41:29.157734Z"
    },
    "papermill": {
     "duration": 0.035056,
     "end_time": "2022-11-10T05:41:29.162253",
     "exception": false,
     "start_time": "2022-11-10T05:41:29.127197",
     "status": "completed"
    },
    "tags": []
   },
   "outputs": [
    {
     "name": "stdout",
     "output_type": "stream",
     "text": [
      "<class 'pandas.core.frame.DataFrame'>\n",
      "RangeIndex: 891 entries, 0 to 890\n",
      "Data columns (total 12 columns):\n",
      " #   Column       Non-Null Count  Dtype  \n",
      "---  ------       --------------  -----  \n",
      " 0   PassengerId  891 non-null    int64  \n",
      " 1   Survived     891 non-null    int64  \n",
      " 2   Pclass       891 non-null    int64  \n",
      " 3   Name         891 non-null    object \n",
      " 4   Sex          891 non-null    object \n",
      " 5   Age          891 non-null    float64\n",
      " 6   SibSp        891 non-null    int64  \n",
      " 7   Parch        891 non-null    int64  \n",
      " 8   Ticket       891 non-null    object \n",
      " 9   Fare         891 non-null    float64\n",
      " 10  Cabin        891 non-null    object \n",
      " 11  Embarked     891 non-null    object \n",
      "dtypes: float64(2), int64(5), object(5)\n",
      "memory usage: 83.7+ KB\n",
      "None\n",
      "<class 'pandas.core.frame.DataFrame'>\n",
      "RangeIndex: 418 entries, 0 to 417\n",
      "Data columns (total 11 columns):\n",
      " #   Column       Non-Null Count  Dtype  \n",
      "---  ------       --------------  -----  \n",
      " 0   PassengerId  418 non-null    int64  \n",
      " 1   Pclass       418 non-null    int64  \n",
      " 2   Name         418 non-null    object \n",
      " 3   Sex          418 non-null    object \n",
      " 4   Age          418 non-null    float64\n",
      " 5   SibSp        418 non-null    int64  \n",
      " 6   Parch        418 non-null    int64  \n",
      " 7   Ticket       418 non-null    object \n",
      " 8   Fare         418 non-null    float64\n",
      " 9   Cabin        418 non-null    object \n",
      " 10  Embarked     418 non-null    object \n",
      "dtypes: float64(2), int64(4), object(5)\n",
      "memory usage: 36.0+ KB\n",
      "None\n"
     ]
    }
   ],
   "source": [
    "print(train.info())\n",
    "print(test.info())"
   ]
  },
  {
   "cell_type": "markdown",
   "id": "c48f016c",
   "metadata": {
    "papermill": {
     "duration": 0.007859,
     "end_time": "2022-11-10T05:41:29.178384",
     "exception": false,
     "start_time": "2022-11-10T05:41:29.170525",
     "status": "completed"
    },
    "tags": []
   },
   "source": [
    "### Analysing attribute values for identifying categorical (and type of categorical) and numerical variables:"
   ]
  },
  {
   "cell_type": "code",
   "execution_count": 11,
   "id": "a26c63a7",
   "metadata": {
    "execution": {
     "iopub.execute_input": "2022-11-10T05:41:29.197444Z",
     "iopub.status.busy": "2022-11-10T05:41:29.196718Z",
     "iopub.status.idle": "2022-11-10T05:41:29.208037Z",
     "shell.execute_reply": "2022-11-10T05:41:29.206480Z"
    },
    "papermill": {
     "duration": 0.023959,
     "end_time": "2022-11-10T05:41:29.210807",
     "exception": false,
     "start_time": "2022-11-10T05:41:29.186848",
     "status": "completed"
    },
    "tags": []
   },
   "outputs": [
    {
     "name": "stdout",
     "output_type": "stream",
     "text": [
      "891\n",
      "418\n",
      "891\n",
      "418\n"
     ]
    }
   ],
   "source": [
    "# Shows that each name and passengerId is unique, essentially indicating that \n",
    "# Name and PassengerId would be no help in classification\n",
    "print(len(pd.unique(train.Name)))\n",
    "print(len(pd.unique(test.Name)))\n",
    "\n",
    "print(len(pd.unique(train.PassengerId)))\n",
    "print(len(pd.unique(test.PassengerId)))"
   ]
  },
  {
   "cell_type": "code",
   "execution_count": 12,
   "id": "9e88cb6a",
   "metadata": {
    "execution": {
     "iopub.execute_input": "2022-11-10T05:41:29.230392Z",
     "iopub.status.busy": "2022-11-10T05:41:29.229527Z",
     "iopub.status.idle": "2022-11-10T05:41:29.237807Z",
     "shell.execute_reply": "2022-11-10T05:41:29.236142Z"
    },
    "papermill": {
     "duration": 0.02084,
     "end_time": "2022-11-10T05:41:29.240398",
     "exception": false,
     "start_time": "2022-11-10T05:41:29.219558",
     "status": "completed"
    },
    "tags": []
   },
   "outputs": [
    {
     "name": "stdout",
     "output_type": "stream",
     "text": [
      "681\n",
      "363\n"
     ]
    }
   ],
   "source": [
    "print(len(pd.unique(train.Ticket)))\n",
    "print(len(pd.unique(test.Ticket)))"
   ]
  },
  {
   "cell_type": "code",
   "execution_count": 13,
   "id": "4a151d06",
   "metadata": {
    "execution": {
     "iopub.execute_input": "2022-11-10T05:41:29.259447Z",
     "iopub.status.busy": "2022-11-10T05:41:29.258963Z",
     "iopub.status.idle": "2022-11-10T05:41:29.267432Z",
     "shell.execute_reply": "2022-11-10T05:41:29.266067Z"
    },
    "papermill": {
     "duration": 0.021613,
     "end_time": "2022-11-10T05:41:29.270436",
     "exception": false,
     "start_time": "2022-11-10T05:41:29.248823",
     "status": "completed"
    },
    "tags": []
   },
   "outputs": [
    {
     "name": "stdout",
     "output_type": "stream",
     "text": [
      "248\n",
      "170\n"
     ]
    }
   ],
   "source": [
    "print(len(pd.unique(train.Fare)))\n",
    "print(len(pd.unique(test.Fare)))"
   ]
  },
  {
   "cell_type": "code",
   "execution_count": 14,
   "id": "0bbfdc49",
   "metadata": {
    "execution": {
     "iopub.execute_input": "2022-11-10T05:41:29.289827Z",
     "iopub.status.busy": "2022-11-10T05:41:29.289387Z",
     "iopub.status.idle": "2022-11-10T05:41:29.296887Z",
     "shell.execute_reply": "2022-11-10T05:41:29.295650Z"
    },
    "papermill": {
     "duration": 0.020706,
     "end_time": "2022-11-10T05:41:29.299795",
     "exception": false,
     "start_time": "2022-11-10T05:41:29.279089",
     "status": "completed"
    },
    "tags": []
   },
   "outputs": [
    {
     "name": "stdout",
     "output_type": "stream",
     "text": [
      "3\n",
      "248\n",
      "148\n"
     ]
    }
   ],
   "source": [
    "# The difference in number of unique values among these classes \n",
    "# do not leave a lot of room for considering positive correlation among them\n",
    "print(len(pd.unique(train.Pclass)))\n",
    "print(len(pd.unique(train.Fare)))\n",
    "print(len(pd.unique(train.Cabin)))"
   ]
  },
  {
   "cell_type": "code",
   "execution_count": 15,
   "id": "679d8a61",
   "metadata": {
    "execution": {
     "iopub.execute_input": "2022-11-10T05:41:29.319151Z",
     "iopub.status.busy": "2022-11-10T05:41:29.318682Z",
     "iopub.status.idle": "2022-11-10T05:41:29.327096Z",
     "shell.execute_reply": "2022-11-10T05:41:29.325530Z"
    },
    "papermill": {
     "duration": 0.021301,
     "end_time": "2022-11-10T05:41:29.329685",
     "exception": false,
     "start_time": "2022-11-10T05:41:29.308384",
     "status": "completed"
    },
    "tags": []
   },
   "outputs": [
    {
     "name": "stdout",
     "output_type": "stream",
     "text": [
      "148\n",
      "77\n",
      "681\n",
      "363\n"
     ]
    }
   ],
   "source": [
    "print(len(pd.unique(train.Cabin)))\n",
    "print(len(pd.unique(test.Cabin)))\n",
    "\n",
    "print(len(pd.unique(train.Ticket)))\n",
    "print(len(pd.unique(test.Ticket)))"
   ]
  },
  {
   "cell_type": "code",
   "execution_count": 16,
   "id": "675cb5b2",
   "metadata": {
    "execution": {
     "iopub.execute_input": "2022-11-10T05:41:29.349475Z",
     "iopub.status.busy": "2022-11-10T05:41:29.349000Z",
     "iopub.status.idle": "2022-11-10T05:41:29.353547Z",
     "shell.execute_reply": "2022-11-10T05:41:29.352280Z"
    },
    "papermill": {
     "duration": 0.017767,
     "end_time": "2022-11-10T05:41:29.356046",
     "exception": false,
     "start_time": "2022-11-10T05:41:29.338279",
     "status": "completed"
    },
    "tags": []
   },
   "outputs": [],
   "source": [
    "# Categorical Variables to be considered: Sex, Ticket, Cabin, Embarked\n",
    "# All are nominal categorical variables, cabin may be considered ordinal, however some passengers have multiple cabin values,\n",
    "# using dummies"
   ]
  },
  {
   "cell_type": "markdown",
   "id": "78bec524",
   "metadata": {
    "papermill": {
     "duration": 0.008332,
     "end_time": "2022-11-10T05:41:29.373214",
     "exception": false,
     "start_time": "2022-11-10T05:41:29.364882",
     "status": "completed"
    },
    "tags": []
   },
   "source": [
    "### Preparing input data:"
   ]
  },
  {
   "cell_type": "code",
   "execution_count": 17,
   "id": "46c3b6bf",
   "metadata": {
    "execution": {
     "iopub.execute_input": "2022-11-10T05:41:29.392560Z",
     "iopub.status.busy": "2022-11-10T05:41:29.392110Z",
     "iopub.status.idle": "2022-11-10T05:41:29.398391Z",
     "shell.execute_reply": "2022-11-10T05:41:29.397131Z"
    },
    "papermill": {
     "duration": 0.019037,
     "end_time": "2022-11-10T05:41:29.400853",
     "exception": false,
     "start_time": "2022-11-10T05:41:29.381816",
     "status": "completed"
    },
    "tags": []
   },
   "outputs": [],
   "source": [
    "# Extracting independent output variable y\n",
    "y = train[\"Survived\"]\n",
    "\n",
    "# Setting features to be used\n",
    "# features = [\"Pclass\", \"Sex\", \"Age\", \"SibSp\", \"Parch\", \"Ticket\", \"Fare\", \"Cabin\", \"Embarked\"]\n",
    "\n",
    "features = [\"Pclass\", \"Sex\", \"Age\", \"SibSp\", \"Parch\", \"Cabin\"]\n"
   ]
  },
  {
   "cell_type": "code",
   "execution_count": 18,
   "id": "c588b263",
   "metadata": {
    "execution": {
     "iopub.execute_input": "2022-11-10T05:41:29.420929Z",
     "iopub.status.busy": "2022-11-10T05:41:29.419998Z",
     "iopub.status.idle": "2022-11-10T05:41:29.430145Z",
     "shell.execute_reply": "2022-11-10T05:41:29.428964Z"
    },
    "papermill": {
     "duration": 0.02323,
     "end_time": "2022-11-10T05:41:29.432805",
     "exception": false,
     "start_time": "2022-11-10T05:41:29.409575",
     "status": "completed"
    },
    "tags": []
   },
   "outputs": [],
   "source": [
    "temp = train.copy()[features]\n",
    "temp_test = test.copy()[features]"
   ]
  },
  {
   "cell_type": "code",
   "execution_count": 19,
   "id": "710b45e5",
   "metadata": {
    "execution": {
     "iopub.execute_input": "2022-11-10T05:41:29.452541Z",
     "iopub.status.busy": "2022-11-10T05:41:29.452128Z",
     "iopub.status.idle": "2022-11-10T05:41:30.592006Z",
     "shell.execute_reply": "2022-11-10T05:41:30.589503Z"
    },
    "papermill": {
     "duration": 1.154072,
     "end_time": "2022-11-10T05:41:30.595804",
     "exception": false,
     "start_time": "2022-11-10T05:41:29.441732",
     "status": "completed"
    },
    "tags": []
   },
   "outputs": [
    {
     "data": {
      "text/plain": [
       "OneHotEncoder(handle_unknown='ignore')"
      ]
     },
     "execution_count": 19,
     "metadata": {},
     "output_type": "execute_result"
    }
   ],
   "source": [
    "from sklearn.preprocessing import OneHotEncoder\n",
    "onehot_encoder = OneHotEncoder(handle_unknown='ignore')\n",
    "onehot_encoder.fit(temp)"
   ]
  },
  {
   "cell_type": "code",
   "execution_count": 20,
   "id": "54ab3ddb",
   "metadata": {
    "execution": {
     "iopub.execute_input": "2022-11-10T05:41:30.617329Z",
     "iopub.status.busy": "2022-11-10T05:41:30.616414Z",
     "iopub.status.idle": "2022-11-10T05:41:30.629805Z",
     "shell.execute_reply": "2022-11-10T05:41:30.628811Z"
    },
    "papermill": {
     "duration": 0.02697,
     "end_time": "2022-11-10T05:41:30.632694",
     "exception": false,
     "start_time": "2022-11-10T05:41:30.605724",
     "status": "completed"
    },
    "tags": []
   },
   "outputs": [],
   "source": [
    "\n",
    "X_train = onehot_encoder.transform(temp)\n",
    "X_test = onehot_encoder.transform(temp_test)"
   ]
  },
  {
   "cell_type": "markdown",
   "id": "a2933083",
   "metadata": {
    "papermill": {
     "duration": 0.008521,
     "end_time": "2022-11-10T05:41:30.650080",
     "exception": false,
     "start_time": "2022-11-10T05:41:30.641559",
     "status": "completed"
    },
    "tags": []
   },
   "source": [
    "## Training:"
   ]
  },
  {
   "cell_type": "code",
   "execution_count": 21,
   "id": "26103e20",
   "metadata": {
    "execution": {
     "iopub.execute_input": "2022-11-10T05:41:30.671217Z",
     "iopub.status.busy": "2022-11-10T05:41:30.670319Z",
     "iopub.status.idle": "2022-11-10T05:41:30.947912Z",
     "shell.execute_reply": "2022-11-10T05:41:30.946461Z"
    },
    "papermill": {
     "duration": 0.291107,
     "end_time": "2022-11-10T05:41:30.950807",
     "exception": false,
     "start_time": "2022-11-10T05:41:30.659700",
     "status": "completed"
    },
    "tags": []
   },
   "outputs": [],
   "source": [
    "from sklearn.ensemble import RandomForestClassifier\n",
    "\n",
    "from sklearn.model_selection import cross_val_score\n",
    "\n",
    "model = RandomForestClassifier(max_depth=50)\n",
    "\n"
   ]
  },
  {
   "cell_type": "code",
   "execution_count": 22,
   "id": "9a9e7cba",
   "metadata": {
    "execution": {
     "iopub.execute_input": "2022-11-10T05:41:30.970553Z",
     "iopub.status.busy": "2022-11-10T05:41:30.970027Z",
     "iopub.status.idle": "2022-11-10T05:41:32.630620Z",
     "shell.execute_reply": "2022-11-10T05:41:32.629416Z"
    },
    "papermill": {
     "duration": 1.673801,
     "end_time": "2022-11-10T05:41:32.633509",
     "exception": false,
     "start_time": "2022-11-10T05:41:30.959708",
     "status": "completed"
    },
    "tags": []
   },
   "outputs": [],
   "source": [
    "scores = cross_val_score(model, X_train, y, cv=5)"
   ]
  },
  {
   "cell_type": "code",
   "execution_count": 23,
   "id": "21b7d881",
   "metadata": {
    "execution": {
     "iopub.execute_input": "2022-11-10T05:41:32.653954Z",
     "iopub.status.busy": "2022-11-10T05:41:32.653493Z",
     "iopub.status.idle": "2022-11-10T05:41:32.662158Z",
     "shell.execute_reply": "2022-11-10T05:41:32.661262Z"
    },
    "papermill": {
     "duration": 0.02167,
     "end_time": "2022-11-10T05:41:32.664364",
     "exception": false,
     "start_time": "2022-11-10T05:41:32.642694",
     "status": "completed"
    },
    "tags": []
   },
   "outputs": [
    {
     "data": {
      "text/plain": [
       "array([0.81005587, 0.80898876, 0.81460674, 0.80337079, 0.8258427 ])"
      ]
     },
     "execution_count": 23,
     "metadata": {},
     "output_type": "execute_result"
    }
   ],
   "source": [
    "scores"
   ]
  },
  {
   "cell_type": "code",
   "execution_count": 24,
   "id": "6a3abae9",
   "metadata": {
    "execution": {
     "iopub.execute_input": "2022-11-10T05:41:32.684575Z",
     "iopub.status.busy": "2022-11-10T05:41:32.683424Z",
     "iopub.status.idle": "2022-11-10T05:41:33.051945Z",
     "shell.execute_reply": "2022-11-10T05:41:33.050505Z"
    },
    "papermill": {
     "duration": 0.381836,
     "end_time": "2022-11-10T05:41:33.055213",
     "exception": false,
     "start_time": "2022-11-10T05:41:32.673377",
     "status": "completed"
    },
    "tags": []
   },
   "outputs": [
    {
     "data": {
      "text/plain": [
       "0.9371492704826038"
      ]
     },
     "execution_count": 24,
     "metadata": {},
     "output_type": "execute_result"
    }
   ],
   "source": [
    "model.fit(X_train, y)\n",
    "model.score(X_train, y)"
   ]
  },
  {
   "cell_type": "markdown",
   "id": "cc1791f7",
   "metadata": {
    "papermill": {
     "duration": 0.008812,
     "end_time": "2022-11-10T05:41:33.073191",
     "exception": false,
     "start_time": "2022-11-10T05:41:33.064379",
     "status": "completed"
    },
    "tags": []
   },
   "source": [
    "## Predictions:"
   ]
  },
  {
   "cell_type": "code",
   "execution_count": 25,
   "id": "24345e0b",
   "metadata": {
    "execution": {
     "iopub.execute_input": "2022-11-10T05:41:33.093566Z",
     "iopub.status.busy": "2022-11-10T05:41:33.093093Z",
     "iopub.status.idle": "2022-11-10T05:41:33.124977Z",
     "shell.execute_reply": "2022-11-10T05:41:33.123592Z"
    },
    "papermill": {
     "duration": 0.045544,
     "end_time": "2022-11-10T05:41:33.127842",
     "exception": false,
     "start_time": "2022-11-10T05:41:33.082298",
     "status": "completed"
    },
    "tags": []
   },
   "outputs": [],
   "source": [
    "predictions = model.predict(X_test)"
   ]
  },
  {
   "cell_type": "code",
   "execution_count": 26,
   "id": "e211b842",
   "metadata": {
    "execution": {
     "iopub.execute_input": "2022-11-10T05:41:33.148317Z",
     "iopub.status.busy": "2022-11-10T05:41:33.147546Z",
     "iopub.status.idle": "2022-11-10T05:41:33.158244Z",
     "shell.execute_reply": "2022-11-10T05:41:33.157342Z"
    },
    "papermill": {
     "duration": 0.02367,
     "end_time": "2022-11-10T05:41:33.160631",
     "exception": false,
     "start_time": "2022-11-10T05:41:33.136961",
     "status": "completed"
    },
    "tags": []
   },
   "outputs": [
    {
     "name": "stdout",
     "output_type": "stream",
     "text": [
      "Your submission was successfully saved!\n"
     ]
    }
   ],
   "source": [
    "output = pd.DataFrame({'PassengerId': test.PassengerId, 'Survived': predictions})\n",
    "output.to_csv('submission.csv', index=False)\n",
    "print(\"Your submission was successfully saved!\")"
   ]
  },
  {
   "cell_type": "code",
   "execution_count": null,
   "id": "3ce310a9",
   "metadata": {
    "papermill": {
     "duration": 0.008965,
     "end_time": "2022-11-10T05:41:33.179007",
     "exception": false,
     "start_time": "2022-11-10T05:41:33.170042",
     "status": "completed"
    },
    "tags": []
   },
   "outputs": [],
   "source": []
  }
 ],
 "metadata": {
  "kernelspec": {
   "display_name": "Python 3",
   "language": "python",
   "name": "python3"
  },
  "language_info": {
   "codemirror_mode": {
    "name": "ipython",
    "version": 3
   },
   "file_extension": ".py",
   "mimetype": "text/x-python",
   "name": "python",
   "nbconvert_exporter": "python",
   "pygments_lexer": "ipython3",
   "version": "3.7.12"
  },
  "papermill": {
   "default_parameters": {},
   "duration": 16.156117,
   "end_time": "2022-11-10T05:41:34.112110",
   "environment_variables": {},
   "exception": null,
   "input_path": "__notebook__.ipynb",
   "output_path": "__notebook__.ipynb",
   "parameters": {},
   "start_time": "2022-11-10T05:41:17.955993",
   "version": "2.3.4"
  }
 },
 "nbformat": 4,
 "nbformat_minor": 5
}
