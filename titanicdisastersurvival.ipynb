{
 "cells": [
  {
   "cell_type": "code",
   "execution_count": 1,
   "id": "7b875241",
   "metadata": {
    "_cell_guid": "b1076dfc-b9ad-4769-8c92-a6c4dae69d19",
    "_uuid": "8f2839f25d086af736a60e9eeb907d3b93b6e0e5",
    "execution": {
     "iopub.execute_input": "2022-11-10T05:48:18.373917Z",
     "iopub.status.busy": "2022-11-10T05:48:18.373009Z",
     "iopub.status.idle": "2022-11-10T05:48:18.387820Z",
     "shell.execute_reply": "2022-11-10T05:48:18.386757Z"
    },
    "papermill": {
     "duration": 0.032305,
     "end_time": "2022-11-10T05:48:18.393564",
     "exception": false,
     "start_time": "2022-11-10T05:48:18.361259",
     "status": "completed"
    },
    "tags": []
   },
   "outputs": [
    {
     "name": "stdout",
     "output_type": "stream",
     "text": [
      "/kaggle/input/titanic/train.csv\n",
      "/kaggle/input/titanic/test.csv\n",
      "/kaggle/input/titanic/gender_submission.csv\n"
     ]
    }
   ],
   "source": [
    "import numpy as np # linear algebra\n",
    "import pandas as pd # data processing, CSV file I/O (e.g. pd.read_csv)\n",
    "\n",
    "import os\n",
    "for dirname, _, filenames in os.walk('/kaggle/input'):\n",
    "    for filename in filenames:\n",
    "        print(os.path.join(dirname, filename))\n"
   ]
  },
  {
   "cell_type": "code",
   "execution_count": 2,
   "id": "7c965789",
   "metadata": {
    "execution": {
     "iopub.execute_input": "2022-11-10T05:48:18.415616Z",
     "iopub.status.busy": "2022-11-10T05:48:18.414297Z",
     "iopub.status.idle": "2022-11-10T05:48:18.440999Z",
     "shell.execute_reply": "2022-11-10T05:48:18.439618Z"
    },
    "papermill": {
     "duration": 0.040966,
     "end_time": "2022-11-10T05:48:18.444258",
     "exception": false,
     "start_time": "2022-11-10T05:48:18.403292",
     "status": "completed"
    },
    "tags": []
   },
   "outputs": [],
   "source": [
    "train_data = pd.read_csv('/kaggle/input/titanic/train.csv')"
   ]
  },
  {
   "cell_type": "code",
   "execution_count": 3,
   "id": "9138da72",
   "metadata": {
    "execution": {
     "iopub.execute_input": "2022-11-10T05:48:18.463604Z",
     "iopub.status.busy": "2022-11-10T05:48:18.462745Z",
     "iopub.status.idle": "2022-11-10T05:48:18.504641Z",
     "shell.execute_reply": "2022-11-10T05:48:18.502286Z"
    },
    "papermill": {
     "duration": 0.055292,
     "end_time": "2022-11-10T05:48:18.508059",
     "exception": false,
     "start_time": "2022-11-10T05:48:18.452767",
     "status": "completed"
    },
    "tags": []
   },
   "outputs": [
    {
     "data": {
      "text/html": [
       "<div>\n",
       "<style scoped>\n",
       "    .dataframe tbody tr th:only-of-type {\n",
       "        vertical-align: middle;\n",
       "    }\n",
       "\n",
       "    .dataframe tbody tr th {\n",
       "        vertical-align: top;\n",
       "    }\n",
       "\n",
       "    .dataframe thead th {\n",
       "        text-align: right;\n",
       "    }\n",
       "</style>\n",
       "<table border=\"1\" class=\"dataframe\">\n",
       "  <thead>\n",
       "    <tr style=\"text-align: right;\">\n",
       "      <th></th>\n",
       "      <th>PassengerId</th>\n",
       "      <th>Survived</th>\n",
       "      <th>Pclass</th>\n",
       "      <th>Name</th>\n",
       "      <th>Sex</th>\n",
       "      <th>Age</th>\n",
       "      <th>SibSp</th>\n",
       "      <th>Parch</th>\n",
       "      <th>Ticket</th>\n",
       "      <th>Fare</th>\n",
       "      <th>Cabin</th>\n",
       "      <th>Embarked</th>\n",
       "    </tr>\n",
       "  </thead>\n",
       "  <tbody>\n",
       "    <tr>\n",
       "      <th>0</th>\n",
       "      <td>1</td>\n",
       "      <td>0</td>\n",
       "      <td>3</td>\n",
       "      <td>Braund, Mr. Owen Harris</td>\n",
       "      <td>male</td>\n",
       "      <td>22.0</td>\n",
       "      <td>1</td>\n",
       "      <td>0</td>\n",
       "      <td>A/5 21171</td>\n",
       "      <td>7.2500</td>\n",
       "      <td>NaN</td>\n",
       "      <td>S</td>\n",
       "    </tr>\n",
       "    <tr>\n",
       "      <th>1</th>\n",
       "      <td>2</td>\n",
       "      <td>1</td>\n",
       "      <td>1</td>\n",
       "      <td>Cumings, Mrs. John Bradley (Florence Briggs Th...</td>\n",
       "      <td>female</td>\n",
       "      <td>38.0</td>\n",
       "      <td>1</td>\n",
       "      <td>0</td>\n",
       "      <td>PC 17599</td>\n",
       "      <td>71.2833</td>\n",
       "      <td>C85</td>\n",
       "      <td>C</td>\n",
       "    </tr>\n",
       "    <tr>\n",
       "      <th>2</th>\n",
       "      <td>3</td>\n",
       "      <td>1</td>\n",
       "      <td>3</td>\n",
       "      <td>Heikkinen, Miss. Laina</td>\n",
       "      <td>female</td>\n",
       "      <td>26.0</td>\n",
       "      <td>0</td>\n",
       "      <td>0</td>\n",
       "      <td>STON/O2. 3101282</td>\n",
       "      <td>7.9250</td>\n",
       "      <td>NaN</td>\n",
       "      <td>S</td>\n",
       "    </tr>\n",
       "    <tr>\n",
       "      <th>3</th>\n",
       "      <td>4</td>\n",
       "      <td>1</td>\n",
       "      <td>1</td>\n",
       "      <td>Futrelle, Mrs. Jacques Heath (Lily May Peel)</td>\n",
       "      <td>female</td>\n",
       "      <td>35.0</td>\n",
       "      <td>1</td>\n",
       "      <td>0</td>\n",
       "      <td>113803</td>\n",
       "      <td>53.1000</td>\n",
       "      <td>C123</td>\n",
       "      <td>S</td>\n",
       "    </tr>\n",
       "    <tr>\n",
       "      <th>4</th>\n",
       "      <td>5</td>\n",
       "      <td>0</td>\n",
       "      <td>3</td>\n",
       "      <td>Allen, Mr. William Henry</td>\n",
       "      <td>male</td>\n",
       "      <td>35.0</td>\n",
       "      <td>0</td>\n",
       "      <td>0</td>\n",
       "      <td>373450</td>\n",
       "      <td>8.0500</td>\n",
       "      <td>NaN</td>\n",
       "      <td>S</td>\n",
       "    </tr>\n",
       "  </tbody>\n",
       "</table>\n",
       "</div>"
      ],
      "text/plain": [
       "   PassengerId  Survived  Pclass  \\\n",
       "0            1         0       3   \n",
       "1            2         1       1   \n",
       "2            3         1       3   \n",
       "3            4         1       1   \n",
       "4            5         0       3   \n",
       "\n",
       "                                                Name     Sex   Age  SibSp  \\\n",
       "0                            Braund, Mr. Owen Harris    male  22.0      1   \n",
       "1  Cumings, Mrs. John Bradley (Florence Briggs Th...  female  38.0      1   \n",
       "2                             Heikkinen, Miss. Laina  female  26.0      0   \n",
       "3       Futrelle, Mrs. Jacques Heath (Lily May Peel)  female  35.0      1   \n",
       "4                           Allen, Mr. William Henry    male  35.0      0   \n",
       "\n",
       "   Parch            Ticket     Fare Cabin Embarked  \n",
       "0      0         A/5 21171   7.2500   NaN        S  \n",
       "1      0          PC 17599  71.2833   C85        C  \n",
       "2      0  STON/O2. 3101282   7.9250   NaN        S  \n",
       "3      0            113803  53.1000  C123        S  \n",
       "4      0            373450   8.0500   NaN        S  "
      ]
     },
     "execution_count": 3,
     "metadata": {},
     "output_type": "execute_result"
    }
   ],
   "source": [
    "train_data.head()"
   ]
  },
  {
   "cell_type": "code",
   "execution_count": 4,
   "id": "8cb00661",
   "metadata": {
    "execution": {
     "iopub.execute_input": "2022-11-10T05:48:18.528771Z",
     "iopub.status.busy": "2022-11-10T05:48:18.527494Z",
     "iopub.status.idle": "2022-11-10T05:48:18.543103Z",
     "shell.execute_reply": "2022-11-10T05:48:18.541936Z"
    },
    "papermill": {
     "duration": 0.029045,
     "end_time": "2022-11-10T05:48:18.546371",
     "exception": false,
     "start_time": "2022-11-10T05:48:18.517326",
     "status": "completed"
    },
    "tags": []
   },
   "outputs": [],
   "source": [
    "test_data = pd.read_csv('/kaggle/input/titanic/test.csv')"
   ]
  },
  {
   "cell_type": "markdown",
   "id": "a562e8f7",
   "metadata": {
    "papermill": {
     "duration": 0.008701,
     "end_time": "2022-11-10T05:48:18.563682",
     "exception": false,
     "start_time": "2022-11-10T05:48:18.554981",
     "status": "completed"
    },
    "tags": []
   },
   "source": [
    "## Data Analysis and Preprocessing:"
   ]
  },
  {
   "cell_type": "code",
   "execution_count": 5,
   "id": "a7a78928",
   "metadata": {
    "execution": {
     "iopub.execute_input": "2022-11-10T05:48:18.585948Z",
     "iopub.status.busy": "2022-11-10T05:48:18.584993Z",
     "iopub.status.idle": "2022-11-10T05:48:18.613723Z",
     "shell.execute_reply": "2022-11-10T05:48:18.612217Z"
    },
    "papermill": {
     "duration": 0.041867,
     "end_time": "2022-11-10T05:48:18.616421",
     "exception": false,
     "start_time": "2022-11-10T05:48:18.574554",
     "status": "completed"
    },
    "tags": []
   },
   "outputs": [
    {
     "name": "stdout",
     "output_type": "stream",
     "text": [
      "<class 'pandas.core.frame.DataFrame'>\n",
      "RangeIndex: 891 entries, 0 to 890\n",
      "Data columns (total 12 columns):\n",
      " #   Column       Non-Null Count  Dtype  \n",
      "---  ------       --------------  -----  \n",
      " 0   PassengerId  891 non-null    int64  \n",
      " 1   Survived     891 non-null    int64  \n",
      " 2   Pclass       891 non-null    int64  \n",
      " 3   Name         891 non-null    object \n",
      " 4   Sex          891 non-null    object \n",
      " 5   Age          714 non-null    float64\n",
      " 6   SibSp        891 non-null    int64  \n",
      " 7   Parch        891 non-null    int64  \n",
      " 8   Ticket       891 non-null    object \n",
      " 9   Fare         891 non-null    float64\n",
      " 10  Cabin        204 non-null    object \n",
      " 11  Embarked     889 non-null    object \n",
      "dtypes: float64(2), int64(5), object(5)\n",
      "memory usage: 83.7+ KB\n"
     ]
    }
   ],
   "source": [
    "train_data.info()"
   ]
  },
  {
   "cell_type": "code",
   "execution_count": 6,
   "id": "cb369443",
   "metadata": {
    "execution": {
     "iopub.execute_input": "2022-11-10T05:48:18.638406Z",
     "iopub.status.busy": "2022-11-10T05:48:18.637337Z",
     "iopub.status.idle": "2022-11-10T05:48:18.654578Z",
     "shell.execute_reply": "2022-11-10T05:48:18.652139Z"
    },
    "papermill": {
     "duration": 0.032601,
     "end_time": "2022-11-10T05:48:18.657787",
     "exception": false,
     "start_time": "2022-11-10T05:48:18.625186",
     "status": "completed"
    },
    "tags": []
   },
   "outputs": [
    {
     "name": "stdout",
     "output_type": "stream",
     "text": [
      "<class 'pandas.core.frame.DataFrame'>\n",
      "RangeIndex: 418 entries, 0 to 417\n",
      "Data columns (total 11 columns):\n",
      " #   Column       Non-Null Count  Dtype  \n",
      "---  ------       --------------  -----  \n",
      " 0   PassengerId  418 non-null    int64  \n",
      " 1   Pclass       418 non-null    int64  \n",
      " 2   Name         418 non-null    object \n",
      " 3   Sex          418 non-null    object \n",
      " 4   Age          332 non-null    float64\n",
      " 5   SibSp        418 non-null    int64  \n",
      " 6   Parch        418 non-null    int64  \n",
      " 7   Ticket       418 non-null    object \n",
      " 8   Fare         417 non-null    float64\n",
      " 9   Cabin        91 non-null     object \n",
      " 10  Embarked     418 non-null    object \n",
      "dtypes: float64(2), int64(4), object(5)\n",
      "memory usage: 36.0+ KB\n"
     ]
    }
   ],
   "source": [
    "test_data.info()"
   ]
  },
  {
   "cell_type": "markdown",
   "id": "06385bd4",
   "metadata": {
    "papermill": {
     "duration": 0.008788,
     "end_time": "2022-11-10T05:48:18.675717",
     "exception": false,
     "start_time": "2022-11-10T05:48:18.666929",
     "status": "completed"
    },
    "tags": []
   },
   "source": [
    "### Handling NaN fields:"
   ]
  },
  {
   "cell_type": "code",
   "execution_count": 7,
   "id": "8df4afb0",
   "metadata": {
    "execution": {
     "iopub.execute_input": "2022-11-10T05:48:18.696054Z",
     "iopub.status.busy": "2022-11-10T05:48:18.694800Z",
     "iopub.status.idle": "2022-11-10T05:48:18.700433Z",
     "shell.execute_reply": "2022-11-10T05:48:18.699448Z"
    },
    "papermill": {
     "duration": 0.01873,
     "end_time": "2022-11-10T05:48:18.703092",
     "exception": false,
     "start_time": "2022-11-10T05:48:18.684362",
     "status": "completed"
    },
    "tags": []
   },
   "outputs": [],
   "source": [
    "values = {\"Age\": -1, \"Cabin\": 'NA', \"Embarked\": 'NA', \"Fare\": -1}"
   ]
  },
  {
   "cell_type": "code",
   "execution_count": 8,
   "id": "db542218",
   "metadata": {
    "execution": {
     "iopub.execute_input": "2022-11-10T05:48:18.724050Z",
     "iopub.status.busy": "2022-11-10T05:48:18.722796Z",
     "iopub.status.idle": "2022-11-10T05:48:18.732188Z",
     "shell.execute_reply": "2022-11-10T05:48:18.731125Z"
    },
    "papermill": {
     "duration": 0.023172,
     "end_time": "2022-11-10T05:48:18.734944",
     "exception": false,
     "start_time": "2022-11-10T05:48:18.711772",
     "status": "completed"
    },
    "tags": []
   },
   "outputs": [],
   "source": [
    "train = train_data.fillna(value=values)"
   ]
  },
  {
   "cell_type": "code",
   "execution_count": 9,
   "id": "b4cd8441",
   "metadata": {
    "execution": {
     "iopub.execute_input": "2022-11-10T05:48:18.756395Z",
     "iopub.status.busy": "2022-11-10T05:48:18.755574Z",
     "iopub.status.idle": "2022-11-10T05:48:18.762950Z",
     "shell.execute_reply": "2022-11-10T05:48:18.761971Z"
    },
    "papermill": {
     "duration": 0.021727,
     "end_time": "2022-11-10T05:48:18.765682",
     "exception": false,
     "start_time": "2022-11-10T05:48:18.743955",
     "status": "completed"
    },
    "tags": []
   },
   "outputs": [],
   "source": [
    "test = test_data.fillna(value=values)"
   ]
  },
  {
   "cell_type": "code",
   "execution_count": 10,
   "id": "5fab7a6a",
   "metadata": {
    "execution": {
     "iopub.execute_input": "2022-11-10T05:48:18.785300Z",
     "iopub.status.busy": "2022-11-10T05:48:18.784849Z",
     "iopub.status.idle": "2022-11-10T05:48:18.811589Z",
     "shell.execute_reply": "2022-11-10T05:48:18.809787Z"
    },
    "papermill": {
     "duration": 0.041275,
     "end_time": "2022-11-10T05:48:18.815785",
     "exception": false,
     "start_time": "2022-11-10T05:48:18.774510",
     "status": "completed"
    },
    "tags": []
   },
   "outputs": [
    {
     "name": "stdout",
     "output_type": "stream",
     "text": [
      "<class 'pandas.core.frame.DataFrame'>\n",
      "RangeIndex: 891 entries, 0 to 890\n",
      "Data columns (total 12 columns):\n",
      " #   Column       Non-Null Count  Dtype  \n",
      "---  ------       --------------  -----  \n",
      " 0   PassengerId  891 non-null    int64  \n",
      " 1   Survived     891 non-null    int64  \n",
      " 2   Pclass       891 non-null    int64  \n",
      " 3   Name         891 non-null    object \n",
      " 4   Sex          891 non-null    object \n",
      " 5   Age          891 non-null    float64\n",
      " 6   SibSp        891 non-null    int64  \n",
      " 7   Parch        891 non-null    int64  \n",
      " 8   Ticket       891 non-null    object \n",
      " 9   Fare         891 non-null    float64\n",
      " 10  Cabin        891 non-null    object \n",
      " 11  Embarked     891 non-null    object \n",
      "dtypes: float64(2), int64(5), object(5)\n",
      "memory usage: 83.7+ KB\n",
      "None\n",
      "<class 'pandas.core.frame.DataFrame'>\n",
      "RangeIndex: 418 entries, 0 to 417\n",
      "Data columns (total 11 columns):\n",
      " #   Column       Non-Null Count  Dtype  \n",
      "---  ------       --------------  -----  \n",
      " 0   PassengerId  418 non-null    int64  \n",
      " 1   Pclass       418 non-null    int64  \n",
      " 2   Name         418 non-null    object \n",
      " 3   Sex          418 non-null    object \n",
      " 4   Age          418 non-null    float64\n",
      " 5   SibSp        418 non-null    int64  \n",
      " 6   Parch        418 non-null    int64  \n",
      " 7   Ticket       418 non-null    object \n",
      " 8   Fare         418 non-null    float64\n",
      " 9   Cabin        418 non-null    object \n",
      " 10  Embarked     418 non-null    object \n",
      "dtypes: float64(2), int64(4), object(5)\n",
      "memory usage: 36.0+ KB\n",
      "None\n"
     ]
    }
   ],
   "source": [
    "print(train.info())\n",
    "print(test.info())"
   ]
  },
  {
   "cell_type": "markdown",
   "id": "e508c22f",
   "metadata": {
    "papermill": {
     "duration": 0.008446,
     "end_time": "2022-11-10T05:48:18.833843",
     "exception": false,
     "start_time": "2022-11-10T05:48:18.825397",
     "status": "completed"
    },
    "tags": []
   },
   "source": [
    "### Analysing attribute values for identifying categorical (and type of categorical) and numerical variables:"
   ]
  },
  {
   "cell_type": "code",
   "execution_count": 11,
   "id": "bbf23c94",
   "metadata": {
    "execution": {
     "iopub.execute_input": "2022-11-10T05:48:18.853343Z",
     "iopub.status.busy": "2022-11-10T05:48:18.852896Z",
     "iopub.status.idle": "2022-11-10T05:48:18.864925Z",
     "shell.execute_reply": "2022-11-10T05:48:18.862994Z"
    },
    "papermill": {
     "duration": 0.025779,
     "end_time": "2022-11-10T05:48:18.868368",
     "exception": false,
     "start_time": "2022-11-10T05:48:18.842589",
     "status": "completed"
    },
    "tags": []
   },
   "outputs": [
    {
     "name": "stdout",
     "output_type": "stream",
     "text": [
      "891\n",
      "418\n",
      "891\n",
      "418\n"
     ]
    }
   ],
   "source": [
    "# Shows that each name and passengerId is unique, essentially indicating that \n",
    "# Name and PassengerId would be no help in classification\n",
    "print(len(pd.unique(train.Name)))\n",
    "print(len(pd.unique(test.Name)))\n",
    "\n",
    "print(len(pd.unique(train.PassengerId)))\n",
    "print(len(pd.unique(test.PassengerId)))"
   ]
  },
  {
   "cell_type": "code",
   "execution_count": 12,
   "id": "5b203039",
   "metadata": {
    "execution": {
     "iopub.execute_input": "2022-11-10T05:48:18.888416Z",
     "iopub.status.busy": "2022-11-10T05:48:18.887983Z",
     "iopub.status.idle": "2022-11-10T05:48:18.895524Z",
     "shell.execute_reply": "2022-11-10T05:48:18.894239Z"
    },
    "papermill": {
     "duration": 0.021404,
     "end_time": "2022-11-10T05:48:18.898652",
     "exception": false,
     "start_time": "2022-11-10T05:48:18.877248",
     "status": "completed"
    },
    "tags": []
   },
   "outputs": [
    {
     "name": "stdout",
     "output_type": "stream",
     "text": [
      "681\n",
      "363\n"
     ]
    }
   ],
   "source": [
    "print(len(pd.unique(train.Ticket)))\n",
    "print(len(pd.unique(test.Ticket)))"
   ]
  },
  {
   "cell_type": "code",
   "execution_count": 13,
   "id": "21d48f8e",
   "metadata": {
    "execution": {
     "iopub.execute_input": "2022-11-10T05:48:18.920041Z",
     "iopub.status.busy": "2022-11-10T05:48:18.919527Z",
     "iopub.status.idle": "2022-11-10T05:48:18.929531Z",
     "shell.execute_reply": "2022-11-10T05:48:18.928290Z"
    },
    "papermill": {
     "duration": 0.024514,
     "end_time": "2022-11-10T05:48:18.932846",
     "exception": false,
     "start_time": "2022-11-10T05:48:18.908332",
     "status": "completed"
    },
    "tags": []
   },
   "outputs": [
    {
     "name": "stdout",
     "output_type": "stream",
     "text": [
      "248\n",
      "170\n"
     ]
    }
   ],
   "source": [
    "print(len(pd.unique(train.Fare)))\n",
    "print(len(pd.unique(test.Fare)))"
   ]
  },
  {
   "cell_type": "code",
   "execution_count": 14,
   "id": "17905e06",
   "metadata": {
    "execution": {
     "iopub.execute_input": "2022-11-10T05:48:18.954035Z",
     "iopub.status.busy": "2022-11-10T05:48:18.953582Z",
     "iopub.status.idle": "2022-11-10T05:48:18.961269Z",
     "shell.execute_reply": "2022-11-10T05:48:18.959952Z"
    },
    "papermill": {
     "duration": 0.021607,
     "end_time": "2022-11-10T05:48:18.964646",
     "exception": false,
     "start_time": "2022-11-10T05:48:18.943039",
     "status": "completed"
    },
    "tags": []
   },
   "outputs": [
    {
     "name": "stdout",
     "output_type": "stream",
     "text": [
      "3\n",
      "248\n",
      "148\n"
     ]
    }
   ],
   "source": [
    "# The difference in number of unique values among these classes \n",
    "# do not leave a lot of room for considering positive correlation among them\n",
    "print(len(pd.unique(train.Pclass)))\n",
    "print(len(pd.unique(train.Fare)))\n",
    "print(len(pd.unique(train.Cabin)))"
   ]
  },
  {
   "cell_type": "code",
   "execution_count": 15,
   "id": "763e4883",
   "metadata": {
    "execution": {
     "iopub.execute_input": "2022-11-10T05:48:18.984577Z",
     "iopub.status.busy": "2022-11-10T05:48:18.984102Z",
     "iopub.status.idle": "2022-11-10T05:48:18.992905Z",
     "shell.execute_reply": "2022-11-10T05:48:18.991533Z"
    },
    "papermill": {
     "duration": 0.022135,
     "end_time": "2022-11-10T05:48:18.995748",
     "exception": false,
     "start_time": "2022-11-10T05:48:18.973613",
     "status": "completed"
    },
    "tags": []
   },
   "outputs": [
    {
     "name": "stdout",
     "output_type": "stream",
     "text": [
      "148\n",
      "77\n",
      "681\n",
      "363\n"
     ]
    }
   ],
   "source": [
    "print(len(pd.unique(train.Cabin)))\n",
    "print(len(pd.unique(test.Cabin)))\n",
    "\n",
    "print(len(pd.unique(train.Ticket)))\n",
    "print(len(pd.unique(test.Ticket)))"
   ]
  },
  {
   "cell_type": "code",
   "execution_count": 16,
   "id": "d23b873e",
   "metadata": {
    "execution": {
     "iopub.execute_input": "2022-11-10T05:48:19.017291Z",
     "iopub.status.busy": "2022-11-10T05:48:19.016848Z",
     "iopub.status.idle": "2022-11-10T05:48:19.022981Z",
     "shell.execute_reply": "2022-11-10T05:48:19.021702Z"
    },
    "papermill": {
     "duration": 0.020133,
     "end_time": "2022-11-10T05:48:19.025648",
     "exception": false,
     "start_time": "2022-11-10T05:48:19.005515",
     "status": "completed"
    },
    "tags": []
   },
   "outputs": [],
   "source": [
    "# Categorical Variables to be considered: Sex, Ticket, Cabin, Embarked\n",
    "# All are nominal categorical variables, cabin may be considered ordinal, however some passengers have multiple cabin values,\n",
    "# using dummies"
   ]
  },
  {
   "cell_type": "markdown",
   "id": "2cfe4907",
   "metadata": {
    "papermill": {
     "duration": 0.00896,
     "end_time": "2022-11-10T05:48:19.043865",
     "exception": false,
     "start_time": "2022-11-10T05:48:19.034905",
     "status": "completed"
    },
    "tags": []
   },
   "source": [
    "### Preparing input data:"
   ]
  },
  {
   "cell_type": "code",
   "execution_count": 17,
   "id": "49ccc54d",
   "metadata": {
    "execution": {
     "iopub.execute_input": "2022-11-10T05:48:19.065121Z",
     "iopub.status.busy": "2022-11-10T05:48:19.063629Z",
     "iopub.status.idle": "2022-11-10T05:48:19.070945Z",
     "shell.execute_reply": "2022-11-10T05:48:19.069536Z"
    },
    "papermill": {
     "duration": 0.020828,
     "end_time": "2022-11-10T05:48:19.073838",
     "exception": false,
     "start_time": "2022-11-10T05:48:19.053010",
     "status": "completed"
    },
    "tags": []
   },
   "outputs": [],
   "source": [
    "# Extracting independent output variable y\n",
    "y = train[\"Survived\"]\n",
    "\n",
    "# Setting features to be used\n",
    "# features = [\"Pclass\", \"Sex\", \"Age\", \"SibSp\", \"Parch\", \"Ticket\", \"Fare\", \"Cabin\", \"Embarked\"]\n",
    "\n",
    "features = [\"Pclass\", \"Sex\", \"Age\", \"SibSp\", \"Parch\", \"Cabin\"]\n"
   ]
  },
  {
   "cell_type": "code",
   "execution_count": 18,
   "id": "f22f228c",
   "metadata": {
    "execution": {
     "iopub.execute_input": "2022-11-10T05:48:19.094185Z",
     "iopub.status.busy": "2022-11-10T05:48:19.093664Z",
     "iopub.status.idle": "2022-11-10T05:48:19.105844Z",
     "shell.execute_reply": "2022-11-10T05:48:19.104019Z"
    },
    "papermill": {
     "duration": 0.025472,
     "end_time": "2022-11-10T05:48:19.108562",
     "exception": false,
     "start_time": "2022-11-10T05:48:19.083090",
     "status": "completed"
    },
    "tags": []
   },
   "outputs": [],
   "source": [
    "temp = train.copy()[features]\n",
    "temp_test = test.copy()[features]"
   ]
  },
  {
   "cell_type": "code",
   "execution_count": 19,
   "id": "d08a2187",
   "metadata": {
    "execution": {
     "iopub.execute_input": "2022-11-10T05:48:19.129307Z",
     "iopub.status.busy": "2022-11-10T05:48:19.128866Z",
     "iopub.status.idle": "2022-11-10T05:48:20.392011Z",
     "shell.execute_reply": "2022-11-10T05:48:20.390178Z"
    },
    "papermill": {
     "duration": 1.278019,
     "end_time": "2022-11-10T05:48:20.396026",
     "exception": false,
     "start_time": "2022-11-10T05:48:19.118007",
     "status": "completed"
    },
    "tags": []
   },
   "outputs": [
    {
     "data": {
      "text/plain": [
       "OneHotEncoder(handle_unknown='ignore')"
      ]
     },
     "execution_count": 19,
     "metadata": {},
     "output_type": "execute_result"
    }
   ],
   "source": [
    "from sklearn.preprocessing import OneHotEncoder\n",
    "onehot_encoder = OneHotEncoder(handle_unknown='ignore')\n",
    "onehot_encoder.fit(temp)"
   ]
  },
  {
   "cell_type": "code",
   "execution_count": 20,
   "id": "83435e39",
   "metadata": {
    "execution": {
     "iopub.execute_input": "2022-11-10T05:48:20.418565Z",
     "iopub.status.busy": "2022-11-10T05:48:20.417780Z",
     "iopub.status.idle": "2022-11-10T05:48:20.430329Z",
     "shell.execute_reply": "2022-11-10T05:48:20.428801Z"
    },
    "papermill": {
     "duration": 0.02762,
     "end_time": "2022-11-10T05:48:20.433443",
     "exception": false,
     "start_time": "2022-11-10T05:48:20.405823",
     "status": "completed"
    },
    "tags": []
   },
   "outputs": [],
   "source": [
    "\n",
    "X_train = onehot_encoder.transform(temp)\n",
    "X_test = onehot_encoder.transform(temp_test)"
   ]
  },
  {
   "cell_type": "markdown",
   "id": "977b17a8",
   "metadata": {
    "papermill": {
     "duration": 0.009165,
     "end_time": "2022-11-10T05:48:20.451823",
     "exception": false,
     "start_time": "2022-11-10T05:48:20.442658",
     "status": "completed"
    },
    "tags": []
   },
   "source": [
    "## Training:"
   ]
  },
  {
   "cell_type": "code",
   "execution_count": 21,
   "id": "43b6e207",
   "metadata": {
    "execution": {
     "iopub.execute_input": "2022-11-10T05:48:20.473985Z",
     "iopub.status.busy": "2022-11-10T05:48:20.472814Z",
     "iopub.status.idle": "2022-11-10T05:48:20.805582Z",
     "shell.execute_reply": "2022-11-10T05:48:20.803771Z"
    },
    "papermill": {
     "duration": 0.34682,
     "end_time": "2022-11-10T05:48:20.808884",
     "exception": false,
     "start_time": "2022-11-10T05:48:20.462064",
     "status": "completed"
    },
    "tags": []
   },
   "outputs": [],
   "source": [
    "from sklearn.ensemble import RandomForestClassifier\n",
    "\n",
    "from sklearn.model_selection import cross_val_score\n",
    "\n",
    "model = RandomForestClassifier()\n",
    "\n"
   ]
  },
  {
   "cell_type": "code",
   "execution_count": 22,
   "id": "7ad83a1b",
   "metadata": {
    "execution": {
     "iopub.execute_input": "2022-11-10T05:48:20.832053Z",
     "iopub.status.busy": "2022-11-10T05:48:20.830431Z",
     "iopub.status.idle": "2022-11-10T05:48:22.640115Z",
     "shell.execute_reply": "2022-11-10T05:48:22.638905Z"
    },
    "papermill": {
     "duration": 1.823585,
     "end_time": "2022-11-10T05:48:22.642904",
     "exception": false,
     "start_time": "2022-11-10T05:48:20.819319",
     "status": "completed"
    },
    "tags": []
   },
   "outputs": [],
   "source": [
    "scores = cross_val_score(model, X_train, y, cv=5)"
   ]
  },
  {
   "cell_type": "code",
   "execution_count": 23,
   "id": "d196dddb",
   "metadata": {
    "execution": {
     "iopub.execute_input": "2022-11-10T05:48:22.666380Z",
     "iopub.status.busy": "2022-11-10T05:48:22.664312Z",
     "iopub.status.idle": "2022-11-10T05:48:22.674215Z",
     "shell.execute_reply": "2022-11-10T05:48:22.672846Z"
    },
    "papermill": {
     "duration": 0.024207,
     "end_time": "2022-11-10T05:48:22.676943",
     "exception": false,
     "start_time": "2022-11-10T05:48:22.652736",
     "status": "completed"
    },
    "tags": []
   },
   "outputs": [
    {
     "data": {
      "text/plain": [
       "array([0.79888268, 0.80898876, 0.80898876, 0.78089888, 0.81460674])"
      ]
     },
     "execution_count": 23,
     "metadata": {},
     "output_type": "execute_result"
    }
   ],
   "source": [
    "scores"
   ]
  },
  {
   "cell_type": "code",
   "execution_count": 24,
   "id": "6fb7bd45",
   "metadata": {
    "execution": {
     "iopub.execute_input": "2022-11-10T05:48:22.697957Z",
     "iopub.status.busy": "2022-11-10T05:48:22.697196Z",
     "iopub.status.idle": "2022-11-10T05:48:23.086959Z",
     "shell.execute_reply": "2022-11-10T05:48:23.085559Z"
    },
    "papermill": {
     "duration": 0.403342,
     "end_time": "2022-11-10T05:48:23.089699",
     "exception": false,
     "start_time": "2022-11-10T05:48:22.686357",
     "status": "completed"
    },
    "tags": []
   },
   "outputs": [
    {
     "data": {
      "text/plain": [
       "0.9371492704826038"
      ]
     },
     "execution_count": 24,
     "metadata": {},
     "output_type": "execute_result"
    }
   ],
   "source": [
    "model.fit(X_train, y)\n",
    "model.score(X_train, y)"
   ]
  },
  {
   "cell_type": "markdown",
   "id": "1af66bc5",
   "metadata": {
    "papermill": {
     "duration": 0.009995,
     "end_time": "2022-11-10T05:48:23.108991",
     "exception": false,
     "start_time": "2022-11-10T05:48:23.098996",
     "status": "completed"
    },
    "tags": []
   },
   "source": [
    "## Predictions:"
   ]
  },
  {
   "cell_type": "code",
   "execution_count": 25,
   "id": "4d3196de",
   "metadata": {
    "execution": {
     "iopub.execute_input": "2022-11-10T05:48:23.131742Z",
     "iopub.status.busy": "2022-11-10T05:48:23.131261Z",
     "iopub.status.idle": "2022-11-10T05:48:23.163287Z",
     "shell.execute_reply": "2022-11-10T05:48:23.162177Z"
    },
    "papermill": {
     "duration": 0.047244,
     "end_time": "2022-11-10T05:48:23.166160",
     "exception": false,
     "start_time": "2022-11-10T05:48:23.118916",
     "status": "completed"
    },
    "tags": []
   },
   "outputs": [],
   "source": [
    "predictions = model.predict(X_test)"
   ]
  },
  {
   "cell_type": "code",
   "execution_count": 26,
   "id": "dfd0d470",
   "metadata": {
    "execution": {
     "iopub.execute_input": "2022-11-10T05:48:23.189522Z",
     "iopub.status.busy": "2022-11-10T05:48:23.188789Z",
     "iopub.status.idle": "2022-11-10T05:48:23.202330Z",
     "shell.execute_reply": "2022-11-10T05:48:23.200438Z"
    },
    "papermill": {
     "duration": 0.028634,
     "end_time": "2022-11-10T05:48:23.205533",
     "exception": false,
     "start_time": "2022-11-10T05:48:23.176899",
     "status": "completed"
    },
    "tags": []
   },
   "outputs": [
    {
     "name": "stdout",
     "output_type": "stream",
     "text": [
      "Your submission was successfully saved!\n"
     ]
    }
   ],
   "source": [
    "output = pd.DataFrame({'PassengerId': test.PassengerId, 'Survived': predictions})\n",
    "output.to_csv('submission.csv', index=False)\n",
    "print(\"Your submission was successfully saved!\")"
   ]
  },
  {
   "cell_type": "code",
   "execution_count": 27,
   "id": "862186c1",
   "metadata": {
    "execution": {
     "iopub.execute_input": "2022-11-10T05:48:23.228524Z",
     "iopub.status.busy": "2022-11-10T05:48:23.228023Z",
     "iopub.status.idle": "2022-11-10T05:48:23.235419Z",
     "shell.execute_reply": "2022-11-10T05:48:23.234232Z"
    },
    "papermill": {
     "duration": 0.021477,
     "end_time": "2022-11-10T05:48:23.238079",
     "exception": false,
     "start_time": "2022-11-10T05:48:23.216602",
     "status": "completed"
    },
    "tags": []
   },
   "outputs": [
    {
     "data": {
      "text/plain": [
       "0.3229665071770335"
      ]
     },
     "execution_count": 27,
     "metadata": {},
     "output_type": "execute_result"
    }
   ],
   "source": [
    "len(predictions[predictions==1])/len(predictions)"
   ]
  },
  {
   "cell_type": "code",
   "execution_count": null,
   "id": "2a350b5f",
   "metadata": {
    "papermill": {
     "duration": 0.009874,
     "end_time": "2022-11-10T05:48:23.258280",
     "exception": false,
     "start_time": "2022-11-10T05:48:23.248406",
     "status": "completed"
    },
    "tags": []
   },
   "outputs": [],
   "source": []
  }
 ],
 "metadata": {
  "kernelspec": {
   "display_name": "Python 3",
   "language": "python",
   "name": "python3"
  },
  "language_info": {
   "codemirror_mode": {
    "name": "ipython",
    "version": 3
   },
   "file_extension": ".py",
   "mimetype": "text/x-python",
   "name": "python",
   "nbconvert_exporter": "python",
   "pygments_lexer": "ipython3",
   "version": "3.7.12"
  },
  "papermill": {
   "default_parameters": {},
   "duration": 17.752827,
   "end_time": "2022-11-10T05:48:24.395423",
   "environment_variables": {},
   "exception": null,
   "input_path": "__notebook__.ipynb",
   "output_path": "__notebook__.ipynb",
   "parameters": {},
   "start_time": "2022-11-10T05:48:06.642596",
   "version": "2.3.4"
  }
 },
 "nbformat": 4,
 "nbformat_minor": 5
}
