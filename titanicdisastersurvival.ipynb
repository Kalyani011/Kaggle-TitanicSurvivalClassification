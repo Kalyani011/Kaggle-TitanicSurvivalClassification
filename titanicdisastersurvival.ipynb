{
 "cells": [
  {
   "cell_type": "code",
   "execution_count": 1,
   "id": "f02e1087",
   "metadata": {
    "_cell_guid": "b1076dfc-b9ad-4769-8c92-a6c4dae69d19",
    "_uuid": "8f2839f25d086af736a60e9eeb907d3b93b6e0e5",
    "execution": {
     "iopub.execute_input": "2022-11-11T03:24:29.646467Z",
     "iopub.status.busy": "2022-11-11T03:24:29.646025Z",
     "iopub.status.idle": "2022-11-11T03:24:29.654873Z",
     "shell.execute_reply": "2022-11-11T03:24:29.654093Z"
    },
    "papermill": {
     "duration": 0.020984,
     "end_time": "2022-11-11T03:24:29.657435",
     "exception": false,
     "start_time": "2022-11-11T03:24:29.636451",
     "status": "completed"
    },
    "tags": []
   },
   "outputs": [],
   "source": [
    "import numpy as np # linear algebra\n",
    "import pandas as pd # data processing, CSV file I/O (e.g. pd.read_csv)"
   ]
  },
  {
   "cell_type": "code",
   "execution_count": 2,
   "id": "2f461133",
   "metadata": {
    "execution": {
     "iopub.execute_input": "2022-11-11T03:24:29.673904Z",
     "iopub.status.busy": "2022-11-11T03:24:29.673056Z",
     "iopub.status.idle": "2022-11-11T03:24:29.694835Z",
     "shell.execute_reply": "2022-11-11T03:24:29.693839Z"
    },
    "papermill": {
     "duration": 0.032351,
     "end_time": "2022-11-11T03:24:29.697275",
     "exception": false,
     "start_time": "2022-11-11T03:24:29.664924",
     "status": "completed"
    },
    "tags": []
   },
   "outputs": [],
   "source": [
    "train_data = pd.read_csv('/kaggle/input/titanic/train.csv')"
   ]
  },
  {
   "cell_type": "code",
   "execution_count": 3,
   "id": "d7208183",
   "metadata": {
    "execution": {
     "iopub.execute_input": "2022-11-11T03:24:29.712689Z",
     "iopub.status.busy": "2022-11-11T03:24:29.712302Z",
     "iopub.status.idle": "2022-11-11T03:24:29.739594Z",
     "shell.execute_reply": "2022-11-11T03:24:29.738292Z"
    },
    "papermill": {
     "duration": 0.037112,
     "end_time": "2022-11-11T03:24:29.741479",
     "exception": false,
     "start_time": "2022-11-11T03:24:29.704367",
     "status": "completed"
    },
    "tags": []
   },
   "outputs": [
    {
     "data": {
      "text/html": [
       "<div>\n",
       "<style scoped>\n",
       "    .dataframe tbody tr th:only-of-type {\n",
       "        vertical-align: middle;\n",
       "    }\n",
       "\n",
       "    .dataframe tbody tr th {\n",
       "        vertical-align: top;\n",
       "    }\n",
       "\n",
       "    .dataframe thead th {\n",
       "        text-align: right;\n",
       "    }\n",
       "</style>\n",
       "<table border=\"1\" class=\"dataframe\">\n",
       "  <thead>\n",
       "    <tr style=\"text-align: right;\">\n",
       "      <th></th>\n",
       "      <th>PassengerId</th>\n",
       "      <th>Survived</th>\n",
       "      <th>Pclass</th>\n",
       "      <th>Name</th>\n",
       "      <th>Sex</th>\n",
       "      <th>Age</th>\n",
       "      <th>SibSp</th>\n",
       "      <th>Parch</th>\n",
       "      <th>Ticket</th>\n",
       "      <th>Fare</th>\n",
       "      <th>Cabin</th>\n",
       "      <th>Embarked</th>\n",
       "    </tr>\n",
       "  </thead>\n",
       "  <tbody>\n",
       "    <tr>\n",
       "      <th>0</th>\n",
       "      <td>1</td>\n",
       "      <td>0</td>\n",
       "      <td>3</td>\n",
       "      <td>Braund, Mr. Owen Harris</td>\n",
       "      <td>male</td>\n",
       "      <td>22.0</td>\n",
       "      <td>1</td>\n",
       "      <td>0</td>\n",
       "      <td>A/5 21171</td>\n",
       "      <td>7.2500</td>\n",
       "      <td>NaN</td>\n",
       "      <td>S</td>\n",
       "    </tr>\n",
       "    <tr>\n",
       "      <th>1</th>\n",
       "      <td>2</td>\n",
       "      <td>1</td>\n",
       "      <td>1</td>\n",
       "      <td>Cumings, Mrs. John Bradley (Florence Briggs Th...</td>\n",
       "      <td>female</td>\n",
       "      <td>38.0</td>\n",
       "      <td>1</td>\n",
       "      <td>0</td>\n",
       "      <td>PC 17599</td>\n",
       "      <td>71.2833</td>\n",
       "      <td>C85</td>\n",
       "      <td>C</td>\n",
       "    </tr>\n",
       "    <tr>\n",
       "      <th>2</th>\n",
       "      <td>3</td>\n",
       "      <td>1</td>\n",
       "      <td>3</td>\n",
       "      <td>Heikkinen, Miss. Laina</td>\n",
       "      <td>female</td>\n",
       "      <td>26.0</td>\n",
       "      <td>0</td>\n",
       "      <td>0</td>\n",
       "      <td>STON/O2. 3101282</td>\n",
       "      <td>7.9250</td>\n",
       "      <td>NaN</td>\n",
       "      <td>S</td>\n",
       "    </tr>\n",
       "    <tr>\n",
       "      <th>3</th>\n",
       "      <td>4</td>\n",
       "      <td>1</td>\n",
       "      <td>1</td>\n",
       "      <td>Futrelle, Mrs. Jacques Heath (Lily May Peel)</td>\n",
       "      <td>female</td>\n",
       "      <td>35.0</td>\n",
       "      <td>1</td>\n",
       "      <td>0</td>\n",
       "      <td>113803</td>\n",
       "      <td>53.1000</td>\n",
       "      <td>C123</td>\n",
       "      <td>S</td>\n",
       "    </tr>\n",
       "    <tr>\n",
       "      <th>4</th>\n",
       "      <td>5</td>\n",
       "      <td>0</td>\n",
       "      <td>3</td>\n",
       "      <td>Allen, Mr. William Henry</td>\n",
       "      <td>male</td>\n",
       "      <td>35.0</td>\n",
       "      <td>0</td>\n",
       "      <td>0</td>\n",
       "      <td>373450</td>\n",
       "      <td>8.0500</td>\n",
       "      <td>NaN</td>\n",
       "      <td>S</td>\n",
       "    </tr>\n",
       "  </tbody>\n",
       "</table>\n",
       "</div>"
      ],
      "text/plain": [
       "   PassengerId  Survived  Pclass  \\\n",
       "0            1         0       3   \n",
       "1            2         1       1   \n",
       "2            3         1       3   \n",
       "3            4         1       1   \n",
       "4            5         0       3   \n",
       "\n",
       "                                                Name     Sex   Age  SibSp  \\\n",
       "0                            Braund, Mr. Owen Harris    male  22.0      1   \n",
       "1  Cumings, Mrs. John Bradley (Florence Briggs Th...  female  38.0      1   \n",
       "2                             Heikkinen, Miss. Laina  female  26.0      0   \n",
       "3       Futrelle, Mrs. Jacques Heath (Lily May Peel)  female  35.0      1   \n",
       "4                           Allen, Mr. William Henry    male  35.0      0   \n",
       "\n",
       "   Parch            Ticket     Fare Cabin Embarked  \n",
       "0      0         A/5 21171   7.2500   NaN        S  \n",
       "1      0          PC 17599  71.2833   C85        C  \n",
       "2      0  STON/O2. 3101282   7.9250   NaN        S  \n",
       "3      0            113803  53.1000  C123        S  \n",
       "4      0            373450   8.0500   NaN        S  "
      ]
     },
     "execution_count": 3,
     "metadata": {},
     "output_type": "execute_result"
    }
   ],
   "source": [
    "train_data.head()"
   ]
  },
  {
   "cell_type": "code",
   "execution_count": 4,
   "id": "f2f77b46",
   "metadata": {
    "execution": {
     "iopub.execute_input": "2022-11-11T03:24:29.758268Z",
     "iopub.status.busy": "2022-11-11T03:24:29.757580Z",
     "iopub.status.idle": "2022-11-11T03:24:29.768635Z",
     "shell.execute_reply": "2022-11-11T03:24:29.767373Z"
    },
    "papermill": {
     "duration": 0.021683,
     "end_time": "2022-11-11T03:24:29.770700",
     "exception": false,
     "start_time": "2022-11-11T03:24:29.749017",
     "status": "completed"
    },
    "tags": []
   },
   "outputs": [],
   "source": [
    "test_data = pd.read_csv('/kaggle/input/titanic/test.csv')"
   ]
  },
  {
   "cell_type": "markdown",
   "id": "0d4cea77",
   "metadata": {
    "papermill": {
     "duration": 0.006788,
     "end_time": "2022-11-11T03:24:29.784821",
     "exception": false,
     "start_time": "2022-11-11T03:24:29.778033",
     "status": "completed"
    },
    "tags": []
   },
   "source": [
    "## Data Analysis and Preprocessing:"
   ]
  },
  {
   "cell_type": "code",
   "execution_count": 5,
   "id": "917281e8",
   "metadata": {
    "execution": {
     "iopub.execute_input": "2022-11-11T03:24:29.801660Z",
     "iopub.status.busy": "2022-11-11T03:24:29.801266Z",
     "iopub.status.idle": "2022-11-11T03:24:29.828412Z",
     "shell.execute_reply": "2022-11-11T03:24:29.826996Z"
    },
    "papermill": {
     "duration": 0.038018,
     "end_time": "2022-11-11T03:24:29.830965",
     "exception": false,
     "start_time": "2022-11-11T03:24:29.792947",
     "status": "completed"
    },
    "tags": []
   },
   "outputs": [
    {
     "name": "stdout",
     "output_type": "stream",
     "text": [
      "<class 'pandas.core.frame.DataFrame'>\n",
      "RangeIndex: 891 entries, 0 to 890\n",
      "Data columns (total 12 columns):\n",
      " #   Column       Non-Null Count  Dtype  \n",
      "---  ------       --------------  -----  \n",
      " 0   PassengerId  891 non-null    int64  \n",
      " 1   Survived     891 non-null    int64  \n",
      " 2   Pclass       891 non-null    int64  \n",
      " 3   Name         891 non-null    object \n",
      " 4   Sex          891 non-null    object \n",
      " 5   Age          714 non-null    float64\n",
      " 6   SibSp        891 non-null    int64  \n",
      " 7   Parch        891 non-null    int64  \n",
      " 8   Ticket       891 non-null    object \n",
      " 9   Fare         891 non-null    float64\n",
      " 10  Cabin        204 non-null    object \n",
      " 11  Embarked     889 non-null    object \n",
      "dtypes: float64(2), int64(5), object(5)\n",
      "memory usage: 83.7+ KB\n"
     ]
    }
   ],
   "source": [
    "train_data.info()"
   ]
  },
  {
   "cell_type": "code",
   "execution_count": 6,
   "id": "c6209622",
   "metadata": {
    "execution": {
     "iopub.execute_input": "2022-11-11T03:24:29.847763Z",
     "iopub.status.busy": "2022-11-11T03:24:29.846838Z",
     "iopub.status.idle": "2022-11-11T03:24:29.860141Z",
     "shell.execute_reply": "2022-11-11T03:24:29.858468Z"
    },
    "papermill": {
     "duration": 0.024206,
     "end_time": "2022-11-11T03:24:29.862758",
     "exception": false,
     "start_time": "2022-11-11T03:24:29.838552",
     "status": "completed"
    },
    "tags": []
   },
   "outputs": [
    {
     "name": "stdout",
     "output_type": "stream",
     "text": [
      "<class 'pandas.core.frame.DataFrame'>\n",
      "RangeIndex: 418 entries, 0 to 417\n",
      "Data columns (total 11 columns):\n",
      " #   Column       Non-Null Count  Dtype  \n",
      "---  ------       --------------  -----  \n",
      " 0   PassengerId  418 non-null    int64  \n",
      " 1   Pclass       418 non-null    int64  \n",
      " 2   Name         418 non-null    object \n",
      " 3   Sex          418 non-null    object \n",
      " 4   Age          332 non-null    float64\n",
      " 5   SibSp        418 non-null    int64  \n",
      " 6   Parch        418 non-null    int64  \n",
      " 7   Ticket       418 non-null    object \n",
      " 8   Fare         417 non-null    float64\n",
      " 9   Cabin        91 non-null     object \n",
      " 10  Embarked     418 non-null    object \n",
      "dtypes: float64(2), int64(4), object(5)\n",
      "memory usage: 36.0+ KB\n"
     ]
    }
   ],
   "source": [
    "test_data.info()"
   ]
  },
  {
   "cell_type": "markdown",
   "id": "9ba5fe9e",
   "metadata": {
    "papermill": {
     "duration": 0.007052,
     "end_time": "2022-11-11T03:24:29.877486",
     "exception": false,
     "start_time": "2022-11-11T03:24:29.870434",
     "status": "completed"
    },
    "tags": []
   },
   "source": [
    "### Handling NaN fields:"
   ]
  },
  {
   "cell_type": "code",
   "execution_count": 7,
   "id": "b722d2b1",
   "metadata": {
    "execution": {
     "iopub.execute_input": "2022-11-11T03:24:29.895429Z",
     "iopub.status.busy": "2022-11-11T03:24:29.894808Z",
     "iopub.status.idle": "2022-11-11T03:24:29.900310Z",
     "shell.execute_reply": "2022-11-11T03:24:29.898887Z"
    },
    "papermill": {
     "duration": 0.016625,
     "end_time": "2022-11-11T03:24:29.902431",
     "exception": false,
     "start_time": "2022-11-11T03:24:29.885806",
     "status": "completed"
    },
    "tags": []
   },
   "outputs": [],
   "source": [
    "values = {\"Age\": -1, \"Cabin\": 'NA', \"Embarked\": 'NA', \"Fare\": -1}"
   ]
  },
  {
   "cell_type": "code",
   "execution_count": 8,
   "id": "f43ec7ba",
   "metadata": {
    "execution": {
     "iopub.execute_input": "2022-11-11T03:24:29.918985Z",
     "iopub.status.busy": "2022-11-11T03:24:29.918599Z",
     "iopub.status.idle": "2022-11-11T03:24:29.925143Z",
     "shell.execute_reply": "2022-11-11T03:24:29.924114Z"
    },
    "papermill": {
     "duration": 0.017063,
     "end_time": "2022-11-11T03:24:29.926902",
     "exception": false,
     "start_time": "2022-11-11T03:24:29.909839",
     "status": "completed"
    },
    "tags": []
   },
   "outputs": [],
   "source": [
    "train = train_data.fillna(value=values)"
   ]
  },
  {
   "cell_type": "code",
   "execution_count": 9,
   "id": "60534cdd",
   "metadata": {
    "execution": {
     "iopub.execute_input": "2022-11-11T03:24:29.944538Z",
     "iopub.status.busy": "2022-11-11T03:24:29.943947Z",
     "iopub.status.idle": "2022-11-11T03:24:29.950256Z",
     "shell.execute_reply": "2022-11-11T03:24:29.949147Z"
    },
    "papermill": {
     "duration": 0.017367,
     "end_time": "2022-11-11T03:24:29.952373",
     "exception": false,
     "start_time": "2022-11-11T03:24:29.935006",
     "status": "completed"
    },
    "tags": []
   },
   "outputs": [],
   "source": [
    "test = test_data.fillna(value=values)"
   ]
  },
  {
   "cell_type": "code",
   "execution_count": 10,
   "id": "7466e543",
   "metadata": {
    "execution": {
     "iopub.execute_input": "2022-11-11T03:24:29.968956Z",
     "iopub.status.busy": "2022-11-11T03:24:29.968614Z",
     "iopub.status.idle": "2022-11-11T03:24:29.987736Z",
     "shell.execute_reply": "2022-11-11T03:24:29.986340Z"
    },
    "papermill": {
     "duration": 0.029843,
     "end_time": "2022-11-11T03:24:29.989643",
     "exception": false,
     "start_time": "2022-11-11T03:24:29.959800",
     "status": "completed"
    },
    "tags": []
   },
   "outputs": [
    {
     "name": "stdout",
     "output_type": "stream",
     "text": [
      "<class 'pandas.core.frame.DataFrame'>\n",
      "RangeIndex: 891 entries, 0 to 890\n",
      "Data columns (total 12 columns):\n",
      " #   Column       Non-Null Count  Dtype  \n",
      "---  ------       --------------  -----  \n",
      " 0   PassengerId  891 non-null    int64  \n",
      " 1   Survived     891 non-null    int64  \n",
      " 2   Pclass       891 non-null    int64  \n",
      " 3   Name         891 non-null    object \n",
      " 4   Sex          891 non-null    object \n",
      " 5   Age          891 non-null    float64\n",
      " 6   SibSp        891 non-null    int64  \n",
      " 7   Parch        891 non-null    int64  \n",
      " 8   Ticket       891 non-null    object \n",
      " 9   Fare         891 non-null    float64\n",
      " 10  Cabin        891 non-null    object \n",
      " 11  Embarked     891 non-null    object \n",
      "dtypes: float64(2), int64(5), object(5)\n",
      "memory usage: 83.7+ KB\n",
      "None\n",
      "<class 'pandas.core.frame.DataFrame'>\n",
      "RangeIndex: 418 entries, 0 to 417\n",
      "Data columns (total 11 columns):\n",
      " #   Column       Non-Null Count  Dtype  \n",
      "---  ------       --------------  -----  \n",
      " 0   PassengerId  418 non-null    int64  \n",
      " 1   Pclass       418 non-null    int64  \n",
      " 2   Name         418 non-null    object \n",
      " 3   Sex          418 non-null    object \n",
      " 4   Age          418 non-null    float64\n",
      " 5   SibSp        418 non-null    int64  \n",
      " 6   Parch        418 non-null    int64  \n",
      " 7   Ticket       418 non-null    object \n",
      " 8   Fare         418 non-null    float64\n",
      " 9   Cabin        418 non-null    object \n",
      " 10  Embarked     418 non-null    object \n",
      "dtypes: float64(2), int64(4), object(5)\n",
      "memory usage: 36.0+ KB\n",
      "None\n"
     ]
    }
   ],
   "source": [
    "print(train.info())\n",
    "print(test.info())"
   ]
  },
  {
   "cell_type": "markdown",
   "id": "f5d08f93",
   "metadata": {
    "papermill": {
     "duration": 0.007164,
     "end_time": "2022-11-11T03:24:30.004396",
     "exception": false,
     "start_time": "2022-11-11T03:24:29.997232",
     "status": "completed"
    },
    "tags": []
   },
   "source": [
    "### Analysing attribute values for identifying categorical (and type of categorical) and numerical variables:"
   ]
  },
  {
   "cell_type": "code",
   "execution_count": 11,
   "id": "3d5fc269",
   "metadata": {
    "execution": {
     "iopub.execute_input": "2022-11-11T03:24:30.021084Z",
     "iopub.status.busy": "2022-11-11T03:24:30.020274Z",
     "iopub.status.idle": "2022-11-11T03:24:30.031026Z",
     "shell.execute_reply": "2022-11-11T03:24:30.029768Z"
    },
    "papermill": {
     "duration": 0.021282,
     "end_time": "2022-11-11T03:24:30.033042",
     "exception": false,
     "start_time": "2022-11-11T03:24:30.011760",
     "status": "completed"
    },
    "tags": []
   },
   "outputs": [
    {
     "name": "stdout",
     "output_type": "stream",
     "text": [
      "891\n",
      "418\n",
      "891\n",
      "418\n"
     ]
    }
   ],
   "source": [
    "# Shows that each name and passengerId is unique, essentially indicating that \n",
    "# Name and PassengerId would be no help in classification\n",
    "print(len(pd.unique(train.Name)))\n",
    "print(len(pd.unique(test.Name)))\n",
    "\n",
    "print(len(pd.unique(train.PassengerId)))\n",
    "print(len(pd.unique(test.PassengerId)))"
   ]
  },
  {
   "cell_type": "code",
   "execution_count": 12,
   "id": "5d2b7203",
   "metadata": {
    "execution": {
     "iopub.execute_input": "2022-11-11T03:24:30.050256Z",
     "iopub.status.busy": "2022-11-11T03:24:30.049619Z",
     "iopub.status.idle": "2022-11-11T03:24:30.055035Z",
     "shell.execute_reply": "2022-11-11T03:24:30.053948Z"
    },
    "papermill": {
     "duration": 0.016646,
     "end_time": "2022-11-11T03:24:30.057365",
     "exception": false,
     "start_time": "2022-11-11T03:24:30.040719",
     "status": "completed"
    },
    "tags": []
   },
   "outputs": [
    {
     "name": "stdout",
     "output_type": "stream",
     "text": [
      "681\n",
      "363\n"
     ]
    }
   ],
   "source": [
    "print(len(pd.unique(train.Ticket)))\n",
    "print(len(pd.unique(test.Ticket)))"
   ]
  },
  {
   "cell_type": "code",
   "execution_count": 13,
   "id": "fda42ceb",
   "metadata": {
    "execution": {
     "iopub.execute_input": "2022-11-11T03:24:30.074726Z",
     "iopub.status.busy": "2022-11-11T03:24:30.074089Z",
     "iopub.status.idle": "2022-11-11T03:24:30.082051Z",
     "shell.execute_reply": "2022-11-11T03:24:30.080369Z"
    },
    "papermill": {
     "duration": 0.019261,
     "end_time": "2022-11-11T03:24:30.084358",
     "exception": false,
     "start_time": "2022-11-11T03:24:30.065097",
     "status": "completed"
    },
    "tags": []
   },
   "outputs": [
    {
     "name": "stdout",
     "output_type": "stream",
     "text": [
      "248\n",
      "170\n"
     ]
    }
   ],
   "source": [
    "print(len(pd.unique(train.Fare)))\n",
    "print(len(pd.unique(test.Fare)))"
   ]
  },
  {
   "cell_type": "code",
   "execution_count": 14,
   "id": "d7d16c47",
   "metadata": {
    "execution": {
     "iopub.execute_input": "2022-11-11T03:24:30.101869Z",
     "iopub.status.busy": "2022-11-11T03:24:30.101478Z",
     "iopub.status.idle": "2022-11-11T03:24:30.109244Z",
     "shell.execute_reply": "2022-11-11T03:24:30.107186Z"
    },
    "papermill": {
     "duration": 0.018784,
     "end_time": "2022-11-11T03:24:30.111235",
     "exception": false,
     "start_time": "2022-11-11T03:24:30.092451",
     "status": "completed"
    },
    "tags": []
   },
   "outputs": [
    {
     "name": "stdout",
     "output_type": "stream",
     "text": [
      "3\n",
      "248\n",
      "148\n"
     ]
    }
   ],
   "source": [
    "# The difference in number of unique values among these classes \n",
    "# do not leave a lot of room for considering positive correlation among them\n",
    "print(len(pd.unique(train.Pclass)))\n",
    "print(len(pd.unique(train.Fare)))\n",
    "print(len(pd.unique(train.Cabin)))"
   ]
  },
  {
   "cell_type": "code",
   "execution_count": 15,
   "id": "2de0de47",
   "metadata": {
    "execution": {
     "iopub.execute_input": "2022-11-11T03:24:30.128744Z",
     "iopub.status.busy": "2022-11-11T03:24:30.127888Z",
     "iopub.status.idle": "2022-11-11T03:24:30.135263Z",
     "shell.execute_reply": "2022-11-11T03:24:30.134042Z"
    },
    "papermill": {
     "duration": 0.018373,
     "end_time": "2022-11-11T03:24:30.137298",
     "exception": false,
     "start_time": "2022-11-11T03:24:30.118925",
     "status": "completed"
    },
    "tags": []
   },
   "outputs": [
    {
     "name": "stdout",
     "output_type": "stream",
     "text": [
      "148\n",
      "77\n",
      "681\n",
      "363\n"
     ]
    }
   ],
   "source": [
    "print(len(pd.unique(train.Cabin)))\n",
    "print(len(pd.unique(test.Cabin)))\n",
    "\n",
    "print(len(pd.unique(train.Ticket)))\n",
    "print(len(pd.unique(test.Ticket)))"
   ]
  },
  {
   "cell_type": "code",
   "execution_count": 16,
   "id": "f1a0bc75",
   "metadata": {
    "execution": {
     "iopub.execute_input": "2022-11-11T03:24:30.154708Z",
     "iopub.status.busy": "2022-11-11T03:24:30.154317Z",
     "iopub.status.idle": "2022-11-11T03:24:30.158934Z",
     "shell.execute_reply": "2022-11-11T03:24:30.157666Z"
    },
    "papermill": {
     "duration": 0.015474,
     "end_time": "2022-11-11T03:24:30.160849",
     "exception": false,
     "start_time": "2022-11-11T03:24:30.145375",
     "status": "completed"
    },
    "tags": []
   },
   "outputs": [],
   "source": [
    "# Categorical Variables to be considered: Sex, Ticket, Cabin, Embarked\n",
    "# All are nominal categorical variables, cabin may be considered ordinal, however some passengers have multiple cabin values,\n",
    "# using dummies"
   ]
  },
  {
   "cell_type": "markdown",
   "id": "b4debe77",
   "metadata": {
    "papermill": {
     "duration": 0.007545,
     "end_time": "2022-11-11T03:24:30.176450",
     "exception": false,
     "start_time": "2022-11-11T03:24:30.168905",
     "status": "completed"
    },
    "tags": []
   },
   "source": [
    "### Preparing input data:"
   ]
  },
  {
   "cell_type": "code",
   "execution_count": 17,
   "id": "16239eb8",
   "metadata": {
    "execution": {
     "iopub.execute_input": "2022-11-11T03:24:30.193619Z",
     "iopub.status.busy": "2022-11-11T03:24:30.193243Z",
     "iopub.status.idle": "2022-11-11T03:24:30.198015Z",
     "shell.execute_reply": "2022-11-11T03:24:30.197249Z"
    },
    "papermill": {
     "duration": 0.015495,
     "end_time": "2022-11-11T03:24:30.199707",
     "exception": false,
     "start_time": "2022-11-11T03:24:30.184212",
     "status": "completed"
    },
    "tags": []
   },
   "outputs": [],
   "source": [
    "# Extracting independent output variable y\n",
    "y = train[\"Survived\"]\n",
    "\n",
    "# Setting features to be used\n",
    "features = [\"Pclass\", \"Sex\", \"Age\", \"SibSp\", \"Parch\", \"Ticket\", \"Fare\", \"Cabin\", \"Embarked\"]\n",
    "\n",
    "# features = [\"Pclass\", \"Sex\", \"Age\", \"SibSp\", \"Parch\", \"Cabin\"]\n"
   ]
  },
  {
   "cell_type": "code",
   "execution_count": 18,
   "id": "6d31625b",
   "metadata": {
    "execution": {
     "iopub.execute_input": "2022-11-11T03:24:30.217134Z",
     "iopub.status.busy": "2022-11-11T03:24:30.216734Z",
     "iopub.status.idle": "2022-11-11T03:24:30.226112Z",
     "shell.execute_reply": "2022-11-11T03:24:30.224932Z"
    },
    "papermill": {
     "duration": 0.020824,
     "end_time": "2022-11-11T03:24:30.228494",
     "exception": false,
     "start_time": "2022-11-11T03:24:30.207670",
     "status": "completed"
    },
    "tags": []
   },
   "outputs": [],
   "source": [
    "temp = train.copy()[features]\n",
    "temp_test = test.copy()[features]"
   ]
  },
  {
   "cell_type": "code",
   "execution_count": 19,
   "id": "24299fce",
   "metadata": {
    "execution": {
     "iopub.execute_input": "2022-11-11T03:24:30.246424Z",
     "iopub.status.busy": "2022-11-11T03:24:30.246056Z",
     "iopub.status.idle": "2022-11-11T03:24:31.379860Z",
     "shell.execute_reply": "2022-11-11T03:24:31.378908Z"
    },
    "papermill": {
     "duration": 1.144949,
     "end_time": "2022-11-11T03:24:31.381821",
     "exception": false,
     "start_time": "2022-11-11T03:24:30.236872",
     "status": "completed"
    },
    "tags": []
   },
   "outputs": [
    {
     "data": {
      "text/plain": [
       "OneHotEncoder(handle_unknown='ignore')"
      ]
     },
     "execution_count": 19,
     "metadata": {},
     "output_type": "execute_result"
    }
   ],
   "source": [
    "from sklearn.preprocessing import OneHotEncoder\n",
    "onehot_encoder = OneHotEncoder(handle_unknown='ignore')\n",
    "onehot_encoder.fit(temp)"
   ]
  },
  {
   "cell_type": "code",
   "execution_count": 20,
   "id": "08501377",
   "metadata": {
    "execution": {
     "iopub.execute_input": "2022-11-11T03:24:31.400138Z",
     "iopub.status.busy": "2022-11-11T03:24:31.399762Z",
     "iopub.status.idle": "2022-11-11T03:24:31.415706Z",
     "shell.execute_reply": "2022-11-11T03:24:31.414737Z"
    },
    "papermill": {
     "duration": 0.028527,
     "end_time": "2022-11-11T03:24:31.418146",
     "exception": false,
     "start_time": "2022-11-11T03:24:31.389619",
     "status": "completed"
    },
    "tags": []
   },
   "outputs": [],
   "source": [
    "\n",
    "X_train = onehot_encoder.transform(temp)\n",
    "X_test = onehot_encoder.transform(temp_test)"
   ]
  },
  {
   "cell_type": "code",
   "execution_count": 21,
   "id": "cc309b3d",
   "metadata": {
    "execution": {
     "iopub.execute_input": "2022-11-11T03:24:31.435275Z",
     "iopub.status.busy": "2022-11-11T03:24:31.434931Z",
     "iopub.status.idle": "2022-11-11T03:24:31.443895Z",
     "shell.execute_reply": "2022-11-11T03:24:31.443225Z"
    },
    "papermill": {
     "duration": 0.019471,
     "end_time": "2022-11-11T03:24:31.445585",
     "exception": false,
     "start_time": "2022-11-11T03:24:31.426114",
     "status": "completed"
    },
    "tags": []
   },
   "outputs": [],
   "source": [
    "from sklearn.preprocessing import StandardScaler\n",
    "\n",
    "scaler = StandardScaler(with_mean=False)\n",
    "\n",
    "X_train = scaler.fit_transform(X_train)\n",
    "X_test = scaler.transform(X_test)\n"
   ]
  },
  {
   "cell_type": "markdown",
   "id": "878a8590",
   "metadata": {
    "papermill": {
     "duration": 0.007502,
     "end_time": "2022-11-11T03:24:31.461212",
     "exception": false,
     "start_time": "2022-11-11T03:24:31.453710",
     "status": "completed"
    },
    "tags": []
   },
   "source": [
    "## Training:"
   ]
  },
  {
   "cell_type": "code",
   "execution_count": 22,
   "id": "1826b1f8",
   "metadata": {
    "execution": {
     "iopub.execute_input": "2022-11-11T03:24:31.478533Z",
     "iopub.status.busy": "2022-11-11T03:24:31.477931Z",
     "iopub.status.idle": "2022-11-11T03:24:31.779041Z",
     "shell.execute_reply": "2022-11-11T03:24:31.777991Z"
    },
    "papermill": {
     "duration": 0.31254,
     "end_time": "2022-11-11T03:24:31.781444",
     "exception": false,
     "start_time": "2022-11-11T03:24:31.468904",
     "status": "completed"
    },
    "tags": []
   },
   "outputs": [],
   "source": [
    "from sklearn.ensemble import RandomForestClassifier\n",
    "\n",
    "from sklearn.model_selection import cross_val_score\n",
    "\n",
    "model = RandomForestClassifier()\n",
    "\n"
   ]
  },
  {
   "cell_type": "code",
   "execution_count": 23,
   "id": "54af63c0",
   "metadata": {
    "execution": {
     "iopub.execute_input": "2022-11-11T03:24:31.798707Z",
     "iopub.status.busy": "2022-11-11T03:24:31.798337Z",
     "iopub.status.idle": "2022-11-11T03:24:33.405345Z",
     "shell.execute_reply": "2022-11-11T03:24:33.403912Z"
    },
    "papermill": {
     "duration": 1.618459,
     "end_time": "2022-11-11T03:24:33.407910",
     "exception": false,
     "start_time": "2022-11-11T03:24:31.789451",
     "status": "completed"
    },
    "tags": []
   },
   "outputs": [],
   "source": [
    "scores = cross_val_score(model, X_train, y, cv=5)"
   ]
  },
  {
   "cell_type": "code",
   "execution_count": 24,
   "id": "00d9ef3f",
   "metadata": {
    "execution": {
     "iopub.execute_input": "2022-11-11T03:24:33.425143Z",
     "iopub.status.busy": "2022-11-11T03:24:33.424801Z",
     "iopub.status.idle": "2022-11-11T03:24:33.431613Z",
     "shell.execute_reply": "2022-11-11T03:24:33.430628Z"
    },
    "papermill": {
     "duration": 0.018198,
     "end_time": "2022-11-11T03:24:33.434069",
     "exception": false,
     "start_time": "2022-11-11T03:24:33.415871",
     "status": "completed"
    },
    "tags": []
   },
   "outputs": [
    {
     "data": {
      "text/plain": [
       "array([0.81564246, 0.80898876, 0.85955056, 0.79213483, 0.82022472])"
      ]
     },
     "execution_count": 24,
     "metadata": {},
     "output_type": "execute_result"
    }
   ],
   "source": [
    "scores"
   ]
  },
  {
   "cell_type": "code",
   "execution_count": 25,
   "id": "8842fda7",
   "metadata": {
    "execution": {
     "iopub.execute_input": "2022-11-11T03:24:33.453031Z",
     "iopub.status.busy": "2022-11-11T03:24:33.452451Z",
     "iopub.status.idle": "2022-11-11T03:24:33.754857Z",
     "shell.execute_reply": "2022-11-11T03:24:33.753834Z"
    },
    "papermill": {
     "duration": 0.314208,
     "end_time": "2022-11-11T03:24:33.756672",
     "exception": false,
     "start_time": "2022-11-11T03:24:33.442464",
     "status": "completed"
    },
    "tags": []
   },
   "outputs": [
    {
     "data": {
      "text/plain": [
       "0.9988776655443322"
      ]
     },
     "execution_count": 25,
     "metadata": {},
     "output_type": "execute_result"
    }
   ],
   "source": [
    "model.fit(X_train, y)\n",
    "model.score(X_train, y)"
   ]
  },
  {
   "cell_type": "markdown",
   "id": "6b501cfa",
   "metadata": {
    "papermill": {
     "duration": 0.007693,
     "end_time": "2022-11-11T03:24:33.772440",
     "exception": false,
     "start_time": "2022-11-11T03:24:33.764747",
     "status": "completed"
    },
    "tags": []
   },
   "source": [
    "## Predictions:"
   ]
  },
  {
   "cell_type": "code",
   "execution_count": 26,
   "id": "9c599920",
   "metadata": {
    "execution": {
     "iopub.execute_input": "2022-11-11T03:24:33.790148Z",
     "iopub.status.busy": "2022-11-11T03:24:33.789597Z",
     "iopub.status.idle": "2022-11-11T03:24:33.813361Z",
     "shell.execute_reply": "2022-11-11T03:24:33.812647Z"
    },
    "papermill": {
     "duration": 0.035168,
     "end_time": "2022-11-11T03:24:33.815489",
     "exception": false,
     "start_time": "2022-11-11T03:24:33.780321",
     "status": "completed"
    },
    "tags": []
   },
   "outputs": [],
   "source": [
    "predictions = model.predict(X_test)"
   ]
  },
  {
   "cell_type": "code",
   "execution_count": 27,
   "id": "af37a191",
   "metadata": {
    "execution": {
     "iopub.execute_input": "2022-11-11T03:24:33.833389Z",
     "iopub.status.busy": "2022-11-11T03:24:33.833053Z",
     "iopub.status.idle": "2022-11-11T03:24:33.842969Z",
     "shell.execute_reply": "2022-11-11T03:24:33.841763Z"
    },
    "papermill": {
     "duration": 0.021677,
     "end_time": "2022-11-11T03:24:33.845369",
     "exception": false,
     "start_time": "2022-11-11T03:24:33.823692",
     "status": "completed"
    },
    "tags": []
   },
   "outputs": [
    {
     "name": "stdout",
     "output_type": "stream",
     "text": [
      "Your submission was successfully saved!\n"
     ]
    }
   ],
   "source": [
    "output = pd.DataFrame({'PassengerId': test.PassengerId, 'Survived': predictions})\n",
    "output.to_csv('submission.csv', index=False)\n",
    "print(\"Your submission was successfully saved!\")"
   ]
  },
  {
   "cell_type": "code",
   "execution_count": 28,
   "id": "1d8f79de",
   "metadata": {
    "execution": {
     "iopub.execute_input": "2022-11-11T03:24:33.864276Z",
     "iopub.status.busy": "2022-11-11T03:24:33.863908Z",
     "iopub.status.idle": "2022-11-11T03:24:33.870184Z",
     "shell.execute_reply": "2022-11-11T03:24:33.869278Z"
    },
    "papermill": {
     "duration": 0.018873,
     "end_time": "2022-11-11T03:24:33.873023",
     "exception": false,
     "start_time": "2022-11-11T03:24:33.854150",
     "status": "completed"
    },
    "tags": []
   },
   "outputs": [
    {
     "data": {
      "text/plain": [
       "0.2942583732057416"
      ]
     },
     "execution_count": 28,
     "metadata": {},
     "output_type": "execute_result"
    }
   ],
   "source": [
    "len(predictions[predictions==1])/len(predictions)"
   ]
  },
  {
   "cell_type": "code",
   "execution_count": null,
   "id": "a4f03569",
   "metadata": {
    "papermill": {
     "duration": 0.00777,
     "end_time": "2022-11-11T03:24:33.889310",
     "exception": false,
     "start_time": "2022-11-11T03:24:33.881540",
     "status": "completed"
    },
    "tags": []
   },
   "outputs": [],
   "source": []
  }
 ],
 "metadata": {
  "kernelspec": {
   "display_name": "Python 3",
   "language": "python",
   "name": "python3"
  },
  "language_info": {
   "codemirror_mode": {
    "name": "ipython",
    "version": 3
   },
   "file_extension": ".py",
   "mimetype": "text/x-python",
   "name": "python",
   "nbconvert_exporter": "python",
   "pygments_lexer": "ipython3",
   "version": "3.7.12"
  },
  "papermill": {
   "default_parameters": {},
   "duration": 12.701489,
   "end_time": "2022-11-11T03:24:34.619448",
   "environment_variables": {},
   "exception": null,
   "input_path": "__notebook__.ipynb",
   "output_path": "__notebook__.ipynb",
   "parameters": {},
   "start_time": "2022-11-11T03:24:21.917959",
   "version": "2.3.4"
  }
 },
 "nbformat": 4,
 "nbformat_minor": 5
}
