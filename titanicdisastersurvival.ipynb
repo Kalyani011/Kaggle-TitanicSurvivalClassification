{
 "cells": [
  {
   "cell_type": "code",
   "execution_count": 1,
   "id": "71bb331e",
   "metadata": {
    "_cell_guid": "b1076dfc-b9ad-4769-8c92-a6c4dae69d19",
    "_uuid": "8f2839f25d086af736a60e9eeb907d3b93b6e0e5",
    "execution": {
     "iopub.execute_input": "2022-11-11T11:22:16.882935Z",
     "iopub.status.busy": "2022-11-11T11:22:16.882052Z",
     "iopub.status.idle": "2022-11-11T11:22:16.892355Z",
     "shell.execute_reply": "2022-11-11T11:22:16.891383Z"
    },
    "papermill": {
     "duration": 0.024932,
     "end_time": "2022-11-11T11:22:16.895526",
     "exception": false,
     "start_time": "2022-11-11T11:22:16.870594",
     "status": "completed"
    },
    "tags": []
   },
   "outputs": [],
   "source": [
    "import numpy as np # linear algebra\n",
    "import pandas as pd # data processing, CSV file I/O (e.g. pd.read_csv)"
   ]
  },
  {
   "cell_type": "code",
   "execution_count": 2,
   "id": "30a6b6f0",
   "metadata": {
    "execution": {
     "iopub.execute_input": "2022-11-11T11:22:16.915441Z",
     "iopub.status.busy": "2022-11-11T11:22:16.914705Z",
     "iopub.status.idle": "2022-11-11T11:22:16.941973Z",
     "shell.execute_reply": "2022-11-11T11:22:16.940908Z"
    },
    "papermill": {
     "duration": 0.04111,
     "end_time": "2022-11-11T11:22:16.945393",
     "exception": false,
     "start_time": "2022-11-11T11:22:16.904283",
     "status": "completed"
    },
    "tags": []
   },
   "outputs": [],
   "source": [
    "train_data = pd.read_csv('/kaggle/input/titanic/train.csv')"
   ]
  },
  {
   "cell_type": "code",
   "execution_count": 3,
   "id": "7ee4f66a",
   "metadata": {
    "execution": {
     "iopub.execute_input": "2022-11-11T11:22:16.964299Z",
     "iopub.status.busy": "2022-11-11T11:22:16.963876Z",
     "iopub.status.idle": "2022-11-11T11:22:16.998511Z",
     "shell.execute_reply": "2022-11-11T11:22:16.997273Z"
    },
    "papermill": {
     "duration": 0.047844,
     "end_time": "2022-11-11T11:22:17.001693",
     "exception": false,
     "start_time": "2022-11-11T11:22:16.953849",
     "status": "completed"
    },
    "tags": []
   },
   "outputs": [
    {
     "data": {
      "text/html": [
       "<div>\n",
       "<style scoped>\n",
       "    .dataframe tbody tr th:only-of-type {\n",
       "        vertical-align: middle;\n",
       "    }\n",
       "\n",
       "    .dataframe tbody tr th {\n",
       "        vertical-align: top;\n",
       "    }\n",
       "\n",
       "    .dataframe thead th {\n",
       "        text-align: right;\n",
       "    }\n",
       "</style>\n",
       "<table border=\"1\" class=\"dataframe\">\n",
       "  <thead>\n",
       "    <tr style=\"text-align: right;\">\n",
       "      <th></th>\n",
       "      <th>PassengerId</th>\n",
       "      <th>Survived</th>\n",
       "      <th>Pclass</th>\n",
       "      <th>Name</th>\n",
       "      <th>Sex</th>\n",
       "      <th>Age</th>\n",
       "      <th>SibSp</th>\n",
       "      <th>Parch</th>\n",
       "      <th>Ticket</th>\n",
       "      <th>Fare</th>\n",
       "      <th>Cabin</th>\n",
       "      <th>Embarked</th>\n",
       "    </tr>\n",
       "  </thead>\n",
       "  <tbody>\n",
       "    <tr>\n",
       "      <th>0</th>\n",
       "      <td>1</td>\n",
       "      <td>0</td>\n",
       "      <td>3</td>\n",
       "      <td>Braund, Mr. Owen Harris</td>\n",
       "      <td>male</td>\n",
       "      <td>22.0</td>\n",
       "      <td>1</td>\n",
       "      <td>0</td>\n",
       "      <td>A/5 21171</td>\n",
       "      <td>7.2500</td>\n",
       "      <td>NaN</td>\n",
       "      <td>S</td>\n",
       "    </tr>\n",
       "    <tr>\n",
       "      <th>1</th>\n",
       "      <td>2</td>\n",
       "      <td>1</td>\n",
       "      <td>1</td>\n",
       "      <td>Cumings, Mrs. John Bradley (Florence Briggs Th...</td>\n",
       "      <td>female</td>\n",
       "      <td>38.0</td>\n",
       "      <td>1</td>\n",
       "      <td>0</td>\n",
       "      <td>PC 17599</td>\n",
       "      <td>71.2833</td>\n",
       "      <td>C85</td>\n",
       "      <td>C</td>\n",
       "    </tr>\n",
       "    <tr>\n",
       "      <th>2</th>\n",
       "      <td>3</td>\n",
       "      <td>1</td>\n",
       "      <td>3</td>\n",
       "      <td>Heikkinen, Miss. Laina</td>\n",
       "      <td>female</td>\n",
       "      <td>26.0</td>\n",
       "      <td>0</td>\n",
       "      <td>0</td>\n",
       "      <td>STON/O2. 3101282</td>\n",
       "      <td>7.9250</td>\n",
       "      <td>NaN</td>\n",
       "      <td>S</td>\n",
       "    </tr>\n",
       "    <tr>\n",
       "      <th>3</th>\n",
       "      <td>4</td>\n",
       "      <td>1</td>\n",
       "      <td>1</td>\n",
       "      <td>Futrelle, Mrs. Jacques Heath (Lily May Peel)</td>\n",
       "      <td>female</td>\n",
       "      <td>35.0</td>\n",
       "      <td>1</td>\n",
       "      <td>0</td>\n",
       "      <td>113803</td>\n",
       "      <td>53.1000</td>\n",
       "      <td>C123</td>\n",
       "      <td>S</td>\n",
       "    </tr>\n",
       "    <tr>\n",
       "      <th>4</th>\n",
       "      <td>5</td>\n",
       "      <td>0</td>\n",
       "      <td>3</td>\n",
       "      <td>Allen, Mr. William Henry</td>\n",
       "      <td>male</td>\n",
       "      <td>35.0</td>\n",
       "      <td>0</td>\n",
       "      <td>0</td>\n",
       "      <td>373450</td>\n",
       "      <td>8.0500</td>\n",
       "      <td>NaN</td>\n",
       "      <td>S</td>\n",
       "    </tr>\n",
       "  </tbody>\n",
       "</table>\n",
       "</div>"
      ],
      "text/plain": [
       "   PassengerId  Survived  Pclass  \\\n",
       "0            1         0       3   \n",
       "1            2         1       1   \n",
       "2            3         1       3   \n",
       "3            4         1       1   \n",
       "4            5         0       3   \n",
       "\n",
       "                                                Name     Sex   Age  SibSp  \\\n",
       "0                            Braund, Mr. Owen Harris    male  22.0      1   \n",
       "1  Cumings, Mrs. John Bradley (Florence Briggs Th...  female  38.0      1   \n",
       "2                             Heikkinen, Miss. Laina  female  26.0      0   \n",
       "3       Futrelle, Mrs. Jacques Heath (Lily May Peel)  female  35.0      1   \n",
       "4                           Allen, Mr. William Henry    male  35.0      0   \n",
       "\n",
       "   Parch            Ticket     Fare Cabin Embarked  \n",
       "0      0         A/5 21171   7.2500   NaN        S  \n",
       "1      0          PC 17599  71.2833   C85        C  \n",
       "2      0  STON/O2. 3101282   7.9250   NaN        S  \n",
       "3      0            113803  53.1000  C123        S  \n",
       "4      0            373450   8.0500   NaN        S  "
      ]
     },
     "execution_count": 3,
     "metadata": {},
     "output_type": "execute_result"
    }
   ],
   "source": [
    "train_data.head()"
   ]
  },
  {
   "cell_type": "code",
   "execution_count": 4,
   "id": "10651cb4",
   "metadata": {
    "execution": {
     "iopub.execute_input": "2022-11-11T11:22:17.021571Z",
     "iopub.status.busy": "2022-11-11T11:22:17.021101Z",
     "iopub.status.idle": "2022-11-11T11:22:17.034403Z",
     "shell.execute_reply": "2022-11-11T11:22:17.033144Z"
    },
    "papermill": {
     "duration": 0.026116,
     "end_time": "2022-11-11T11:22:17.037195",
     "exception": false,
     "start_time": "2022-11-11T11:22:17.011079",
     "status": "completed"
    },
    "tags": []
   },
   "outputs": [],
   "source": [
    "test_data = pd.read_csv('/kaggle/input/titanic/test.csv')"
   ]
  },
  {
   "cell_type": "markdown",
   "id": "74b55516",
   "metadata": {
    "papermill": {
     "duration": 0.010065,
     "end_time": "2022-11-11T11:22:17.056083",
     "exception": false,
     "start_time": "2022-11-11T11:22:17.046018",
     "status": "completed"
    },
    "tags": []
   },
   "source": [
    "## Data Analysis and Preprocessing:"
   ]
  },
  {
   "cell_type": "code",
   "execution_count": 5,
   "id": "448706dc",
   "metadata": {
    "execution": {
     "iopub.execute_input": "2022-11-11T11:22:17.076821Z",
     "iopub.status.busy": "2022-11-11T11:22:17.076361Z",
     "iopub.status.idle": "2022-11-11T11:22:17.092136Z",
     "shell.execute_reply": "2022-11-11T11:22:17.090336Z"
    },
    "papermill": {
     "duration": 0.028498,
     "end_time": "2022-11-11T11:22:17.095103",
     "exception": false,
     "start_time": "2022-11-11T11:22:17.066605",
     "status": "completed"
    },
    "tags": []
   },
   "outputs": [
    {
     "name": "stdout",
     "output_type": "stream",
     "text": [
      "0    549\n",
      "1    342\n",
      "Name: Survived, dtype: int64\n",
      "61.62% Passengers Died\n",
      "38.38% Passengers Survived\n"
     ]
    }
   ],
   "source": [
    "# Survival Rate in Training Data\n",
    "survived_stat = train_data['Survived'].value_counts()\n",
    "print(survived_stat)\n",
    "died = survived_stat[0]\n",
    "survived = survived_stat[1]\n",
    "\n",
    "print(f\"{round((died / (died + survived)) * 100, 2)}% Passengers Died\")\n",
    "print(f\"{round((survived / (died + survived)) * 100, 2)}% Passengers Survived\")"
   ]
  },
  {
   "cell_type": "code",
   "execution_count": 6,
   "id": "1522895a",
   "metadata": {
    "execution": {
     "iopub.execute_input": "2022-11-11T11:22:17.114276Z",
     "iopub.status.busy": "2022-11-11T11:22:17.113835Z",
     "iopub.status.idle": "2022-11-11T11:22:17.120472Z",
     "shell.execute_reply": "2022-11-11T11:22:17.119253Z"
    },
    "papermill": {
     "duration": 0.019171,
     "end_time": "2022-11-11T11:22:17.123133",
     "exception": false,
     "start_time": "2022-11-11T11:22:17.103962",
     "status": "completed"
    },
    "tags": []
   },
   "outputs": [
    {
     "name": "stdout",
     "output_type": "stream",
     "text": [
      "['Pclass', 'Sex', 'Age', 'SibSp', 'Parch', 'Ticket', 'Fare', 'Cabin', 'Embarked']\n"
     ]
    }
   ],
   "source": [
    "dependents = [feature for feature in list(train_data.columns) if feature not in ['Survived', 'PassengerId', 'Name']]\n",
    "print(dependents)"
   ]
  },
  {
   "cell_type": "code",
   "execution_count": 7,
   "id": "800538c3",
   "metadata": {
    "execution": {
     "iopub.execute_input": "2022-11-11T11:22:17.143069Z",
     "iopub.status.busy": "2022-11-11T11:22:17.142677Z",
     "iopub.status.idle": "2022-11-11T11:22:17.807474Z",
     "shell.execute_reply": "2022-11-11T11:22:17.805545Z"
    },
    "papermill": {
     "duration": 0.677963,
     "end_time": "2022-11-11T11:22:17.810208",
     "exception": false,
     "start_time": "2022-11-11T11:22:17.132245",
     "status": "completed"
    },
    "tags": []
   },
   "outputs": [
    {
     "name": "stdout",
     "output_type": "stream",
     "text": [
      "\n",
      " Pclass\n",
      "3    491\n",
      "1    216\n",
      "2    184\n",
      "Name: Pclass, dtype: int64\n",
      "   0         1\n",
      "0  1  0.629630\n",
      "1  2  0.472826\n",
      "2  3  0.242363\n",
      "\n",
      " Sex\n",
      "male      577\n",
      "female    314\n",
      "Name: Sex, dtype: int64\n",
      "        0         1\n",
      "0  female  0.742038\n",
      "1    male  0.188908\n",
      "\n",
      " Age\n",
      "24.00    30\n",
      "22.00    27\n",
      "18.00    26\n",
      "19.00    25\n",
      "28.00    25\n",
      "         ..\n",
      "36.50     1\n",
      "55.50     1\n",
      "0.92      1\n",
      "23.50     1\n",
      "74.00     1\n",
      "Name: Age, Length: 88, dtype: int64\n",
      "        0    1\n",
      "0    0.42  1.0\n",
      "1    0.67  1.0\n",
      "2    0.75  1.0\n",
      "3    0.83  1.0\n",
      "4    0.92  1.0\n",
      "..    ...  ...\n",
      "83  70.00  0.0\n",
      "84  70.50  0.0\n",
      "85  71.00  0.0\n",
      "86  74.00  0.0\n",
      "87  80.00  1.0\n",
      "\n",
      "[88 rows x 2 columns]\n",
      "\n",
      " SibSp\n",
      "0    608\n",
      "1    209\n",
      "2     28\n",
      "4     18\n",
      "3     16\n",
      "8      7\n",
      "5      5\n",
      "Name: SibSp, dtype: int64\n",
      "   0         1\n",
      "0  0  0.345395\n",
      "1  1  0.535885\n",
      "2  2  0.464286\n",
      "3  3  0.250000\n",
      "4  4  0.166667\n",
      "5  5  0.000000\n",
      "6  8  0.000000\n",
      "\n",
      " Parch\n",
      "0    678\n",
      "1    118\n",
      "2     80\n",
      "5      5\n",
      "3      5\n",
      "4      4\n",
      "6      1\n",
      "Name: Parch, dtype: int64\n",
      "   0         1\n",
      "0  0  0.343658\n",
      "1  1  0.550847\n",
      "2  2  0.500000\n",
      "3  3  0.600000\n",
      "4  4  0.000000\n",
      "5  5  0.200000\n",
      "6  6  0.000000\n",
      "\n",
      " Ticket\n",
      "347082      7\n",
      "CA. 2343    7\n",
      "1601        7\n",
      "3101295     6\n",
      "CA 2144     6\n",
      "           ..\n",
      "9234        1\n",
      "19988       1\n",
      "2693        1\n",
      "PC 17612    1\n",
      "370376      1\n",
      "Name: Ticket, Length: 681, dtype: int64\n",
      "               0         1\n",
      "0         110152  1.000000\n",
      "1         110413  0.666667\n",
      "2         110465  0.000000\n",
      "3         110564  1.000000\n",
      "4         110813  1.000000\n",
      "..           ...       ...\n",
      "676   W./C. 6608  0.000000\n",
      "677   W./C. 6609  0.000000\n",
      "678  W.E.P. 5734  0.000000\n",
      "679    W/C 14208  0.000000\n",
      "680    WE/P 5735  0.500000\n",
      "\n",
      "[681 rows x 2 columns]\n",
      "\n",
      " Fare\n",
      "8.0500     43\n",
      "13.0000    42\n",
      "7.8958     38\n",
      "7.7500     34\n",
      "26.0000    31\n",
      "           ..\n",
      "35.0000     1\n",
      "28.5000     1\n",
      "6.2375      1\n",
      "14.0000     1\n",
      "10.5167     1\n",
      "Name: Fare, Length: 248, dtype: int64\n",
      "            0         1\n",
      "0      0.0000  0.066667\n",
      "1      4.0125  0.000000\n",
      "2      5.0000  0.000000\n",
      "3      6.2375  0.000000\n",
      "4      6.4375  0.000000\n",
      "..        ...       ...\n",
      "243  227.5250  0.750000\n",
      "244  247.5208  0.500000\n",
      "245  262.3750  1.000000\n",
      "246  263.0000  0.500000\n",
      "247  512.3292  1.000000\n",
      "\n",
      "[248 rows x 2 columns]\n",
      "\n",
      " Cabin\n",
      "B96 B98        4\n",
      "G6             4\n",
      "C23 C25 C27    4\n",
      "C22 C26        3\n",
      "F33            3\n",
      "              ..\n",
      "E34            1\n",
      "C7             1\n",
      "C54            1\n",
      "E36            1\n",
      "C148           1\n",
      "Name: Cabin, Length: 147, dtype: int64\n",
      "       0    1\n",
      "0    A10  0.0\n",
      "1    A14  0.0\n",
      "2    A16  1.0\n",
      "3    A19  0.0\n",
      "4    A20  1.0\n",
      "..   ...  ...\n",
      "142  F33  1.0\n",
      "143  F38  0.0\n",
      "144   F4  1.0\n",
      "145   G6  0.5\n",
      "146    T  0.0\n",
      "\n",
      "[147 rows x 2 columns]\n",
      "\n",
      " Embarked\n",
      "S    644\n",
      "C    168\n",
      "Q     77\n",
      "Name: Embarked, dtype: int64\n",
      "   0         1\n",
      "0  C  0.553571\n",
      "1  Q  0.389610\n",
      "2  S  0.336957\n"
     ]
    }
   ],
   "source": [
    "import matplotlib.pyplot as plt\n",
    "\n",
    "# plt.style.use('seaborn')\n",
    "\n",
    "# fig, axs = plt.subplots(len(dependents))\n",
    "\n",
    "for index, feature in enumerate(dependents):\n",
    "    print(\"\\n\", feature)\n",
    "    \n",
    "    print(train_data[feature].value_counts())\n",
    "    feature_stat = dict(train_data[feature].value_counts())\n",
    "    values = []\n",
    "    rates = []\n",
    "    for feature_val in feature_stat:\n",
    "        values.append(feature_val)\n",
    "        value = train_data.loc[train_data[feature] == feature_val][\"Survived\"]\n",
    "        rates.append(sum(value) / len(value))\n",
    "    \n",
    "    print(pd.DataFrame(sorted(zip(values, rates))))\n",
    "#     axs[index].plot(values, rates)\n",
    "    "
   ]
  },
  {
   "cell_type": "code",
   "execution_count": 8,
   "id": "8cfc64f8",
   "metadata": {
    "execution": {
     "iopub.execute_input": "2022-11-11T11:22:17.830029Z",
     "iopub.status.busy": "2022-11-11T11:22:17.829624Z",
     "iopub.status.idle": "2022-11-11T11:22:17.848153Z",
     "shell.execute_reply": "2022-11-11T11:22:17.846730Z"
    },
    "papermill": {
     "duration": 0.031841,
     "end_time": "2022-11-11T11:22:17.851080",
     "exception": false,
     "start_time": "2022-11-11T11:22:17.819239",
     "status": "completed"
    },
    "tags": []
   },
   "outputs": [
    {
     "name": "stdout",
     "output_type": "stream",
     "text": [
      "<class 'pandas.core.frame.DataFrame'>\n",
      "RangeIndex: 891 entries, 0 to 890\n",
      "Data columns (total 12 columns):\n",
      " #   Column       Non-Null Count  Dtype  \n",
      "---  ------       --------------  -----  \n",
      " 0   PassengerId  891 non-null    int64  \n",
      " 1   Survived     891 non-null    int64  \n",
      " 2   Pclass       891 non-null    int64  \n",
      " 3   Name         891 non-null    object \n",
      " 4   Sex          891 non-null    object \n",
      " 5   Age          714 non-null    float64\n",
      " 6   SibSp        891 non-null    int64  \n",
      " 7   Parch        891 non-null    int64  \n",
      " 8   Ticket       891 non-null    object \n",
      " 9   Fare         891 non-null    float64\n",
      " 10  Cabin        204 non-null    object \n",
      " 11  Embarked     889 non-null    object \n",
      "dtypes: float64(2), int64(5), object(5)\n",
      "memory usage: 83.7+ KB\n"
     ]
    }
   ],
   "source": [
    "train_data.info()"
   ]
  },
  {
   "cell_type": "code",
   "execution_count": 9,
   "id": "af0fcfab",
   "metadata": {
    "execution": {
     "iopub.execute_input": "2022-11-11T11:22:17.871378Z",
     "iopub.status.busy": "2022-11-11T11:22:17.870976Z",
     "iopub.status.idle": "2022-11-11T11:22:17.885381Z",
     "shell.execute_reply": "2022-11-11T11:22:17.884160Z"
    },
    "papermill": {
     "duration": 0.02794,
     "end_time": "2022-11-11T11:22:17.888012",
     "exception": false,
     "start_time": "2022-11-11T11:22:17.860072",
     "status": "completed"
    },
    "tags": []
   },
   "outputs": [
    {
     "name": "stdout",
     "output_type": "stream",
     "text": [
      "<class 'pandas.core.frame.DataFrame'>\n",
      "RangeIndex: 418 entries, 0 to 417\n",
      "Data columns (total 11 columns):\n",
      " #   Column       Non-Null Count  Dtype  \n",
      "---  ------       --------------  -----  \n",
      " 0   PassengerId  418 non-null    int64  \n",
      " 1   Pclass       418 non-null    int64  \n",
      " 2   Name         418 non-null    object \n",
      " 3   Sex          418 non-null    object \n",
      " 4   Age          332 non-null    float64\n",
      " 5   SibSp        418 non-null    int64  \n",
      " 6   Parch        418 non-null    int64  \n",
      " 7   Ticket       418 non-null    object \n",
      " 8   Fare         417 non-null    float64\n",
      " 9   Cabin        91 non-null     object \n",
      " 10  Embarked     418 non-null    object \n",
      "dtypes: float64(2), int64(4), object(5)\n",
      "memory usage: 36.0+ KB\n"
     ]
    }
   ],
   "source": [
    "test_data.info()"
   ]
  },
  {
   "cell_type": "markdown",
   "id": "8060b98a",
   "metadata": {
    "papermill": {
     "duration": 0.008959,
     "end_time": "2022-11-11T11:22:17.906374",
     "exception": false,
     "start_time": "2022-11-11T11:22:17.897415",
     "status": "completed"
    },
    "tags": []
   },
   "source": [
    "### Handling NaN fields:"
   ]
  },
  {
   "cell_type": "code",
   "execution_count": 10,
   "id": "c5f915f6",
   "metadata": {
    "execution": {
     "iopub.execute_input": "2022-11-11T11:22:17.927035Z",
     "iopub.status.busy": "2022-11-11T11:22:17.926012Z",
     "iopub.status.idle": "2022-11-11T11:22:17.931765Z",
     "shell.execute_reply": "2022-11-11T11:22:17.930744Z"
    },
    "papermill": {
     "duration": 0.01872,
     "end_time": "2022-11-11T11:22:17.934235",
     "exception": false,
     "start_time": "2022-11-11T11:22:17.915515",
     "status": "completed"
    },
    "tags": []
   },
   "outputs": [],
   "source": [
    "values = {\"Age\":-1, \"Cabin\": 'NA', \"Embarked\": 'NA', \"Fare\":-1}"
   ]
  },
  {
   "cell_type": "code",
   "execution_count": 11,
   "id": "88857aeb",
   "metadata": {
    "execution": {
     "iopub.execute_input": "2022-11-11T11:22:17.954693Z",
     "iopub.status.busy": "2022-11-11T11:22:17.954017Z",
     "iopub.status.idle": "2022-11-11T11:22:17.960797Z",
     "shell.execute_reply": "2022-11-11T11:22:17.959947Z"
    },
    "papermill": {
     "duration": 0.019887,
     "end_time": "2022-11-11T11:22:17.963213",
     "exception": false,
     "start_time": "2022-11-11T11:22:17.943326",
     "status": "completed"
    },
    "tags": []
   },
   "outputs": [],
   "source": [
    "# train = train_data.dropna(subset=['Age'])\n",
    "train = train_data.fillna(value=values)"
   ]
  },
  {
   "cell_type": "code",
   "execution_count": 12,
   "id": "2b78f1c5",
   "metadata": {
    "execution": {
     "iopub.execute_input": "2022-11-11T11:22:17.983373Z",
     "iopub.status.busy": "2022-11-11T11:22:17.982734Z",
     "iopub.status.idle": "2022-11-11T11:22:17.990274Z",
     "shell.execute_reply": "2022-11-11T11:22:17.989321Z"
    },
    "papermill": {
     "duration": 0.020962,
     "end_time": "2022-11-11T11:22:17.993249",
     "exception": false,
     "start_time": "2022-11-11T11:22:17.972287",
     "status": "completed"
    },
    "tags": []
   },
   "outputs": [],
   "source": [
    "test = test_data.fillna(value=values)"
   ]
  },
  {
   "cell_type": "code",
   "execution_count": 13,
   "id": "be0fa3d9",
   "metadata": {
    "execution": {
     "iopub.execute_input": "2022-11-11T11:22:18.014273Z",
     "iopub.status.busy": "2022-11-11T11:22:18.013616Z",
     "iopub.status.idle": "2022-11-11T11:22:18.023298Z",
     "shell.execute_reply": "2022-11-11T11:22:18.022351Z"
    },
    "papermill": {
     "duration": 0.023908,
     "end_time": "2022-11-11T11:22:18.026271",
     "exception": false,
     "start_time": "2022-11-11T11:22:18.002363",
     "status": "completed"
    },
    "tags": []
   },
   "outputs": [],
   "source": [
    "#Adding Alone to train set\n",
    "train['T_partner']=train[\"SibSp\"]+train[\"Parch\"]\n",
    "train['Alone']=np.where(train['T_partner']>0, 0, 1)\n",
    "\n",
    "test['T_partner']=test[\"SibSp\"]+test[\"Parch\"]\n",
    "test['Alone']=np.where(test['T_partner']>0, 0, 1)"
   ]
  },
  {
   "cell_type": "code",
   "execution_count": 14,
   "id": "398c6a01",
   "metadata": {
    "execution": {
     "iopub.execute_input": "2022-11-11T11:22:18.047051Z",
     "iopub.status.busy": "2022-11-11T11:22:18.046388Z",
     "iopub.status.idle": "2022-11-11T11:22:18.077332Z",
     "shell.execute_reply": "2022-11-11T11:22:18.075466Z"
    },
    "papermill": {
     "duration": 0.04474,
     "end_time": "2022-11-11T11:22:18.080151",
     "exception": false,
     "start_time": "2022-11-11T11:22:18.035411",
     "status": "completed"
    },
    "tags": []
   },
   "outputs": [
    {
     "data": {
      "text/html": [
       "<div>\n",
       "<style scoped>\n",
       "    .dataframe tbody tr th:only-of-type {\n",
       "        vertical-align: middle;\n",
       "    }\n",
       "\n",
       "    .dataframe tbody tr th {\n",
       "        vertical-align: top;\n",
       "    }\n",
       "\n",
       "    .dataframe thead th {\n",
       "        text-align: right;\n",
       "    }\n",
       "</style>\n",
       "<table border=\"1\" class=\"dataframe\">\n",
       "  <thead>\n",
       "    <tr style=\"text-align: right;\">\n",
       "      <th></th>\n",
       "      <th>PassengerId</th>\n",
       "      <th>Survived</th>\n",
       "      <th>Pclass</th>\n",
       "      <th>Name</th>\n",
       "      <th>Sex</th>\n",
       "      <th>Age</th>\n",
       "      <th>SibSp</th>\n",
       "      <th>Parch</th>\n",
       "      <th>Ticket</th>\n",
       "      <th>Fare</th>\n",
       "      <th>Cabin</th>\n",
       "      <th>Embarked</th>\n",
       "      <th>T_partner</th>\n",
       "      <th>Alone</th>\n",
       "    </tr>\n",
       "  </thead>\n",
       "  <tbody>\n",
       "    <tr>\n",
       "      <th>0</th>\n",
       "      <td>1</td>\n",
       "      <td>0</td>\n",
       "      <td>3</td>\n",
       "      <td>Braund, Mr. Owen Harris</td>\n",
       "      <td>male</td>\n",
       "      <td>22.0</td>\n",
       "      <td>1</td>\n",
       "      <td>0</td>\n",
       "      <td>A/5 21171</td>\n",
       "      <td>7.2500</td>\n",
       "      <td>NA</td>\n",
       "      <td>S</td>\n",
       "      <td>1</td>\n",
       "      <td>0</td>\n",
       "    </tr>\n",
       "    <tr>\n",
       "      <th>1</th>\n",
       "      <td>2</td>\n",
       "      <td>1</td>\n",
       "      <td>1</td>\n",
       "      <td>Cumings, Mrs. John Bradley (Florence Briggs Th...</td>\n",
       "      <td>female</td>\n",
       "      <td>38.0</td>\n",
       "      <td>1</td>\n",
       "      <td>0</td>\n",
       "      <td>PC 17599</td>\n",
       "      <td>71.2833</td>\n",
       "      <td>C85</td>\n",
       "      <td>C</td>\n",
       "      <td>1</td>\n",
       "      <td>0</td>\n",
       "    </tr>\n",
       "    <tr>\n",
       "      <th>2</th>\n",
       "      <td>3</td>\n",
       "      <td>1</td>\n",
       "      <td>3</td>\n",
       "      <td>Heikkinen, Miss. Laina</td>\n",
       "      <td>female</td>\n",
       "      <td>26.0</td>\n",
       "      <td>0</td>\n",
       "      <td>0</td>\n",
       "      <td>STON/O2. 3101282</td>\n",
       "      <td>7.9250</td>\n",
       "      <td>NA</td>\n",
       "      <td>S</td>\n",
       "      <td>0</td>\n",
       "      <td>1</td>\n",
       "    </tr>\n",
       "    <tr>\n",
       "      <th>3</th>\n",
       "      <td>4</td>\n",
       "      <td>1</td>\n",
       "      <td>1</td>\n",
       "      <td>Futrelle, Mrs. Jacques Heath (Lily May Peel)</td>\n",
       "      <td>female</td>\n",
       "      <td>35.0</td>\n",
       "      <td>1</td>\n",
       "      <td>0</td>\n",
       "      <td>113803</td>\n",
       "      <td>53.1000</td>\n",
       "      <td>C123</td>\n",
       "      <td>S</td>\n",
       "      <td>1</td>\n",
       "      <td>0</td>\n",
       "    </tr>\n",
       "    <tr>\n",
       "      <th>4</th>\n",
       "      <td>5</td>\n",
       "      <td>0</td>\n",
       "      <td>3</td>\n",
       "      <td>Allen, Mr. William Henry</td>\n",
       "      <td>male</td>\n",
       "      <td>35.0</td>\n",
       "      <td>0</td>\n",
       "      <td>0</td>\n",
       "      <td>373450</td>\n",
       "      <td>8.0500</td>\n",
       "      <td>NA</td>\n",
       "      <td>S</td>\n",
       "      <td>0</td>\n",
       "      <td>1</td>\n",
       "    </tr>\n",
       "    <tr>\n",
       "      <th>...</th>\n",
       "      <td>...</td>\n",
       "      <td>...</td>\n",
       "      <td>...</td>\n",
       "      <td>...</td>\n",
       "      <td>...</td>\n",
       "      <td>...</td>\n",
       "      <td>...</td>\n",
       "      <td>...</td>\n",
       "      <td>...</td>\n",
       "      <td>...</td>\n",
       "      <td>...</td>\n",
       "      <td>...</td>\n",
       "      <td>...</td>\n",
       "      <td>...</td>\n",
       "    </tr>\n",
       "    <tr>\n",
       "      <th>886</th>\n",
       "      <td>887</td>\n",
       "      <td>0</td>\n",
       "      <td>2</td>\n",
       "      <td>Montvila, Rev. Juozas</td>\n",
       "      <td>male</td>\n",
       "      <td>27.0</td>\n",
       "      <td>0</td>\n",
       "      <td>0</td>\n",
       "      <td>211536</td>\n",
       "      <td>13.0000</td>\n",
       "      <td>NA</td>\n",
       "      <td>S</td>\n",
       "      <td>0</td>\n",
       "      <td>1</td>\n",
       "    </tr>\n",
       "    <tr>\n",
       "      <th>887</th>\n",
       "      <td>888</td>\n",
       "      <td>1</td>\n",
       "      <td>1</td>\n",
       "      <td>Graham, Miss. Margaret Edith</td>\n",
       "      <td>female</td>\n",
       "      <td>19.0</td>\n",
       "      <td>0</td>\n",
       "      <td>0</td>\n",
       "      <td>112053</td>\n",
       "      <td>30.0000</td>\n",
       "      <td>B42</td>\n",
       "      <td>S</td>\n",
       "      <td>0</td>\n",
       "      <td>1</td>\n",
       "    </tr>\n",
       "    <tr>\n",
       "      <th>888</th>\n",
       "      <td>889</td>\n",
       "      <td>0</td>\n",
       "      <td>3</td>\n",
       "      <td>Johnston, Miss. Catherine Helen \"Carrie\"</td>\n",
       "      <td>female</td>\n",
       "      <td>-1.0</td>\n",
       "      <td>1</td>\n",
       "      <td>2</td>\n",
       "      <td>W./C. 6607</td>\n",
       "      <td>23.4500</td>\n",
       "      <td>NA</td>\n",
       "      <td>S</td>\n",
       "      <td>3</td>\n",
       "      <td>0</td>\n",
       "    </tr>\n",
       "    <tr>\n",
       "      <th>889</th>\n",
       "      <td>890</td>\n",
       "      <td>1</td>\n",
       "      <td>1</td>\n",
       "      <td>Behr, Mr. Karl Howell</td>\n",
       "      <td>male</td>\n",
       "      <td>26.0</td>\n",
       "      <td>0</td>\n",
       "      <td>0</td>\n",
       "      <td>111369</td>\n",
       "      <td>30.0000</td>\n",
       "      <td>C148</td>\n",
       "      <td>C</td>\n",
       "      <td>0</td>\n",
       "      <td>1</td>\n",
       "    </tr>\n",
       "    <tr>\n",
       "      <th>890</th>\n",
       "      <td>891</td>\n",
       "      <td>0</td>\n",
       "      <td>3</td>\n",
       "      <td>Dooley, Mr. Patrick</td>\n",
       "      <td>male</td>\n",
       "      <td>32.0</td>\n",
       "      <td>0</td>\n",
       "      <td>0</td>\n",
       "      <td>370376</td>\n",
       "      <td>7.7500</td>\n",
       "      <td>NA</td>\n",
       "      <td>Q</td>\n",
       "      <td>0</td>\n",
       "      <td>1</td>\n",
       "    </tr>\n",
       "  </tbody>\n",
       "</table>\n",
       "<p>891 rows × 14 columns</p>\n",
       "</div>"
      ],
      "text/plain": [
       "     PassengerId  Survived  Pclass  \\\n",
       "0              1         0       3   \n",
       "1              2         1       1   \n",
       "2              3         1       3   \n",
       "3              4         1       1   \n",
       "4              5         0       3   \n",
       "..           ...       ...     ...   \n",
       "886          887         0       2   \n",
       "887          888         1       1   \n",
       "888          889         0       3   \n",
       "889          890         1       1   \n",
       "890          891         0       3   \n",
       "\n",
       "                                                  Name     Sex   Age  SibSp  \\\n",
       "0                              Braund, Mr. Owen Harris    male  22.0      1   \n",
       "1    Cumings, Mrs. John Bradley (Florence Briggs Th...  female  38.0      1   \n",
       "2                               Heikkinen, Miss. Laina  female  26.0      0   \n",
       "3         Futrelle, Mrs. Jacques Heath (Lily May Peel)  female  35.0      1   \n",
       "4                             Allen, Mr. William Henry    male  35.0      0   \n",
       "..                                                 ...     ...   ...    ...   \n",
       "886                              Montvila, Rev. Juozas    male  27.0      0   \n",
       "887                       Graham, Miss. Margaret Edith  female  19.0      0   \n",
       "888           Johnston, Miss. Catherine Helen \"Carrie\"  female  -1.0      1   \n",
       "889                              Behr, Mr. Karl Howell    male  26.0      0   \n",
       "890                                Dooley, Mr. Patrick    male  32.0      0   \n",
       "\n",
       "     Parch            Ticket     Fare Cabin Embarked  T_partner  Alone  \n",
       "0        0         A/5 21171   7.2500    NA        S          1      0  \n",
       "1        0          PC 17599  71.2833   C85        C          1      0  \n",
       "2        0  STON/O2. 3101282   7.9250    NA        S          0      1  \n",
       "3        0            113803  53.1000  C123        S          1      0  \n",
       "4        0            373450   8.0500    NA        S          0      1  \n",
       "..     ...               ...      ...   ...      ...        ...    ...  \n",
       "886      0            211536  13.0000    NA        S          0      1  \n",
       "887      0            112053  30.0000   B42        S          0      1  \n",
       "888      2        W./C. 6607  23.4500    NA        S          3      0  \n",
       "889      0            111369  30.0000  C148        C          0      1  \n",
       "890      0            370376   7.7500    NA        Q          0      1  \n",
       "\n",
       "[891 rows x 14 columns]"
      ]
     },
     "execution_count": 14,
     "metadata": {},
     "output_type": "execute_result"
    }
   ],
   "source": [
    "train"
   ]
  },
  {
   "cell_type": "code",
   "execution_count": 15,
   "id": "ca832c56",
   "metadata": {
    "execution": {
     "iopub.execute_input": "2022-11-11T11:22:18.105204Z",
     "iopub.status.busy": "2022-11-11T11:22:18.104054Z",
     "iopub.status.idle": "2022-11-11T11:22:18.121116Z",
     "shell.execute_reply": "2022-11-11T11:22:18.119228Z"
    },
    "papermill": {
     "duration": 0.036111,
     "end_time": "2022-11-11T11:22:18.126281",
     "exception": false,
     "start_time": "2022-11-11T11:22:18.090170",
     "status": "completed"
    },
    "tags": []
   },
   "outputs": [
    {
     "name": "stdout",
     "output_type": "stream",
     "text": [
      "<class 'pandas.core.frame.DataFrame'>\n",
      "RangeIndex: 891 entries, 0 to 890\n",
      "Data columns (total 14 columns):\n",
      " #   Column       Non-Null Count  Dtype  \n",
      "---  ------       --------------  -----  \n",
      " 0   PassengerId  891 non-null    int64  \n",
      " 1   Survived     891 non-null    int64  \n",
      " 2   Pclass       891 non-null    int64  \n",
      " 3   Name         891 non-null    object \n",
      " 4   Sex          891 non-null    object \n",
      " 5   Age          891 non-null    float64\n",
      " 6   SibSp        891 non-null    int64  \n",
      " 7   Parch        891 non-null    int64  \n",
      " 8   Ticket       891 non-null    object \n",
      " 9   Fare         891 non-null    float64\n",
      " 10  Cabin        891 non-null    object \n",
      " 11  Embarked     891 non-null    object \n",
      " 12  T_partner    891 non-null    int64  \n",
      " 13  Alone        891 non-null    int64  \n",
      "dtypes: float64(2), int64(7), object(5)\n",
      "memory usage: 97.6+ KB\n"
     ]
    }
   ],
   "source": [
    "train.info()"
   ]
  },
  {
   "cell_type": "code",
   "execution_count": 16,
   "id": "33733ad6",
   "metadata": {
    "execution": {
     "iopub.execute_input": "2022-11-11T11:22:18.154299Z",
     "iopub.status.busy": "2022-11-11T11:22:18.153339Z",
     "iopub.status.idle": "2022-11-11T11:22:18.160634Z",
     "shell.execute_reply": "2022-11-11T11:22:18.158708Z"
    },
    "papermill": {
     "duration": 0.025176,
     "end_time": "2022-11-11T11:22:18.163953",
     "exception": false,
     "start_time": "2022-11-11T11:22:18.138777",
     "status": "completed"
    },
    "tags": []
   },
   "outputs": [],
   "source": [
    "# test = test_data.fillna(value=values)"
   ]
  },
  {
   "cell_type": "markdown",
   "id": "35c142fa",
   "metadata": {
    "papermill": {
     "duration": 0.009644,
     "end_time": "2022-11-11T11:22:18.183713",
     "exception": false,
     "start_time": "2022-11-11T11:22:18.174069",
     "status": "completed"
    },
    "tags": []
   },
   "source": [
    "### Analysing attribute values for identifying categorical (and type of categorical) and numerical variables:"
   ]
  },
  {
   "cell_type": "code",
   "execution_count": 17,
   "id": "e2b5557b",
   "metadata": {
    "execution": {
     "iopub.execute_input": "2022-11-11T11:22:18.207533Z",
     "iopub.status.busy": "2022-11-11T11:22:18.206348Z",
     "iopub.status.idle": "2022-11-11T11:22:18.211075Z",
     "shell.execute_reply": "2022-11-11T11:22:18.209950Z"
    },
    "papermill": {
     "duration": 0.020071,
     "end_time": "2022-11-11T11:22:18.213600",
     "exception": false,
     "start_time": "2022-11-11T11:22:18.193529",
     "status": "completed"
    },
    "tags": []
   },
   "outputs": [],
   "source": [
    "# Categorical Variables to be considered: Sex, Ticket, Cabin, Embarked\n",
    "# All are nominal categorical variables, cabin may be considered ordinal, however some passengers have multiple cabin values,\n",
    "# using dummies"
   ]
  },
  {
   "cell_type": "markdown",
   "id": "8a40c654",
   "metadata": {
    "papermill": {
     "duration": 0.009394,
     "end_time": "2022-11-11T11:22:18.232861",
     "exception": false,
     "start_time": "2022-11-11T11:22:18.223467",
     "status": "completed"
    },
    "tags": []
   },
   "source": [
    "### Preparing input data:"
   ]
  },
  {
   "cell_type": "code",
   "execution_count": 18,
   "id": "73e54026",
   "metadata": {
    "execution": {
     "iopub.execute_input": "2022-11-11T11:22:18.254365Z",
     "iopub.status.busy": "2022-11-11T11:22:18.253966Z",
     "iopub.status.idle": "2022-11-11T11:22:18.258881Z",
     "shell.execute_reply": "2022-11-11T11:22:18.258025Z"
    },
    "papermill": {
     "duration": 0.018541,
     "end_time": "2022-11-11T11:22:18.261182",
     "exception": false,
     "start_time": "2022-11-11T11:22:18.242641",
     "status": "completed"
    },
    "tags": []
   },
   "outputs": [],
   "source": [
    "# Extracting independent output variable y\n",
    "y = train[\"Survived\"]\n",
    "\n",
    "# Setting features to be used\n",
    "features = [\"Pclass\", \"Sex\", \"Age\", \"Fare\", \"Embarked\", \"Alone\", \"Ticket\"]\n",
    "\n",
    "# features = [\"Pclass\", \"Sex\", \"Age\", \"SibSp\", \"Parch\", \"Ticket\", \"Embarked\"]\n"
   ]
  },
  {
   "cell_type": "code",
   "execution_count": 19,
   "id": "70e383e0",
   "metadata": {
    "execution": {
     "iopub.execute_input": "2022-11-11T11:22:18.282894Z",
     "iopub.status.busy": "2022-11-11T11:22:18.282244Z",
     "iopub.status.idle": "2022-11-11T11:22:18.289709Z",
     "shell.execute_reply": "2022-11-11T11:22:18.288723Z"
    },
    "papermill": {
     "duration": 0.021785,
     "end_time": "2022-11-11T11:22:18.293012",
     "exception": false,
     "start_time": "2022-11-11T11:22:18.271227",
     "status": "completed"
    },
    "tags": []
   },
   "outputs": [],
   "source": [
    "temp = train.copy()[features]\n",
    "temp_test = test.copy()[features]"
   ]
  },
  {
   "cell_type": "code",
   "execution_count": 20,
   "id": "0fe209f5",
   "metadata": {
    "execution": {
     "iopub.execute_input": "2022-11-11T11:22:18.315496Z",
     "iopub.status.busy": "2022-11-11T11:22:18.314838Z",
     "iopub.status.idle": "2022-11-11T11:22:18.328430Z",
     "shell.execute_reply": "2022-11-11T11:22:18.327568Z"
    },
    "papermill": {
     "duration": 0.028425,
     "end_time": "2022-11-11T11:22:18.331237",
     "exception": false,
     "start_time": "2022-11-11T11:22:18.302812",
     "status": "completed"
    },
    "tags": []
   },
   "outputs": [
    {
     "data": {
      "text/html": [
       "<div>\n",
       "<style scoped>\n",
       "    .dataframe tbody tr th:only-of-type {\n",
       "        vertical-align: middle;\n",
       "    }\n",
       "\n",
       "    .dataframe tbody tr th {\n",
       "        vertical-align: top;\n",
       "    }\n",
       "\n",
       "    .dataframe thead th {\n",
       "        text-align: right;\n",
       "    }\n",
       "</style>\n",
       "<table border=\"1\" class=\"dataframe\">\n",
       "  <thead>\n",
       "    <tr style=\"text-align: right;\">\n",
       "      <th></th>\n",
       "      <th>Pclass</th>\n",
       "      <th>Sex</th>\n",
       "      <th>Age</th>\n",
       "      <th>Fare</th>\n",
       "      <th>Embarked</th>\n",
       "      <th>Alone</th>\n",
       "      <th>Ticket</th>\n",
       "    </tr>\n",
       "  </thead>\n",
       "  <tbody>\n",
       "    <tr>\n",
       "      <th>0</th>\n",
       "      <td>3</td>\n",
       "      <td>male</td>\n",
       "      <td>22.0</td>\n",
       "      <td>7.2500</td>\n",
       "      <td>S</td>\n",
       "      <td>0</td>\n",
       "      <td>A/5 21171</td>\n",
       "    </tr>\n",
       "    <tr>\n",
       "      <th>1</th>\n",
       "      <td>1</td>\n",
       "      <td>female</td>\n",
       "      <td>38.0</td>\n",
       "      <td>71.2833</td>\n",
       "      <td>C</td>\n",
       "      <td>0</td>\n",
       "      <td>PC 17599</td>\n",
       "    </tr>\n",
       "    <tr>\n",
       "      <th>2</th>\n",
       "      <td>3</td>\n",
       "      <td>female</td>\n",
       "      <td>26.0</td>\n",
       "      <td>7.9250</td>\n",
       "      <td>S</td>\n",
       "      <td>1</td>\n",
       "      <td>STON/O2. 3101282</td>\n",
       "    </tr>\n",
       "    <tr>\n",
       "      <th>3</th>\n",
       "      <td>1</td>\n",
       "      <td>female</td>\n",
       "      <td>35.0</td>\n",
       "      <td>53.1000</td>\n",
       "      <td>S</td>\n",
       "      <td>0</td>\n",
       "      <td>113803</td>\n",
       "    </tr>\n",
       "    <tr>\n",
       "      <th>4</th>\n",
       "      <td>3</td>\n",
       "      <td>male</td>\n",
       "      <td>35.0</td>\n",
       "      <td>8.0500</td>\n",
       "      <td>S</td>\n",
       "      <td>1</td>\n",
       "      <td>373450</td>\n",
       "    </tr>\n",
       "  </tbody>\n",
       "</table>\n",
       "</div>"
      ],
      "text/plain": [
       "   Pclass     Sex   Age     Fare Embarked  Alone            Ticket\n",
       "0       3    male  22.0   7.2500        S      0         A/5 21171\n",
       "1       1  female  38.0  71.2833        C      0          PC 17599\n",
       "2       3  female  26.0   7.9250        S      1  STON/O2. 3101282\n",
       "3       1  female  35.0  53.1000        S      0            113803\n",
       "4       3    male  35.0   8.0500        S      1            373450"
      ]
     },
     "execution_count": 20,
     "metadata": {},
     "output_type": "execute_result"
    }
   ],
   "source": [
    "temp.head()"
   ]
  },
  {
   "cell_type": "code",
   "execution_count": 21,
   "id": "4b60ad6e",
   "metadata": {
    "execution": {
     "iopub.execute_input": "2022-11-11T11:22:18.354466Z",
     "iopub.status.busy": "2022-11-11T11:22:18.353851Z",
     "iopub.status.idle": "2022-11-11T11:22:19.482630Z",
     "shell.execute_reply": "2022-11-11T11:22:19.481442Z"
    },
    "papermill": {
     "duration": 1.143817,
     "end_time": "2022-11-11T11:22:19.485856",
     "exception": false,
     "start_time": "2022-11-11T11:22:18.342039",
     "status": "completed"
    },
    "tags": []
   },
   "outputs": [
    {
     "data": {
      "text/plain": [
       "OneHotEncoder(handle_unknown='ignore', sparse=False)"
      ]
     },
     "execution_count": 21,
     "metadata": {},
     "output_type": "execute_result"
    }
   ],
   "source": [
    "from sklearn.preprocessing import OneHotEncoder, OrdinalEncoder\n",
    "encoder = OneHotEncoder(handle_unknown='ignore', sparse=False)\n",
    "\n",
    "# encoder = OrdinalEncoder(handle_unknown='use_encoded_value', unknown_value=-1)\n",
    "encoder.fit(temp)"
   ]
  },
  {
   "cell_type": "code",
   "execution_count": 22,
   "id": "63f116bc",
   "metadata": {
    "execution": {
     "iopub.execute_input": "2022-11-11T11:22:19.508118Z",
     "iopub.status.busy": "2022-11-11T11:22:19.507664Z",
     "iopub.status.idle": "2022-11-11T11:22:19.539902Z",
     "shell.execute_reply": "2022-11-11T11:22:19.538885Z"
    },
    "papermill": {
     "duration": 0.046672,
     "end_time": "2022-11-11T11:22:19.542639",
     "exception": false,
     "start_time": "2022-11-11T11:22:19.495967",
     "status": "completed"
    },
    "tags": []
   },
   "outputs": [],
   "source": [
    "X_train = encoder.transform(temp)\n",
    "X_test = encoder.transform(temp_test)"
   ]
  },
  {
   "cell_type": "code",
   "execution_count": 23,
   "id": "20a7985b",
   "metadata": {
    "execution": {
     "iopub.execute_input": "2022-11-11T11:22:19.564341Z",
     "iopub.status.busy": "2022-11-11T11:22:19.563885Z",
     "iopub.status.idle": "2022-11-11T11:22:19.568721Z",
     "shell.execute_reply": "2022-11-11T11:22:19.567517Z"
    },
    "papermill": {
     "duration": 0.018515,
     "end_time": "2022-11-11T11:22:19.571067",
     "exception": false,
     "start_time": "2022-11-11T11:22:19.552552",
     "status": "completed"
    },
    "tags": []
   },
   "outputs": [],
   "source": [
    "# from sklearn.preprocessing import StandardScaler, MinMaxScaler\n",
    "\n",
    "# scaler = StandardScaler()\n",
    "# # scaler = MinMaxScaler()\n",
    "\n",
    "# X_train = scaler.fit_transform(X_train)\n",
    "# X_test = scaler.transform(X_test)\n"
   ]
  },
  {
   "cell_type": "markdown",
   "id": "b93b38ea",
   "metadata": {
    "papermill": {
     "duration": 0.009893,
     "end_time": "2022-11-11T11:22:19.590846",
     "exception": false,
     "start_time": "2022-11-11T11:22:19.580953",
     "status": "completed"
    },
    "tags": []
   },
   "source": [
    "## Training:"
   ]
  },
  {
   "cell_type": "code",
   "execution_count": 24,
   "id": "769061d0",
   "metadata": {
    "execution": {
     "iopub.execute_input": "2022-11-11T11:22:19.613500Z",
     "iopub.status.busy": "2022-11-11T11:22:19.612852Z",
     "iopub.status.idle": "2022-11-11T11:22:19.919323Z",
     "shell.execute_reply": "2022-11-11T11:22:19.918039Z"
    },
    "papermill": {
     "duration": 0.321425,
     "end_time": "2022-11-11T11:22:19.922332",
     "exception": false,
     "start_time": "2022-11-11T11:22:19.600907",
     "status": "completed"
    },
    "tags": []
   },
   "outputs": [],
   "source": [
    "from sklearn.ensemble import RandomForestClassifier, AdaBoostClassifier\n",
    "# from sklearn.neural_network import MLPClassifier\n",
    "from sklearn.neighbors import KNeighborsClassifier\n",
    "\n",
    "from sklearn.model_selection import cross_val_score\n",
    "\n",
    "# model = RandomForestClassifier()\n",
    "model = RandomForestClassifier(n_estimators=100, criterion='entropy')\n",
    "# model = AdaBoostClassifier(n_estimators=200, learning_rate=0.5)\n",
    "\n"
   ]
  },
  {
   "cell_type": "code",
   "execution_count": 25,
   "id": "6a41c1b4",
   "metadata": {
    "execution": {
     "iopub.execute_input": "2022-11-11T11:22:19.944231Z",
     "iopub.status.busy": "2022-11-11T11:22:19.943146Z",
     "iopub.status.idle": "2022-11-11T11:22:22.130912Z",
     "shell.execute_reply": "2022-11-11T11:22:22.129466Z"
    },
    "papermill": {
     "duration": 2.202036,
     "end_time": "2022-11-11T11:22:22.134041",
     "exception": false,
     "start_time": "2022-11-11T11:22:19.932005",
     "status": "completed"
    },
    "tags": []
   },
   "outputs": [
    {
     "name": "stdout",
     "output_type": "stream",
     "text": [
      "[0.84357542 0.80898876 0.84831461 0.78089888 0.83707865]\n"
     ]
    }
   ],
   "source": [
    "scores = cross_val_score(model, X_train, y, cv=5)\n",
    "print(scores)"
   ]
  },
  {
   "cell_type": "code",
   "execution_count": 26,
   "id": "f1aeb831",
   "metadata": {
    "execution": {
     "iopub.execute_input": "2022-11-11T11:22:22.158046Z",
     "iopub.status.busy": "2022-11-11T11:22:22.157301Z",
     "iopub.status.idle": "2022-11-11T11:22:22.688731Z",
     "shell.execute_reply": "2022-11-11T11:22:22.687712Z"
    },
    "papermill": {
     "duration": 0.546627,
     "end_time": "2022-11-11T11:22:22.691544",
     "exception": false,
     "start_time": "2022-11-11T11:22:22.144917",
     "status": "completed"
    },
    "tags": []
   },
   "outputs": [
    {
     "data": {
      "text/plain": [
       "0.9988776655443322"
      ]
     },
     "execution_count": 26,
     "metadata": {},
     "output_type": "execute_result"
    }
   ],
   "source": [
    "model.fit(X_train, y)\n",
    "model.score(X_train, y)"
   ]
  },
  {
   "cell_type": "markdown",
   "id": "6df5cb8e",
   "metadata": {
    "papermill": {
     "duration": 0.009796,
     "end_time": "2022-11-11T11:22:22.711429",
     "exception": false,
     "start_time": "2022-11-11T11:22:22.701633",
     "status": "completed"
    },
    "tags": []
   },
   "source": [
    "## Predictions:"
   ]
  },
  {
   "cell_type": "code",
   "execution_count": 27,
   "id": "1672530a",
   "metadata": {
    "execution": {
     "iopub.execute_input": "2022-11-11T11:22:22.733547Z",
     "iopub.status.busy": "2022-11-11T11:22:22.732841Z",
     "iopub.status.idle": "2022-11-11T11:22:22.768513Z",
     "shell.execute_reply": "2022-11-11T11:22:22.767506Z"
    },
    "papermill": {
     "duration": 0.049899,
     "end_time": "2022-11-11T11:22:22.771241",
     "exception": false,
     "start_time": "2022-11-11T11:22:22.721342",
     "status": "completed"
    },
    "tags": []
   },
   "outputs": [],
   "source": [
    "predictions = model.predict(X_test)"
   ]
  },
  {
   "cell_type": "code",
   "execution_count": 28,
   "id": "2dee41b3",
   "metadata": {
    "execution": {
     "iopub.execute_input": "2022-11-11T11:22:22.794208Z",
     "iopub.status.busy": "2022-11-11T11:22:22.793522Z",
     "iopub.status.idle": "2022-11-11T11:22:22.803864Z",
     "shell.execute_reply": "2022-11-11T11:22:22.802234Z"
    },
    "papermill": {
     "duration": 0.025488,
     "end_time": "2022-11-11T11:22:22.806766",
     "exception": false,
     "start_time": "2022-11-11T11:22:22.781278",
     "status": "completed"
    },
    "tags": []
   },
   "outputs": [
    {
     "name": "stdout",
     "output_type": "stream",
     "text": [
      "Your submission was successfully saved!\n"
     ]
    }
   ],
   "source": [
    "output = pd.DataFrame({'PassengerId': test_data.PassengerId, 'Survived': predictions})\n",
    "output.to_csv('submission.csv', index=False)\n",
    "print(\"Your submission was successfully saved!\")"
   ]
  },
  {
   "cell_type": "code",
   "execution_count": 29,
   "id": "5446f934",
   "metadata": {
    "execution": {
     "iopub.execute_input": "2022-11-11T11:22:22.829013Z",
     "iopub.status.busy": "2022-11-11T11:22:22.828585Z",
     "iopub.status.idle": "2022-11-11T11:22:22.839672Z",
     "shell.execute_reply": "2022-11-11T11:22:22.838432Z"
    },
    "papermill": {
     "duration": 0.025192,
     "end_time": "2022-11-11T11:22:22.842079",
     "exception": false,
     "start_time": "2022-11-11T11:22:22.816887",
     "status": "completed"
    },
    "tags": []
   },
   "outputs": [
    {
     "data": {
      "text/plain": [
       "Survived\n",
       "0           286\n",
       "1           132\n",
       "dtype: int64"
      ]
     },
     "execution_count": 29,
     "metadata": {},
     "output_type": "execute_result"
    }
   ],
   "source": [
    "output[['Survived']].value_counts()"
   ]
  },
  {
   "cell_type": "code",
   "execution_count": null,
   "id": "9c116077",
   "metadata": {
    "papermill": {
     "duration": 0.009698,
     "end_time": "2022-11-11T11:22:22.861757",
     "exception": false,
     "start_time": "2022-11-11T11:22:22.852059",
     "status": "completed"
    },
    "tags": []
   },
   "outputs": [],
   "source": []
  }
 ],
 "metadata": {
  "kernelspec": {
   "display_name": "Python 3",
   "language": "python",
   "name": "python3"
  },
  "language_info": {
   "codemirror_mode": {
    "name": "ipython",
    "version": 3
   },
   "file_extension": ".py",
   "mimetype": "text/x-python",
   "name": "python",
   "nbconvert_exporter": "python",
   "pygments_lexer": "ipython3",
   "version": "3.7.12"
  },
  "papermill": {
   "default_parameters": {},
   "duration": 16.641982,
   "end_time": "2022-11-11T11:22:23.696326",
   "environment_variables": {},
   "exception": null,
   "input_path": "__notebook__.ipynb",
   "output_path": "__notebook__.ipynb",
   "parameters": {},
   "start_time": "2022-11-11T11:22:07.054344",
   "version": "2.3.4"
  }
 },
 "nbformat": 4,
 "nbformat_minor": 5
}
