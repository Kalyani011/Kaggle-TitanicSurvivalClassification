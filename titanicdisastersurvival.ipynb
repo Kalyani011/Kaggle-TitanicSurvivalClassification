{
 "cells": [
  {
   "cell_type": "code",
   "execution_count": 1,
   "id": "cae95fd3",
   "metadata": {
    "_cell_guid": "b1076dfc-b9ad-4769-8c92-a6c4dae69d19",
    "_uuid": "8f2839f25d086af736a60e9eeb907d3b93b6e0e5",
    "execution": {
     "iopub.execute_input": "2022-11-10T05:06:07.088067Z",
     "iopub.status.busy": "2022-11-10T05:06:07.087071Z",
     "iopub.status.idle": "2022-11-10T05:06:07.103142Z",
     "shell.execute_reply": "2022-11-10T05:06:07.101924Z"
    },
    "papermill": {
     "duration": 0.030245,
     "end_time": "2022-11-10T05:06:07.106646",
     "exception": false,
     "start_time": "2022-11-10T05:06:07.076401",
     "status": "completed"
    },
    "tags": []
   },
   "outputs": [
    {
     "name": "stdout",
     "output_type": "stream",
     "text": [
      "/kaggle/input/titanic/train.csv\n",
      "/kaggle/input/titanic/test.csv\n",
      "/kaggle/input/titanic/gender_submission.csv\n"
     ]
    }
   ],
   "source": [
    "import numpy as np # linear algebra\n",
    "import pandas as pd # data processing, CSV file I/O (e.g. pd.read_csv)\n",
    "\n",
    "import os\n",
    "for dirname, _, filenames in os.walk('/kaggle/input'):\n",
    "    for filename in filenames:\n",
    "        print(os.path.join(dirname, filename))\n"
   ]
  },
  {
   "cell_type": "code",
   "execution_count": 2,
   "id": "e28e92df",
   "metadata": {
    "execution": {
     "iopub.execute_input": "2022-11-10T05:06:07.125006Z",
     "iopub.status.busy": "2022-11-10T05:06:07.124034Z",
     "iopub.status.idle": "2022-11-10T05:06:07.147990Z",
     "shell.execute_reply": "2022-11-10T05:06:07.146992Z"
    },
    "papermill": {
     "duration": 0.035462,
     "end_time": "2022-11-10T05:06:07.150584",
     "exception": false,
     "start_time": "2022-11-10T05:06:07.115122",
     "status": "completed"
    },
    "tags": []
   },
   "outputs": [],
   "source": [
    "train_data = pd.read_csv('/kaggle/input/titanic/train.csv')"
   ]
  },
  {
   "cell_type": "code",
   "execution_count": 3,
   "id": "8e863c8a",
   "metadata": {
    "execution": {
     "iopub.execute_input": "2022-11-10T05:06:07.167364Z",
     "iopub.status.busy": "2022-11-10T05:06:07.166357Z",
     "iopub.status.idle": "2022-11-10T05:06:07.196794Z",
     "shell.execute_reply": "2022-11-10T05:06:07.195774Z"
    },
    "papermill": {
     "duration": 0.041122,
     "end_time": "2022-11-10T05:06:07.199029",
     "exception": false,
     "start_time": "2022-11-10T05:06:07.157907",
     "status": "completed"
    },
    "tags": []
   },
   "outputs": [
    {
     "data": {
      "text/html": [
       "<div>\n",
       "<style scoped>\n",
       "    .dataframe tbody tr th:only-of-type {\n",
       "        vertical-align: middle;\n",
       "    }\n",
       "\n",
       "    .dataframe tbody tr th {\n",
       "        vertical-align: top;\n",
       "    }\n",
       "\n",
       "    .dataframe thead th {\n",
       "        text-align: right;\n",
       "    }\n",
       "</style>\n",
       "<table border=\"1\" class=\"dataframe\">\n",
       "  <thead>\n",
       "    <tr style=\"text-align: right;\">\n",
       "      <th></th>\n",
       "      <th>PassengerId</th>\n",
       "      <th>Survived</th>\n",
       "      <th>Pclass</th>\n",
       "      <th>Name</th>\n",
       "      <th>Sex</th>\n",
       "      <th>Age</th>\n",
       "      <th>SibSp</th>\n",
       "      <th>Parch</th>\n",
       "      <th>Ticket</th>\n",
       "      <th>Fare</th>\n",
       "      <th>Cabin</th>\n",
       "      <th>Embarked</th>\n",
       "    </tr>\n",
       "  </thead>\n",
       "  <tbody>\n",
       "    <tr>\n",
       "      <th>0</th>\n",
       "      <td>1</td>\n",
       "      <td>0</td>\n",
       "      <td>3</td>\n",
       "      <td>Braund, Mr. Owen Harris</td>\n",
       "      <td>male</td>\n",
       "      <td>22.0</td>\n",
       "      <td>1</td>\n",
       "      <td>0</td>\n",
       "      <td>A/5 21171</td>\n",
       "      <td>7.2500</td>\n",
       "      <td>NaN</td>\n",
       "      <td>S</td>\n",
       "    </tr>\n",
       "    <tr>\n",
       "      <th>1</th>\n",
       "      <td>2</td>\n",
       "      <td>1</td>\n",
       "      <td>1</td>\n",
       "      <td>Cumings, Mrs. John Bradley (Florence Briggs Th...</td>\n",
       "      <td>female</td>\n",
       "      <td>38.0</td>\n",
       "      <td>1</td>\n",
       "      <td>0</td>\n",
       "      <td>PC 17599</td>\n",
       "      <td>71.2833</td>\n",
       "      <td>C85</td>\n",
       "      <td>C</td>\n",
       "    </tr>\n",
       "    <tr>\n",
       "      <th>2</th>\n",
       "      <td>3</td>\n",
       "      <td>1</td>\n",
       "      <td>3</td>\n",
       "      <td>Heikkinen, Miss. Laina</td>\n",
       "      <td>female</td>\n",
       "      <td>26.0</td>\n",
       "      <td>0</td>\n",
       "      <td>0</td>\n",
       "      <td>STON/O2. 3101282</td>\n",
       "      <td>7.9250</td>\n",
       "      <td>NaN</td>\n",
       "      <td>S</td>\n",
       "    </tr>\n",
       "    <tr>\n",
       "      <th>3</th>\n",
       "      <td>4</td>\n",
       "      <td>1</td>\n",
       "      <td>1</td>\n",
       "      <td>Futrelle, Mrs. Jacques Heath (Lily May Peel)</td>\n",
       "      <td>female</td>\n",
       "      <td>35.0</td>\n",
       "      <td>1</td>\n",
       "      <td>0</td>\n",
       "      <td>113803</td>\n",
       "      <td>53.1000</td>\n",
       "      <td>C123</td>\n",
       "      <td>S</td>\n",
       "    </tr>\n",
       "    <tr>\n",
       "      <th>4</th>\n",
       "      <td>5</td>\n",
       "      <td>0</td>\n",
       "      <td>3</td>\n",
       "      <td>Allen, Mr. William Henry</td>\n",
       "      <td>male</td>\n",
       "      <td>35.0</td>\n",
       "      <td>0</td>\n",
       "      <td>0</td>\n",
       "      <td>373450</td>\n",
       "      <td>8.0500</td>\n",
       "      <td>NaN</td>\n",
       "      <td>S</td>\n",
       "    </tr>\n",
       "  </tbody>\n",
       "</table>\n",
       "</div>"
      ],
      "text/plain": [
       "   PassengerId  Survived  Pclass  \\\n",
       "0            1         0       3   \n",
       "1            2         1       1   \n",
       "2            3         1       3   \n",
       "3            4         1       1   \n",
       "4            5         0       3   \n",
       "\n",
       "                                                Name     Sex   Age  SibSp  \\\n",
       "0                            Braund, Mr. Owen Harris    male  22.0      1   \n",
       "1  Cumings, Mrs. John Bradley (Florence Briggs Th...  female  38.0      1   \n",
       "2                             Heikkinen, Miss. Laina  female  26.0      0   \n",
       "3       Futrelle, Mrs. Jacques Heath (Lily May Peel)  female  35.0      1   \n",
       "4                           Allen, Mr. William Henry    male  35.0      0   \n",
       "\n",
       "   Parch            Ticket     Fare Cabin Embarked  \n",
       "0      0         A/5 21171   7.2500   NaN        S  \n",
       "1      0          PC 17599  71.2833   C85        C  \n",
       "2      0  STON/O2. 3101282   7.9250   NaN        S  \n",
       "3      0            113803  53.1000  C123        S  \n",
       "4      0            373450   8.0500   NaN        S  "
      ]
     },
     "execution_count": 3,
     "metadata": {},
     "output_type": "execute_result"
    }
   ],
   "source": [
    "train_data.head()"
   ]
  },
  {
   "cell_type": "code",
   "execution_count": 4,
   "id": "295814a2",
   "metadata": {
    "execution": {
     "iopub.execute_input": "2022-11-10T05:06:07.215838Z",
     "iopub.status.busy": "2022-11-10T05:06:07.215132Z",
     "iopub.status.idle": "2022-11-10T05:06:07.227760Z",
     "shell.execute_reply": "2022-11-10T05:06:07.226433Z"
    },
    "papermill": {
     "duration": 0.023648,
     "end_time": "2022-11-10T05:06:07.230342",
     "exception": false,
     "start_time": "2022-11-10T05:06:07.206694",
     "status": "completed"
    },
    "tags": []
   },
   "outputs": [],
   "source": [
    "test_data = pd.read_csv('/kaggle/input/titanic/test.csv')"
   ]
  },
  {
   "cell_type": "markdown",
   "id": "eb8fe8cf",
   "metadata": {
    "papermill": {
     "duration": 0.007383,
     "end_time": "2022-11-10T05:06:07.245246",
     "exception": false,
     "start_time": "2022-11-10T05:06:07.237863",
     "status": "completed"
    },
    "tags": []
   },
   "source": [
    "## Data Analysis and Preprocessing:"
   ]
  },
  {
   "cell_type": "code",
   "execution_count": 5,
   "id": "2957eaa7",
   "metadata": {
    "execution": {
     "iopub.execute_input": "2022-11-10T05:06:07.264666Z",
     "iopub.status.busy": "2022-11-10T05:06:07.263687Z",
     "iopub.status.idle": "2022-11-10T05:06:07.289549Z",
     "shell.execute_reply": "2022-11-10T05:06:07.288027Z"
    },
    "papermill": {
     "duration": 0.03821,
     "end_time": "2022-11-10T05:06:07.292436",
     "exception": false,
     "start_time": "2022-11-10T05:06:07.254226",
     "status": "completed"
    },
    "tags": []
   },
   "outputs": [
    {
     "name": "stdout",
     "output_type": "stream",
     "text": [
      "<class 'pandas.core.frame.DataFrame'>\n",
      "RangeIndex: 891 entries, 0 to 890\n",
      "Data columns (total 12 columns):\n",
      " #   Column       Non-Null Count  Dtype  \n",
      "---  ------       --------------  -----  \n",
      " 0   PassengerId  891 non-null    int64  \n",
      " 1   Survived     891 non-null    int64  \n",
      " 2   Pclass       891 non-null    int64  \n",
      " 3   Name         891 non-null    object \n",
      " 4   Sex          891 non-null    object \n",
      " 5   Age          714 non-null    float64\n",
      " 6   SibSp        891 non-null    int64  \n",
      " 7   Parch        891 non-null    int64  \n",
      " 8   Ticket       891 non-null    object \n",
      " 9   Fare         891 non-null    float64\n",
      " 10  Cabin        204 non-null    object \n",
      " 11  Embarked     889 non-null    object \n",
      "dtypes: float64(2), int64(5), object(5)\n",
      "memory usage: 83.7+ KB\n"
     ]
    }
   ],
   "source": [
    "train_data.info()"
   ]
  },
  {
   "cell_type": "code",
   "execution_count": 6,
   "id": "d2f93c6b",
   "metadata": {
    "execution": {
     "iopub.execute_input": "2022-11-10T05:06:07.310566Z",
     "iopub.status.busy": "2022-11-10T05:06:07.309830Z",
     "iopub.status.idle": "2022-11-10T05:06:07.325163Z",
     "shell.execute_reply": "2022-11-10T05:06:07.324348Z"
    },
    "papermill": {
     "duration": 0.027457,
     "end_time": "2022-11-10T05:06:07.328074",
     "exception": false,
     "start_time": "2022-11-10T05:06:07.300617",
     "status": "completed"
    },
    "tags": []
   },
   "outputs": [
    {
     "name": "stdout",
     "output_type": "stream",
     "text": [
      "<class 'pandas.core.frame.DataFrame'>\n",
      "RangeIndex: 418 entries, 0 to 417\n",
      "Data columns (total 11 columns):\n",
      " #   Column       Non-Null Count  Dtype  \n",
      "---  ------       --------------  -----  \n",
      " 0   PassengerId  418 non-null    int64  \n",
      " 1   Pclass       418 non-null    int64  \n",
      " 2   Name         418 non-null    object \n",
      " 3   Sex          418 non-null    object \n",
      " 4   Age          332 non-null    float64\n",
      " 5   SibSp        418 non-null    int64  \n",
      " 6   Parch        418 non-null    int64  \n",
      " 7   Ticket       418 non-null    object \n",
      " 8   Fare         417 non-null    float64\n",
      " 9   Cabin        91 non-null     object \n",
      " 10  Embarked     418 non-null    object \n",
      "dtypes: float64(2), int64(4), object(5)\n",
      "memory usage: 36.0+ KB\n"
     ]
    }
   ],
   "source": [
    "test_data.info()"
   ]
  },
  {
   "cell_type": "markdown",
   "id": "e28d19f7",
   "metadata": {
    "papermill": {
     "duration": 0.007236,
     "end_time": "2022-11-10T05:06:07.343830",
     "exception": false,
     "start_time": "2022-11-10T05:06:07.336594",
     "status": "completed"
    },
    "tags": []
   },
   "source": [
    "### Handling NaN fields:"
   ]
  },
  {
   "cell_type": "code",
   "execution_count": 7,
   "id": "8d42e779",
   "metadata": {
    "execution": {
     "iopub.execute_input": "2022-11-10T05:06:07.362202Z",
     "iopub.status.busy": "2022-11-10T05:06:07.361465Z",
     "iopub.status.idle": "2022-11-10T05:06:07.366134Z",
     "shell.execute_reply": "2022-11-10T05:06:07.365242Z"
    },
    "papermill": {
     "duration": 0.015873,
     "end_time": "2022-11-10T05:06:07.368114",
     "exception": false,
     "start_time": "2022-11-10T05:06:07.352241",
     "status": "completed"
    },
    "tags": []
   },
   "outputs": [],
   "source": [
    "values = {\"Age\": -1, \"Cabin\": 'NA', \"Embarked\": 'NA', \"Fare\": -1}"
   ]
  },
  {
   "cell_type": "code",
   "execution_count": 8,
   "id": "c3490505",
   "metadata": {
    "execution": {
     "iopub.execute_input": "2022-11-10T05:06:07.385337Z",
     "iopub.status.busy": "2022-11-10T05:06:07.384633Z",
     "iopub.status.idle": "2022-11-10T05:06:07.390889Z",
     "shell.execute_reply": "2022-11-10T05:06:07.389998Z"
    },
    "papermill": {
     "duration": 0.017313,
     "end_time": "2022-11-10T05:06:07.392994",
     "exception": false,
     "start_time": "2022-11-10T05:06:07.375681",
     "status": "completed"
    },
    "tags": []
   },
   "outputs": [],
   "source": [
    "train = train_data.fillna(value=values)"
   ]
  },
  {
   "cell_type": "code",
   "execution_count": 9,
   "id": "33f14840",
   "metadata": {
    "execution": {
     "iopub.execute_input": "2022-11-10T05:06:07.410333Z",
     "iopub.status.busy": "2022-11-10T05:06:07.409619Z",
     "iopub.status.idle": "2022-11-10T05:06:07.415679Z",
     "shell.execute_reply": "2022-11-10T05:06:07.414720Z"
    },
    "papermill": {
     "duration": 0.017052,
     "end_time": "2022-11-10T05:06:07.417721",
     "exception": false,
     "start_time": "2022-11-10T05:06:07.400669",
     "status": "completed"
    },
    "tags": []
   },
   "outputs": [],
   "source": [
    "test = test_data.fillna(value=values)"
   ]
  },
  {
   "cell_type": "code",
   "execution_count": 10,
   "id": "ae0107b9",
   "metadata": {
    "execution": {
     "iopub.execute_input": "2022-11-10T05:06:07.434602Z",
     "iopub.status.busy": "2022-11-10T05:06:07.434137Z",
     "iopub.status.idle": "2022-11-10T05:06:07.455517Z",
     "shell.execute_reply": "2022-11-10T05:06:07.453781Z"
    },
    "papermill": {
     "duration": 0.032792,
     "end_time": "2022-11-10T05:06:07.458041",
     "exception": false,
     "start_time": "2022-11-10T05:06:07.425249",
     "status": "completed"
    },
    "tags": []
   },
   "outputs": [
    {
     "name": "stdout",
     "output_type": "stream",
     "text": [
      "<class 'pandas.core.frame.DataFrame'>\n",
      "RangeIndex: 891 entries, 0 to 890\n",
      "Data columns (total 12 columns):\n",
      " #   Column       Non-Null Count  Dtype  \n",
      "---  ------       --------------  -----  \n",
      " 0   PassengerId  891 non-null    int64  \n",
      " 1   Survived     891 non-null    int64  \n",
      " 2   Pclass       891 non-null    int64  \n",
      " 3   Name         891 non-null    object \n",
      " 4   Sex          891 non-null    object \n",
      " 5   Age          891 non-null    float64\n",
      " 6   SibSp        891 non-null    int64  \n",
      " 7   Parch        891 non-null    int64  \n",
      " 8   Ticket       891 non-null    object \n",
      " 9   Fare         891 non-null    float64\n",
      " 10  Cabin        891 non-null    object \n",
      " 11  Embarked     891 non-null    object \n",
      "dtypes: float64(2), int64(5), object(5)\n",
      "memory usage: 83.7+ KB\n",
      "None\n",
      "<class 'pandas.core.frame.DataFrame'>\n",
      "RangeIndex: 418 entries, 0 to 417\n",
      "Data columns (total 11 columns):\n",
      " #   Column       Non-Null Count  Dtype  \n",
      "---  ------       --------------  -----  \n",
      " 0   PassengerId  418 non-null    int64  \n",
      " 1   Pclass       418 non-null    int64  \n",
      " 2   Name         418 non-null    object \n",
      " 3   Sex          418 non-null    object \n",
      " 4   Age          418 non-null    float64\n",
      " 5   SibSp        418 non-null    int64  \n",
      " 6   Parch        418 non-null    int64  \n",
      " 7   Ticket       418 non-null    object \n",
      " 8   Fare         418 non-null    float64\n",
      " 9   Cabin        418 non-null    object \n",
      " 10  Embarked     418 non-null    object \n",
      "dtypes: float64(2), int64(4), object(5)\n",
      "memory usage: 36.0+ KB\n",
      "None\n"
     ]
    }
   ],
   "source": [
    "print(train.info())\n",
    "print(test.info())"
   ]
  },
  {
   "cell_type": "markdown",
   "id": "bce03119",
   "metadata": {
    "papermill": {
     "duration": 0.007675,
     "end_time": "2022-11-10T05:06:07.473702",
     "exception": false,
     "start_time": "2022-11-10T05:06:07.466027",
     "status": "completed"
    },
    "tags": []
   },
   "source": [
    "### Analysing attribute values for identifying categorical (and type of categorical) and numerical variables:"
   ]
  },
  {
   "cell_type": "code",
   "execution_count": 11,
   "id": "e763b634",
   "metadata": {
    "execution": {
     "iopub.execute_input": "2022-11-10T05:06:07.491505Z",
     "iopub.status.busy": "2022-11-10T05:06:07.490776Z",
     "iopub.status.idle": "2022-11-10T05:06:07.500776Z",
     "shell.execute_reply": "2022-11-10T05:06:07.499258Z"
    },
    "papermill": {
     "duration": 0.022097,
     "end_time": "2022-11-10T05:06:07.503475",
     "exception": false,
     "start_time": "2022-11-10T05:06:07.481378",
     "status": "completed"
    },
    "tags": []
   },
   "outputs": [
    {
     "name": "stdout",
     "output_type": "stream",
     "text": [
      "891\n",
      "418\n",
      "891\n",
      "418\n"
     ]
    }
   ],
   "source": [
    "# Shows that each name and passengerId is unique, essentially indicating that \n",
    "# Name and PassengerId would be no help in classification\n",
    "print(len(pd.unique(train.Name)))\n",
    "print(len(pd.unique(test.Name)))\n",
    "\n",
    "print(len(pd.unique(train.PassengerId)))\n",
    "print(len(pd.unique(test.PassengerId)))"
   ]
  },
  {
   "cell_type": "code",
   "execution_count": 12,
   "id": "93e430c2",
   "metadata": {
    "execution": {
     "iopub.execute_input": "2022-11-10T05:06:07.521252Z",
     "iopub.status.busy": "2022-11-10T05:06:07.520870Z",
     "iopub.status.idle": "2022-11-10T05:06:07.527927Z",
     "shell.execute_reply": "2022-11-10T05:06:07.526749Z"
    },
    "papermill": {
     "duration": 0.018852,
     "end_time": "2022-11-10T05:06:07.530479",
     "exception": false,
     "start_time": "2022-11-10T05:06:07.511627",
     "status": "completed"
    },
    "tags": []
   },
   "outputs": [
    {
     "name": "stdout",
     "output_type": "stream",
     "text": [
      "681\n",
      "363\n"
     ]
    }
   ],
   "source": [
    "print(len(pd.unique(train.Ticket)))\n",
    "print(len(pd.unique(test.Ticket)))"
   ]
  },
  {
   "cell_type": "code",
   "execution_count": 13,
   "id": "29d9f981",
   "metadata": {
    "execution": {
     "iopub.execute_input": "2022-11-10T05:06:07.552112Z",
     "iopub.status.busy": "2022-11-10T05:06:07.550477Z",
     "iopub.status.idle": "2022-11-10T05:06:07.559790Z",
     "shell.execute_reply": "2022-11-10T05:06:07.558560Z"
    },
    "papermill": {
     "duration": 0.021432,
     "end_time": "2022-11-10T05:06:07.561997",
     "exception": false,
     "start_time": "2022-11-10T05:06:07.540565",
     "status": "completed"
    },
    "tags": []
   },
   "outputs": [
    {
     "name": "stdout",
     "output_type": "stream",
     "text": [
      "248\n",
      "170\n"
     ]
    }
   ],
   "source": [
    "print(len(pd.unique(train.Fare)))\n",
    "print(len(pd.unique(test.Fare)))"
   ]
  },
  {
   "cell_type": "code",
   "execution_count": 14,
   "id": "2b2ac62f",
   "metadata": {
    "execution": {
     "iopub.execute_input": "2022-11-10T05:06:07.582431Z",
     "iopub.status.busy": "2022-11-10T05:06:07.581282Z",
     "iopub.status.idle": "2022-11-10T05:06:07.589332Z",
     "shell.execute_reply": "2022-11-10T05:06:07.588332Z"
    },
    "papermill": {
     "duration": 0.020341,
     "end_time": "2022-11-10T05:06:07.591643",
     "exception": false,
     "start_time": "2022-11-10T05:06:07.571302",
     "status": "completed"
    },
    "tags": []
   },
   "outputs": [
    {
     "name": "stdout",
     "output_type": "stream",
     "text": [
      "3\n",
      "248\n",
      "148\n"
     ]
    }
   ],
   "source": [
    "# The difference in number of unique values among these classes \n",
    "# do not leave a lot of room for considering positive correlation among them\n",
    "print(len(pd.unique(train.Pclass)))\n",
    "print(len(pd.unique(train.Fare)))\n",
    "print(len(pd.unique(train.Cabin)))"
   ]
  },
  {
   "cell_type": "code",
   "execution_count": 15,
   "id": "22f76c19",
   "metadata": {
    "execution": {
     "iopub.execute_input": "2022-11-10T05:06:07.615418Z",
     "iopub.status.busy": "2022-11-10T05:06:07.614625Z",
     "iopub.status.idle": "2022-11-10T05:06:07.623527Z",
     "shell.execute_reply": "2022-11-10T05:06:07.622101Z"
    },
    "papermill": {
     "duration": 0.023349,
     "end_time": "2022-11-10T05:06:07.626059",
     "exception": false,
     "start_time": "2022-11-10T05:06:07.602710",
     "status": "completed"
    },
    "tags": []
   },
   "outputs": [
    {
     "name": "stdout",
     "output_type": "stream",
     "text": [
      "148\n",
      "77\n",
      "681\n",
      "363\n"
     ]
    }
   ],
   "source": [
    "print(len(pd.unique(train.Cabin)))\n",
    "print(len(pd.unique(test.Cabin)))\n",
    "\n",
    "print(len(pd.unique(train.Ticket)))\n",
    "print(len(pd.unique(test.Ticket)))"
   ]
  },
  {
   "cell_type": "code",
   "execution_count": 16,
   "id": "a649671a",
   "metadata": {
    "execution": {
     "iopub.execute_input": "2022-11-10T05:06:07.644171Z",
     "iopub.status.busy": "2022-11-10T05:06:07.643765Z",
     "iopub.status.idle": "2022-11-10T05:06:07.648325Z",
     "shell.execute_reply": "2022-11-10T05:06:07.647065Z"
    },
    "papermill": {
     "duration": 0.01646,
     "end_time": "2022-11-10T05:06:07.650710",
     "exception": false,
     "start_time": "2022-11-10T05:06:07.634250",
     "status": "completed"
    },
    "tags": []
   },
   "outputs": [],
   "source": [
    "# Categorical Variables to be considered: Sex, Ticket, Cabin, Embarked\n",
    "# All are nominal categorical variables, cabin may be considered ordinal, however some passengers have multiple cabin values,\n",
    "# using dummies"
   ]
  },
  {
   "cell_type": "markdown",
   "id": "ed3e403a",
   "metadata": {
    "papermill": {
     "duration": 0.007701,
     "end_time": "2022-11-10T05:06:07.666713",
     "exception": false,
     "start_time": "2022-11-10T05:06:07.659012",
     "status": "completed"
    },
    "tags": []
   },
   "source": [
    "### Preparing input data:"
   ]
  },
  {
   "cell_type": "code",
   "execution_count": 17,
   "id": "b21cc5ed",
   "metadata": {
    "execution": {
     "iopub.execute_input": "2022-11-10T05:06:07.684697Z",
     "iopub.status.busy": "2022-11-10T05:06:07.684287Z",
     "iopub.status.idle": "2022-11-10T05:06:07.689208Z",
     "shell.execute_reply": "2022-11-10T05:06:07.688398Z"
    },
    "papermill": {
     "duration": 0.016641,
     "end_time": "2022-11-10T05:06:07.691400",
     "exception": false,
     "start_time": "2022-11-10T05:06:07.674759",
     "status": "completed"
    },
    "tags": []
   },
   "outputs": [],
   "source": [
    "# Extracting independent output variable y\n",
    "y = train[\"Survived\"]\n",
    "\n",
    "# Setting features to be used\n",
    "features = [\"Pclass\", \"Sex\", \"Age\", \"SibSp\", \"Parch\", \"Ticket\", \"Fare\", \"Cabin\", \"Embarked\"]\n"
   ]
  },
  {
   "cell_type": "code",
   "execution_count": 18,
   "id": "bf2c2ece",
   "metadata": {
    "execution": {
     "iopub.execute_input": "2022-11-10T05:06:07.714239Z",
     "iopub.status.busy": "2022-11-10T05:06:07.713031Z",
     "iopub.status.idle": "2022-11-10T05:06:07.727918Z",
     "shell.execute_reply": "2022-11-10T05:06:07.726959Z"
    },
    "papermill": {
     "duration": 0.030545,
     "end_time": "2022-11-10T05:06:07.730799",
     "exception": false,
     "start_time": "2022-11-10T05:06:07.700254",
     "status": "completed"
    },
    "tags": []
   },
   "outputs": [],
   "source": [
    "temp = train.copy()[features]\n",
    "temp_test = test.copy()[features]"
   ]
  },
  {
   "cell_type": "code",
   "execution_count": 19,
   "id": "8f372b2d",
   "metadata": {
    "execution": {
     "iopub.execute_input": "2022-11-10T05:06:07.757910Z",
     "iopub.status.busy": "2022-11-10T05:06:07.756879Z",
     "iopub.status.idle": "2022-11-10T05:06:08.800239Z",
     "shell.execute_reply": "2022-11-10T05:06:08.799177Z"
    },
    "papermill": {
     "duration": 1.059319,
     "end_time": "2022-11-10T05:06:08.802721",
     "exception": false,
     "start_time": "2022-11-10T05:06:07.743402",
     "status": "completed"
    },
    "tags": []
   },
   "outputs": [
    {
     "data": {
      "text/plain": [
       "OneHotEncoder(handle_unknown='ignore')"
      ]
     },
     "execution_count": 19,
     "metadata": {},
     "output_type": "execute_result"
    }
   ],
   "source": [
    "from sklearn.preprocessing import OneHotEncoder\n",
    "onehot_encoder = OneHotEncoder(handle_unknown='ignore')\n",
    "onehot_encoder.fit(temp)"
   ]
  },
  {
   "cell_type": "code",
   "execution_count": 20,
   "id": "44755ef2",
   "metadata": {
    "execution": {
     "iopub.execute_input": "2022-11-10T05:06:08.822004Z",
     "iopub.status.busy": "2022-11-10T05:06:08.820505Z",
     "iopub.status.idle": "2022-11-10T05:06:08.838778Z",
     "shell.execute_reply": "2022-11-10T05:06:08.837595Z"
    },
    "papermill": {
     "duration": 0.030433,
     "end_time": "2022-11-10T05:06:08.841386",
     "exception": false,
     "start_time": "2022-11-10T05:06:08.810953",
     "status": "completed"
    },
    "tags": []
   },
   "outputs": [],
   "source": [
    "\n",
    "X_train = onehot_encoder.transform(temp)\n",
    "X_test = onehot_encoder.transform(temp_test)"
   ]
  },
  {
   "cell_type": "markdown",
   "id": "543da01d",
   "metadata": {
    "papermill": {
     "duration": 0.007941,
     "end_time": "2022-11-10T05:06:08.857953",
     "exception": false,
     "start_time": "2022-11-10T05:06:08.850012",
     "status": "completed"
    },
    "tags": []
   },
   "source": [
    "## Training:"
   ]
  },
  {
   "cell_type": "code",
   "execution_count": 21,
   "id": "9f7691ff",
   "metadata": {
    "execution": {
     "iopub.execute_input": "2022-11-10T05:06:08.875732Z",
     "iopub.status.busy": "2022-11-10T05:06:08.875327Z",
     "iopub.status.idle": "2022-11-10T05:06:09.505654Z",
     "shell.execute_reply": "2022-11-10T05:06:09.504406Z"
    },
    "papermill": {
     "duration": 0.642075,
     "end_time": "2022-11-10T05:06:09.508198",
     "exception": false,
     "start_time": "2022-11-10T05:06:08.866123",
     "status": "completed"
    },
    "tags": []
   },
   "outputs": [
    {
     "data": {
      "text/plain": [
       "RandomForestClassifier()"
      ]
     },
     "execution_count": 21,
     "metadata": {},
     "output_type": "execute_result"
    }
   ],
   "source": [
    "from sklearn.ensemble import RandomForestClassifier\n",
    "model = RandomForestClassifier()\n",
    "model.fit(X_train, y)"
   ]
  },
  {
   "cell_type": "markdown",
   "id": "a955c799",
   "metadata": {
    "papermill": {
     "duration": 0.008025,
     "end_time": "2022-11-10T05:06:09.524667",
     "exception": false,
     "start_time": "2022-11-10T05:06:09.516642",
     "status": "completed"
    },
    "tags": []
   },
   "source": [
    "## Predictions:"
   ]
  },
  {
   "cell_type": "code",
   "execution_count": 22,
   "id": "182279a5",
   "metadata": {
    "execution": {
     "iopub.execute_input": "2022-11-10T05:06:09.545189Z",
     "iopub.status.busy": "2022-11-10T05:06:09.544788Z",
     "iopub.status.idle": "2022-11-10T05:06:09.585108Z",
     "shell.execute_reply": "2022-11-10T05:06:09.583313Z"
    },
    "papermill": {
     "duration": 0.055434,
     "end_time": "2022-11-10T05:06:09.588813",
     "exception": false,
     "start_time": "2022-11-10T05:06:09.533379",
     "status": "completed"
    },
    "tags": []
   },
   "outputs": [],
   "source": [
    "\n",
    "predictions = model.predict(X_test)"
   ]
  },
  {
   "cell_type": "code",
   "execution_count": 23,
   "id": "e4f5d596",
   "metadata": {
    "execution": {
     "iopub.execute_input": "2022-11-10T05:06:09.615099Z",
     "iopub.status.busy": "2022-11-10T05:06:09.614113Z",
     "iopub.status.idle": "2022-11-10T05:06:09.624649Z",
     "shell.execute_reply": "2022-11-10T05:06:09.623676Z"
    },
    "papermill": {
     "duration": 0.026924,
     "end_time": "2022-11-10T05:06:09.627184",
     "exception": false,
     "start_time": "2022-11-10T05:06:09.600260",
     "status": "completed"
    },
    "tags": []
   },
   "outputs": [
    {
     "name": "stdout",
     "output_type": "stream",
     "text": [
      "Your submission was successfully saved!\n"
     ]
    }
   ],
   "source": [
    "output = pd.DataFrame({'PassengerId': test.PassengerId, 'Survived': predictions})\n",
    "output.to_csv('submission.csv', index=False)\n",
    "print(\"Your submission was successfully saved!\")"
   ]
  },
  {
   "cell_type": "code",
   "execution_count": 24,
   "id": "efada434",
   "metadata": {
    "execution": {
     "iopub.execute_input": "2022-11-10T05:06:09.651711Z",
     "iopub.status.busy": "2022-11-10T05:06:09.650549Z",
     "iopub.status.idle": "2022-11-10T05:06:09.655638Z",
     "shell.execute_reply": "2022-11-10T05:06:09.654753Z"
    },
    "papermill": {
     "duration": 0.017463,
     "end_time": "2022-11-10T05:06:09.657889",
     "exception": false,
     "start_time": "2022-11-10T05:06:09.640426",
     "status": "completed"
    },
    "tags": []
   },
   "outputs": [],
   "source": [
    "# model.score(X, y)"
   ]
  },
  {
   "cell_type": "code",
   "execution_count": null,
   "id": "cf491bf5",
   "metadata": {
    "papermill": {
     "duration": 0.007921,
     "end_time": "2022-11-10T05:06:09.674103",
     "exception": false,
     "start_time": "2022-11-10T05:06:09.666182",
     "status": "completed"
    },
    "tags": []
   },
   "outputs": [],
   "source": []
  }
 ],
 "metadata": {
  "kernelspec": {
   "display_name": "Python 3",
   "language": "python",
   "name": "python3"
  },
  "language_info": {
   "codemirror_mode": {
    "name": "ipython",
    "version": 3
   },
   "file_extension": ".py",
   "mimetype": "text/x-python",
   "name": "python",
   "nbconvert_exporter": "python",
   "pygments_lexer": "ipython3",
   "version": "3.7.12"
  },
  "papermill": {
   "default_parameters": {},
   "duration": 11.887294,
   "end_time": "2022-11-10T05:06:10.405088",
   "environment_variables": {},
   "exception": null,
   "input_path": "__notebook__.ipynb",
   "output_path": "__notebook__.ipynb",
   "parameters": {},
   "start_time": "2022-11-10T05:05:58.517794",
   "version": "2.3.4"
  }
 },
 "nbformat": 4,
 "nbformat_minor": 5
}
